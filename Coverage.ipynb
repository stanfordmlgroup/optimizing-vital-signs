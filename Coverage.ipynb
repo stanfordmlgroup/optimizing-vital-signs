{
 "cells": [
  {
   "cell_type": "code",
   "execution_count": 1,
   "id": "07bd8f8c",
   "metadata": {},
   "outputs": [],
   "source": [
    "import pandas as pd\n",
    "import numpy as np\n",
    "import pickle\n",
    "import matplotlib.pyplot as plt"
   ]
  },
  {
   "cell_type": "markdown",
   "id": "3a6bc8cf",
   "metadata": {},
   "source": [
    "## Split Charted File"
   ]
  },
  {
   "cell_type": "code",
   "execution_count": 4,
   "id": "8d4784af",
   "metadata": {},
   "outputs": [
    {
     "name": "stdout",
     "output_type": "stream",
     "text": [
      "(462580, 18)\n"
     ]
    },
    {
     "data": {
      "text/html": [
       "<div>\n",
       "<style scoped>\n",
       "    .dataframe tbody tr th:only-of-type {\n",
       "        vertical-align: middle;\n",
       "    }\n",
       "\n",
       "    .dataframe tbody tr th {\n",
       "        vertical-align: top;\n",
       "    }\n",
       "\n",
       "    .dataframe thead th {\n",
       "        text-align: right;\n",
       "    }\n",
       "</style>\n",
       "<table border=\"1\" class=\"dataframe\">\n",
       "  <thead>\n",
       "    <tr style=\"text-align: right;\">\n",
       "      <th></th>\n",
       "      <th>Unnamed: 0</th>\n",
       "      <th>CSN</th>\n",
       "      <th>Variable</th>\n",
       "      <th>Time</th>\n",
       "      <th>Triage</th>\n",
       "      <th>Chart_filled</th>\n",
       "      <th>Charted</th>\n",
       "      <th>Monitor</th>\n",
       "      <th>Low_bound</th>\n",
       "      <th>High_bound</th>\n",
       "      <th>CSN_char</th>\n",
       "      <th>Coverage</th>\n",
       "      <th>Arrival_time</th>\n",
       "      <th>Roomed_time</th>\n",
       "      <th>Minutes_since_arrival</th>\n",
       "      <th>Arrival_to_roomed</th>\n",
       "      <th>Covered</th>\n",
       "      <th>Coverage_without</th>\n",
       "    </tr>\n",
       "  </thead>\n",
       "  <tbody>\n",
       "    <tr>\n",
       "      <th>0</th>\n",
       "      <td>0</td>\n",
       "      <td>131291536204</td>\n",
       "      <td>HR</td>\n",
       "      <td>2020-08-24T00:36:00Z</td>\n",
       "      <td>1</td>\n",
       "      <td>86.0</td>\n",
       "      <td>86.0</td>\n",
       "      <td>NaN</td>\n",
       "      <td>81.0</td>\n",
       "      <td>91.0</td>\n",
       "      <td>131291536204</td>\n",
       "      <td>0.15748</td>\n",
       "      <td>2020-08-24T00:36:00Z</td>\n",
       "      <td>2020-08-24T01:03:00Z</td>\n",
       "      <td>0</td>\n",
       "      <td>27</td>\n",
       "      <td>NaN</td>\n",
       "      <td>NaN</td>\n",
       "    </tr>\n",
       "    <tr>\n",
       "      <th>1</th>\n",
       "      <td>63</td>\n",
       "      <td>131291536204</td>\n",
       "      <td>HR</td>\n",
       "      <td>2020-08-24T02:10:00Z</td>\n",
       "      <td>0</td>\n",
       "      <td>86.0</td>\n",
       "      <td>86.0</td>\n",
       "      <td>67.474576</td>\n",
       "      <td>81.0</td>\n",
       "      <td>91.0</td>\n",
       "      <td>131291536204</td>\n",
       "      <td>0.15748</td>\n",
       "      <td>2020-08-24T00:36:00Z</td>\n",
       "      <td>2020-08-24T01:03:00Z</td>\n",
       "      <td>94</td>\n",
       "      <td>27</td>\n",
       "      <td>0.0</td>\n",
       "      <td>0.158103</td>\n",
       "    </tr>\n",
       "  </tbody>\n",
       "</table>\n",
       "</div>"
      ],
      "text/plain": [
       "   Unnamed: 0           CSN Variable                  Time  Triage  \\\n",
       "0           0  131291536204       HR  2020-08-24T00:36:00Z       1   \n",
       "1          63  131291536204       HR  2020-08-24T02:10:00Z       0   \n",
       "\n",
       "   Chart_filled  Charted    Monitor  Low_bound  High_bound      CSN_char  \\\n",
       "0          86.0     86.0        NaN       81.0        91.0  131291536204   \n",
       "1          86.0     86.0  67.474576       81.0        91.0  131291536204   \n",
       "\n",
       "   Coverage          Arrival_time           Roomed_time  \\\n",
       "0   0.15748  2020-08-24T00:36:00Z  2020-08-24T01:03:00Z   \n",
       "1   0.15748  2020-08-24T00:36:00Z  2020-08-24T01:03:00Z   \n",
       "\n",
       "   Minutes_since_arrival  Arrival_to_roomed  Covered  Coverage_without  \n",
       "0                      0                 27      NaN               NaN  \n",
       "1                     94                 27      0.0          0.158103  "
      ]
     },
     "execution_count": 4,
     "metadata": {},
     "output_type": "execute_result"
    }
   ],
   "source": [
    "# Split file into four pieces, since it is really slow\n",
    "#\n",
    "df = pd.read_csv(\"/deep/group/physiologic-states/v3/coverage_2022_02_17.charted.csv\")\n",
    "print(df.shape)\n",
    "df.head(2)"
   ]
  },
  {
   "cell_type": "code",
   "execution_count": 7,
   "id": "98ff4872",
   "metadata": {},
   "outputs": [
    {
     "name": "stdout",
     "output_type": "stream",
     "text": [
      "25956\n"
     ]
    }
   ],
   "source": [
    "csns = list(set(df[\"CSN\"].tolist()))\n",
    "print(len(csns))"
   ]
  },
  {
   "cell_type": "code",
   "execution_count": 8,
   "id": "c2ebb3aa",
   "metadata": {},
   "outputs": [
    {
     "name": "stdout",
     "output_type": "stream",
     "text": [
      "6000\n",
      "6000\n",
      "6000\n",
      "7956\n"
     ]
    }
   ],
   "source": [
    "csns_1 = set(csns[:6000])\n",
    "csns_2 = set(csns[6000:12000])\n",
    "csns_3 = set(csns[12000:18000])\n",
    "csns_4 = set(csns[18000:])\n",
    "\n",
    "print(len(csns_1))\n",
    "print(len(csns_2))\n",
    "print(len(csns_3))\n",
    "print(len(csns_4))"
   ]
  },
  {
   "cell_type": "code",
   "execution_count": 9,
   "id": "2f4ab9af",
   "metadata": {},
   "outputs": [
    {
     "name": "stdout",
     "output_type": "stream",
     "text": [
      "(106658, 18)\n",
      "(106499, 18)\n",
      "(107731, 18)\n",
      "(141692, 18)\n"
     ]
    }
   ],
   "source": [
    "df_1 = df[df[\"CSN\"].isin(csns_1)]\n",
    "print(df_1.shape)\n",
    "df_2 = df[df[\"CSN\"].isin(csns_2)]\n",
    "print(df_2.shape)\n",
    "df_3 = df[df[\"CSN\"].isin(csns_3)]\n",
    "print(df_3.shape)\n",
    "df_4 = df[df[\"CSN\"].isin(csns_4)]\n",
    "print(df_4.shape)"
   ]
  },
  {
   "cell_type": "code",
   "execution_count": 10,
   "id": "8c30f2de",
   "metadata": {},
   "outputs": [],
   "source": [
    "df_1.to_csv(\"/deep/group/physiologic-states/v3/coverage_2022_02_17.charted.1.csv\", index=False)\n",
    "df_2.to_csv(\"/deep/group/physiologic-states/v3/coverage_2022_02_17.charted.2.csv\", index=False)\n",
    "df_3.to_csv(\"/deep/group/physiologic-states/v3/coverage_2022_02_17.charted.3.csv\", index=False)\n",
    "df_4.to_csv(\"/deep/group/physiologic-states/v3/coverage_2022_02_17.charted.4.csv\", index=False)"
   ]
  },
  {
   "cell_type": "markdown",
   "id": "47b614bf",
   "metadata": {},
   "source": [
    "### Merge the files back together"
   ]
  },
  {
   "cell_type": "code",
   "execution_count": 4,
   "id": "bca7c764",
   "metadata": {},
   "outputs": [
    {
     "name": "stdout",
     "output_type": "stream",
     "text": [
      "(5994, 18)\n",
      "(5991, 18)\n",
      "(5994, 18)\n",
      "(7951, 18)\n"
     ]
    }
   ],
   "source": [
    "df_1 = pd.read_csv(\"/deep/group/physiologic-states/v3/optimizing_coverage.optimal.1.csv\")\n",
    "print(df_1.shape)\n",
    "df_2 = pd.read_csv(\"/deep/group/physiologic-states/v3/optimizing_coverage.optimal.2.csv\")\n",
    "print(df_2.shape)\n",
    "df_3 = pd.read_csv(\"/deep/group/physiologic-states/v3/optimizing_coverage.optimal.3.csv\")\n",
    "print(df_3.shape)\n",
    "df_4 = pd.read_csv(\"/deep/group/physiologic-states/v3/optimizing_coverage.optimal.4.csv\")\n",
    "print(df_4.shape)"
   ]
  },
  {
   "cell_type": "code",
   "execution_count": 5,
   "id": "57d5d07e",
   "metadata": {},
   "outputs": [
    {
     "name": "stdout",
     "output_type": "stream",
     "text": [
      "(25930, 18)\n"
     ]
    }
   ],
   "source": [
    "df = pd.concat([df_1, df_2, df_3, df_4])\n",
    "print(df.shape)"
   ]
  },
  {
   "cell_type": "code",
   "execution_count": 6,
   "id": "8f9694c2",
   "metadata": {},
   "outputs": [
    {
     "data": {
      "text/html": [
       "<div>\n",
       "<style scoped>\n",
       "    .dataframe tbody tr th:only-of-type {\n",
       "        vertical-align: middle;\n",
       "    }\n",
       "\n",
       "    .dataframe tbody tr th {\n",
       "        vertical-align: top;\n",
       "    }\n",
       "\n",
       "    .dataframe thead th {\n",
       "        text-align: right;\n",
       "    }\n",
       "</style>\n",
       "<table border=\"1\" class=\"dataframe\">\n",
       "  <thead>\n",
       "    <tr style=\"text-align: right;\">\n",
       "      <th></th>\n",
       "      <th>CSN</th>\n",
       "      <th>orig_len</th>\n",
       "      <th>orig_covered</th>\n",
       "      <th>orig_total</th>\n",
       "      <th>orig_coverage</th>\n",
       "      <th>best_len</th>\n",
       "      <th>best_covered</th>\n",
       "      <th>best_total</th>\n",
       "      <th>best_coverage</th>\n",
       "      <th>HR_covered</th>\n",
       "      <th>HR_total</th>\n",
       "      <th>RR_covered</th>\n",
       "      <th>RR_total</th>\n",
       "      <th>SpO2_covered</th>\n",
       "      <th>SpO2_total</th>\n",
       "      <th>MAP_covered</th>\n",
       "      <th>MAP_total</th>\n",
       "      <th>runtime</th>\n",
       "    </tr>\n",
       "  </thead>\n",
       "  <tbody>\n",
       "    <tr>\n",
       "      <th>0</th>\n",
       "      <td>131316325120</td>\n",
       "      <td>2</td>\n",
       "      <td>502</td>\n",
       "      <td>778</td>\n",
       "      <td>0.645244</td>\n",
       "      <td>2</td>\n",
       "      <td>1091</td>\n",
       "      <td>1260</td>\n",
       "      <td>0.865873</td>\n",
       "      <td>151</td>\n",
       "      <td>220</td>\n",
       "      <td>154</td>\n",
       "      <td>220</td>\n",
       "      <td>294</td>\n",
       "      <td>297</td>\n",
       "      <td>28</td>\n",
       "      <td>41</td>\n",
       "      <td>121.742869</td>\n",
       "    </tr>\n",
       "    <tr>\n",
       "      <th>1</th>\n",
       "      <td>131298896241</td>\n",
       "      <td>5</td>\n",
       "      <td>335</td>\n",
       "      <td>517</td>\n",
       "      <td>0.647969</td>\n",
       "      <td>2</td>\n",
       "      <td>134</td>\n",
       "      <td>134</td>\n",
       "      <td>1.000000</td>\n",
       "      <td>0</td>\n",
       "      <td>131</td>\n",
       "      <td>0</td>\n",
       "      <td>131</td>\n",
       "      <td>134</td>\n",
       "      <td>134</td>\n",
       "      <td>0</td>\n",
       "      <td>121</td>\n",
       "      <td>18.168598</td>\n",
       "    </tr>\n",
       "  </tbody>\n",
       "</table>\n",
       "</div>"
      ],
      "text/plain": [
       "            CSN  orig_len  orig_covered  orig_total  orig_coverage  best_len  \\\n",
       "0  131316325120         2           502         778       0.645244         2   \n",
       "1  131298896241         5           335         517       0.647969         2   \n",
       "\n",
       "   best_covered  best_total  best_coverage  HR_covered  HR_total  RR_covered  \\\n",
       "0          1091        1260       0.865873         151       220         154   \n",
       "1           134         134       1.000000           0       131           0   \n",
       "\n",
       "   RR_total  SpO2_covered  SpO2_total  MAP_covered  MAP_total     runtime  \n",
       "0       220           294         297           28         41  121.742869  \n",
       "1       131           134         134            0        121   18.168598  "
      ]
     },
     "execution_count": 6,
     "metadata": {},
     "output_type": "execute_result"
    }
   ],
   "source": [
    "df.head(2)"
   ]
  },
  {
   "cell_type": "code",
   "execution_count": 7,
   "id": "c0900dea",
   "metadata": {},
   "outputs": [],
   "source": [
    "df.to_csv(\"/deep/group/physiologic-states/v3/optimizing_coverage.optimal.csv\")"
   ]
  },
  {
   "cell_type": "code",
   "execution_count": null,
   "id": "0a4ce0d2",
   "metadata": {},
   "outputs": [],
   "source": []
  },
  {
   "cell_type": "code",
   "execution_count": 14,
   "id": "8b2723a1",
   "metadata": {},
   "outputs": [
    {
     "name": "stdout",
     "output_type": "stream",
     "text": [
      "25930\n"
     ]
    }
   ],
   "source": [
    "with open(\"/deep/group/physiologic-states/v3/optimizing_coverage.optimal.1.pkl\", 'rb') as f: \n",
    "    b_1 = pickle.loads(f.read())\n",
    "with open(\"/deep/group/physiologic-states/v3/optimizing_coverage.optimal.2.pkl\", 'rb') as f: \n",
    "    b_2 = pickle.loads(f.read())\n",
    "with open(\"/deep/group/physiologic-states/v3/optimizing_coverage.optimal.3.pkl\", 'rb') as f: \n",
    "    b_3 = pickle.loads(f.read())\n",
    "with open(\"/deep/group/physiologic-states/v3/optimizing_coverage.optimal.4.pkl\", 'rb') as f: \n",
    "    b_4 = pickle.loads(f.read())\n",
    "\n",
    "output_times = []\n",
    "output_times.extend(b_1[\"output_times\"])\n",
    "output_times.extend(b_2[\"output_times\"])\n",
    "output_times.extend(b_3[\"output_times\"])\n",
    "output_times.extend(b_4[\"output_times\"])\n",
    "\n",
    "print(len(output_times))"
   ]
  },
  {
   "cell_type": "code",
   "execution_count": 15,
   "id": "9d4cd385",
   "metadata": {},
   "outputs": [],
   "source": [
    "a = {\n",
    "    \"output_times\": output_times\n",
    "}\n",
    "\n",
    "with open('/deep/group/physiologic-states/v3/optimizing_coverage.optimal.pkl', 'wb') as handle:\n",
    "    pickle.dump(a, handle, protocol=pickle.HIGHEST_PROTOCOL)\n"
   ]
  },
  {
   "cell_type": "code",
   "execution_count": null,
   "id": "764e5505",
   "metadata": {},
   "outputs": [],
   "source": []
  },
  {
   "cell_type": "markdown",
   "id": "53f477ec",
   "metadata": {},
   "source": [
    "## Optimal (All)"
   ]
  },
  {
   "cell_type": "code",
   "execution_count": 8,
   "id": "bdcc8b41",
   "metadata": {},
   "outputs": [
    {
     "name": "stdout",
     "output_type": "stream",
     "text": [
      "(25930, 19)\n"
     ]
    },
    {
     "data": {
      "text/html": [
       "<div>\n",
       "<style scoped>\n",
       "    .dataframe tbody tr th:only-of-type {\n",
       "        vertical-align: middle;\n",
       "    }\n",
       "\n",
       "    .dataframe tbody tr th {\n",
       "        vertical-align: top;\n",
       "    }\n",
       "\n",
       "    .dataframe thead th {\n",
       "        text-align: right;\n",
       "    }\n",
       "</style>\n",
       "<table border=\"1\" class=\"dataframe\">\n",
       "  <thead>\n",
       "    <tr style=\"text-align: right;\">\n",
       "      <th></th>\n",
       "      <th>Unnamed: 0</th>\n",
       "      <th>CSN</th>\n",
       "      <th>orig_len</th>\n",
       "      <th>orig_covered</th>\n",
       "      <th>orig_total</th>\n",
       "      <th>orig_coverage</th>\n",
       "      <th>best_len</th>\n",
       "      <th>best_covered</th>\n",
       "      <th>best_total</th>\n",
       "      <th>best_coverage</th>\n",
       "      <th>HR_covered</th>\n",
       "      <th>HR_total</th>\n",
       "      <th>RR_covered</th>\n",
       "      <th>RR_total</th>\n",
       "      <th>SpO2_covered</th>\n",
       "      <th>SpO2_total</th>\n",
       "      <th>MAP_covered</th>\n",
       "      <th>MAP_total</th>\n",
       "      <th>runtime</th>\n",
       "    </tr>\n",
       "  </thead>\n",
       "  <tbody>\n",
       "    <tr>\n",
       "      <th>0</th>\n",
       "      <td>0</td>\n",
       "      <td>131316325120</td>\n",
       "      <td>2</td>\n",
       "      <td>502</td>\n",
       "      <td>778</td>\n",
       "      <td>0.645244</td>\n",
       "      <td>2</td>\n",
       "      <td>1091</td>\n",
       "      <td>1260</td>\n",
       "      <td>0.865873</td>\n",
       "      <td>151</td>\n",
       "      <td>220</td>\n",
       "      <td>154</td>\n",
       "      <td>220</td>\n",
       "      <td>294</td>\n",
       "      <td>297</td>\n",
       "      <td>28</td>\n",
       "      <td>41</td>\n",
       "      <td>121.742869</td>\n",
       "    </tr>\n",
       "    <tr>\n",
       "      <th>1</th>\n",
       "      <td>1</td>\n",
       "      <td>131298896241</td>\n",
       "      <td>5</td>\n",
       "      <td>335</td>\n",
       "      <td>517</td>\n",
       "      <td>0.647969</td>\n",
       "      <td>2</td>\n",
       "      <td>134</td>\n",
       "      <td>134</td>\n",
       "      <td>1.000000</td>\n",
       "      <td>0</td>\n",
       "      <td>131</td>\n",
       "      <td>0</td>\n",
       "      <td>131</td>\n",
       "      <td>134</td>\n",
       "      <td>134</td>\n",
       "      <td>0</td>\n",
       "      <td>121</td>\n",
       "      <td>18.168598</td>\n",
       "    </tr>\n",
       "    <tr>\n",
       "      <th>2</th>\n",
       "      <td>2</td>\n",
       "      <td>131316322281</td>\n",
       "      <td>2</td>\n",
       "      <td>250</td>\n",
       "      <td>539</td>\n",
       "      <td>0.463822</td>\n",
       "      <td>2</td>\n",
       "      <td>355</td>\n",
       "      <td>437</td>\n",
       "      <td>0.812357</td>\n",
       "      <td>143</td>\n",
       "      <td>154</td>\n",
       "      <td>86</td>\n",
       "      <td>154</td>\n",
       "      <td>126</td>\n",
       "      <td>141</td>\n",
       "      <td>0</td>\n",
       "      <td>90</td>\n",
       "      <td>21.507338</td>\n",
       "    </tr>\n",
       "  </tbody>\n",
       "</table>\n",
       "</div>"
      ],
      "text/plain": [
       "   Unnamed: 0           CSN  orig_len  orig_covered  orig_total  \\\n",
       "0           0  131316325120         2           502         778   \n",
       "1           1  131298896241         5           335         517   \n",
       "2           2  131316322281         2           250         539   \n",
       "\n",
       "   orig_coverage  best_len  best_covered  best_total  best_coverage  \\\n",
       "0       0.645244         2          1091        1260       0.865873   \n",
       "1       0.647969         2           134         134       1.000000   \n",
       "2       0.463822         2           355         437       0.812357   \n",
       "\n",
       "   HR_covered  HR_total  RR_covered  RR_total  SpO2_covered  SpO2_total  \\\n",
       "0         151       220         154       220           294         297   \n",
       "1           0       131           0       131           134         134   \n",
       "2         143       154          86       154           126         141   \n",
       "\n",
       "   MAP_covered  MAP_total     runtime  \n",
       "0           28         41  121.742869  \n",
       "1            0        121   18.168598  \n",
       "2            0         90   21.507338  "
      ]
     },
     "execution_count": 8,
     "metadata": {},
     "output_type": "execute_result"
    }
   ],
   "source": [
    "df = pd.read_csv(\"/deep/group/physiologic-states/v3/optimizing_coverage.optimal.csv\")\n",
    "print(df.shape)\n",
    "df.head(3)"
   ]
  },
  {
   "cell_type": "code",
   "execution_count": 9,
   "id": "fec1d0ff",
   "metadata": {},
   "outputs": [
    {
     "data": {
      "text/plain": [
       "count    25930.000000\n",
       "mean         0.609277\n",
       "std          0.149347\n",
       "min          0.000000\n",
       "25%          0.514432\n",
       "50%          0.615764\n",
       "75%          0.713847\n",
       "max          1.000000\n",
       "Name: orig_coverage, dtype: float64"
      ]
     },
     "execution_count": 9,
     "metadata": {},
     "output_type": "execute_result"
    }
   ],
   "source": [
    "df[\"orig_coverage\"].describe()"
   ]
  },
  {
   "cell_type": "code",
   "execution_count": 10,
   "id": "f7028bb6",
   "metadata": {},
   "outputs": [
    {
     "data": {
      "text/plain": [
       "count    25930.000000\n",
       "mean         0.909663\n",
       "std          0.076401\n",
       "min          0.088710\n",
       "25%          0.866667\n",
       "50%          0.923455\n",
       "75%          0.971292\n",
       "max          1.000000\n",
       "Name: best_coverage, dtype: float64"
      ]
     },
     "execution_count": 10,
     "metadata": {},
     "output_type": "execute_result"
    }
   ],
   "source": [
    "df[\"best_coverage\"].describe()"
   ]
  },
  {
   "cell_type": "code",
   "execution_count": 11,
   "id": "7b2397e2",
   "metadata": {},
   "outputs": [
    {
     "data": {
      "image/png": "[encoded data removed]",
      "text/plain": [
       "<Figure size 540x600 with 1 Axes>"
      ]
     },
     "metadata": {},
     "output_type": "display_data"
    }
   ],
   "source": [
    "fig, ax = plt.subplots(1, 1, figsize=(5.4, 6))\n",
    "# ax.set_aspect('equal')\n",
    "ax.grid(b=True, which='major', color='k', linestyle='--')\n",
    "plt.scatter(df[\"best_total\"], df[\"runtime\"], s=2)\n",
    "plt.xlabel(\"Monitoring Minutes\")\n",
    "plt.ylabel(\"Algorithm Runtime (seconds)\")\n",
    "plt.show()"
   ]
  },
  {
   "cell_type": "code",
   "execution_count": null,
   "id": "9f93d5ca",
   "metadata": {},
   "outputs": [],
   "source": []
  },
  {
   "cell_type": "markdown",
   "id": "b7f1861b",
   "metadata": {},
   "source": [
    "## Optimal (HR)"
   ]
  },
  {
   "cell_type": "code",
   "execution_count": 16,
   "id": "74b36043",
   "metadata": {},
   "outputs": [
    {
     "name": "stdout",
     "output_type": "stream",
     "text": [
      "(25940, 12)\n"
     ]
    },
    {
     "data": {
      "text/html": [
       "<div>\n",
       "<style scoped>\n",
       "    .dataframe tbody tr th:only-of-type {\n",
       "        vertical-align: middle;\n",
       "    }\n",
       "\n",
       "    .dataframe tbody tr th {\n",
       "        vertical-align: top;\n",
       "    }\n",
       "\n",
       "    .dataframe thead th {\n",
       "        text-align: right;\n",
       "    }\n",
       "</style>\n",
       "<table border=\"1\" class=\"dataframe\">\n",
       "  <thead>\n",
       "    <tr style=\"text-align: right;\">\n",
       "      <th></th>\n",
       "      <th>CSN</th>\n",
       "      <th>orig_len</th>\n",
       "      <th>orig_covered</th>\n",
       "      <th>orig_total</th>\n",
       "      <th>orig_coverage</th>\n",
       "      <th>best_len</th>\n",
       "      <th>best_covered</th>\n",
       "      <th>best_total</th>\n",
       "      <th>best_coverage</th>\n",
       "      <th>HR_covered</th>\n",
       "      <th>HR_total</th>\n",
       "      <th>runtime</th>\n",
       "    </tr>\n",
       "  </thead>\n",
       "  <tbody>\n",
       "    <tr>\n",
       "      <th>0</th>\n",
       "      <td>131307113250</td>\n",
       "      <td>3</td>\n",
       "      <td>179</td>\n",
       "      <td>310</td>\n",
       "      <td>0.577419</td>\n",
       "      <td>3</td>\n",
       "      <td>254</td>\n",
       "      <td>309</td>\n",
       "      <td>0.822006</td>\n",
       "      <td>254</td>\n",
       "      <td>310</td>\n",
       "      <td>119.385040</td>\n",
       "    </tr>\n",
       "    <tr>\n",
       "      <th>1</th>\n",
       "      <td>131305881124</td>\n",
       "      <td>2</td>\n",
       "      <td>35</td>\n",
       "      <td>53</td>\n",
       "      <td>0.660377</td>\n",
       "      <td>2</td>\n",
       "      <td>45</td>\n",
       "      <td>53</td>\n",
       "      <td>0.849057</td>\n",
       "      <td>45</td>\n",
       "      <td>53</td>\n",
       "      <td>1.414991</td>\n",
       "    </tr>\n",
       "    <tr>\n",
       "      <th>2</th>\n",
       "      <td>131308218446</td>\n",
       "      <td>4</td>\n",
       "      <td>124</td>\n",
       "      <td>147</td>\n",
       "      <td>0.843537</td>\n",
       "      <td>4</td>\n",
       "      <td>147</td>\n",
       "      <td>147</td>\n",
       "      <td>1.000000</td>\n",
       "      <td>147</td>\n",
       "      <td>147</td>\n",
       "      <td>15.513437</td>\n",
       "    </tr>\n",
       "    <tr>\n",
       "      <th>3</th>\n",
       "      <td>131307113248</td>\n",
       "      <td>2</td>\n",
       "      <td>52</td>\n",
       "      <td>52</td>\n",
       "      <td>1.000000</td>\n",
       "      <td>2</td>\n",
       "      <td>51</td>\n",
       "      <td>51</td>\n",
       "      <td>1.000000</td>\n",
       "      <td>42</td>\n",
       "      <td>52</td>\n",
       "      <td>1.566337</td>\n",
       "    </tr>\n",
       "    <tr>\n",
       "      <th>4</th>\n",
       "      <td>131305877890</td>\n",
       "      <td>4</td>\n",
       "      <td>85</td>\n",
       "      <td>125</td>\n",
       "      <td>0.680000</td>\n",
       "      <td>4</td>\n",
       "      <td>116</td>\n",
       "      <td>125</td>\n",
       "      <td>0.928000</td>\n",
       "      <td>116</td>\n",
       "      <td>125</td>\n",
       "      <td>10.058993</td>\n",
       "    </tr>\n",
       "    <tr>\n",
       "      <th>5</th>\n",
       "      <td>131308217743</td>\n",
       "      <td>2</td>\n",
       "      <td>7</td>\n",
       "      <td>8</td>\n",
       "      <td>0.875000</td>\n",
       "      <td>1</td>\n",
       "      <td>8</td>\n",
       "      <td>8</td>\n",
       "      <td>1.000000</td>\n",
       "      <td>8</td>\n",
       "      <td>8</td>\n",
       "      <td>0.242667</td>\n",
       "    </tr>\n",
       "    <tr>\n",
       "      <th>6</th>\n",
       "      <td>131307113198</td>\n",
       "      <td>3</td>\n",
       "      <td>14</td>\n",
       "      <td>97</td>\n",
       "      <td>0.144330</td>\n",
       "      <td>3</td>\n",
       "      <td>80</td>\n",
       "      <td>96</td>\n",
       "      <td>0.833333</td>\n",
       "      <td>66</td>\n",
       "      <td>97</td>\n",
       "      <td>5.692715</td>\n",
       "    </tr>\n",
       "    <tr>\n",
       "      <th>7</th>\n",
       "      <td>131305877849</td>\n",
       "      <td>16</td>\n",
       "      <td>256</td>\n",
       "      <td>352</td>\n",
       "      <td>0.727273</td>\n",
       "      <td>16</td>\n",
       "      <td>345</td>\n",
       "      <td>352</td>\n",
       "      <td>0.980114</td>\n",
       "      <td>345</td>\n",
       "      <td>352</td>\n",
       "      <td>197.605456</td>\n",
       "    </tr>\n",
       "    <tr>\n",
       "      <th>8</th>\n",
       "      <td>131308217617</td>\n",
       "      <td>4</td>\n",
       "      <td>43</td>\n",
       "      <td>118</td>\n",
       "      <td>0.364407</td>\n",
       "      <td>4</td>\n",
       "      <td>112</td>\n",
       "      <td>118</td>\n",
       "      <td>0.949153</td>\n",
       "      <td>112</td>\n",
       "      <td>118</td>\n",
       "      <td>9.181688</td>\n",
       "    </tr>\n",
       "    <tr>\n",
       "      <th>9</th>\n",
       "      <td>131307113081</td>\n",
       "      <td>3</td>\n",
       "      <td>13</td>\n",
       "      <td>90</td>\n",
       "      <td>0.144444</td>\n",
       "      <td>3</td>\n",
       "      <td>87</td>\n",
       "      <td>89</td>\n",
       "      <td>0.977528</td>\n",
       "      <td>87</td>\n",
       "      <td>90</td>\n",
       "      <td>4.559372</td>\n",
       "    </tr>\n",
       "  </tbody>\n",
       "</table>\n",
       "</div>"
      ],
      "text/plain": [
       "            CSN  orig_len  orig_covered  orig_total  orig_coverage  best_len  \\\n",
       "0  131307113250         3           179         310       0.577419         3   \n",
       "1  131305881124         2            35          53       0.660377         2   \n",
       "2  131308218446         4           124         147       0.843537         4   \n",
       "3  131307113248         2            52          52       1.000000         2   \n",
       "4  131305877890         4            85         125       0.680000         4   \n",
       "5  131308217743         2             7           8       0.875000         1   \n",
       "6  131307113198         3            14          97       0.144330         3   \n",
       "7  131305877849        16           256         352       0.727273        16   \n",
       "8  131308217617         4            43         118       0.364407         4   \n",
       "9  131307113081         3            13          90       0.144444         3   \n",
       "\n",
       "   best_covered  best_total  best_coverage  HR_covered  HR_total     runtime  \n",
       "0           254         309       0.822006         254       310  119.385040  \n",
       "1            45          53       0.849057          45        53    1.414991  \n",
       "2           147         147       1.000000         147       147   15.513437  \n",
       "3            51          51       1.000000          42        52    1.566337  \n",
       "4           116         125       0.928000         116       125   10.058993  \n",
       "5             8           8       1.000000           8         8    0.242667  \n",
       "6            80          96       0.833333          66        97    5.692715  \n",
       "7           345         352       0.980114         345       352  197.605456  \n",
       "8           112         118       0.949153         112       118    9.181688  \n",
       "9            87          89       0.977528          87        90    4.559372  "
      ]
     },
     "execution_count": 16,
     "metadata": {},
     "output_type": "execute_result"
    }
   ],
   "source": [
    "df = pd.read_csv(\"/deep/group/physiologic-states/v3/optimizing_coverage.optimal.hr.csv\")\n",
    "print(df.shape)\n",
    "df.head(10)"
   ]
  },
  {
   "cell_type": "code",
   "execution_count": 17,
   "id": "6ca16de7",
   "metadata": {},
   "outputs": [
    {
     "data": {
      "text/plain": [
       "count    25940.000000\n",
       "mean         0.516290\n",
       "std          0.281298\n",
       "min          0.000000\n",
       "25%          0.293817\n",
       "50%          0.517588\n",
       "75%          0.745507\n",
       "max          1.000000\n",
       "Name: orig_coverage, dtype: float64"
      ]
     },
     "execution_count": 17,
     "metadata": {},
     "output_type": "execute_result"
    }
   ],
   "source": [
    "df[\"orig_coverage\"].describe()"
   ]
  },
  {
   "cell_type": "code",
   "execution_count": 18,
   "id": "67edd3fb",
   "metadata": {},
   "outputs": [
    {
     "data": {
      "text/plain": [
       "count    25940.000000\n",
       "mean         0.918630\n",
       "std          0.100743\n",
       "min          0.300000\n",
       "25%          0.878049\n",
       "50%          0.956204\n",
       "75%          1.000000\n",
       "max          1.000000\n",
       "Name: best_coverage, dtype: float64"
      ]
     },
     "execution_count": 18,
     "metadata": {},
     "output_type": "execute_result"
    }
   ],
   "source": [
    "df[\"best_coverage\"].describe()"
   ]
  },
  {
   "cell_type": "code",
   "execution_count": 24,
   "id": "bd9f5619",
   "metadata": {},
   "outputs": [
    {
     "data": {
      "image/png": "[encoded data removed]",
      "text/plain": [
       "<Figure size 540x600 with 1 Axes>"
      ]
     },
     "metadata": {},
     "output_type": "display_data"
    }
   ],
   "source": [
    "fig, ax = plt.subplots(1, 1, figsize=(5.4, 6))\n",
    "# ax.set_aspect('equal')\n",
    "ax.grid(b=True, which='major', color='k', linestyle='--')\n",
    "plt.scatter(df[\"best_total\"], df[\"runtime\"], s=2)\n",
    "plt.xlabel(\"Monitoring Minutes\")\n",
    "plt.ylabel(\"Algorithm Runtime (seconds)\")\n",
    "plt.show()"
   ]
  },
  {
   "cell_type": "markdown",
   "id": "e7901d40",
   "metadata": {},
   "source": [
    "## Optimal (RR)"
   ]
  },
  {
   "cell_type": "code",
   "execution_count": 19,
   "id": "6e6358bb",
   "metadata": {},
   "outputs": [
    {
     "name": "stdout",
     "output_type": "stream",
     "text": [
      "(25864, 12)\n"
     ]
    },
    {
     "data": {
      "text/html": [
       "<div>\n",
       "<style scoped>\n",
       "    .dataframe tbody tr th:only-of-type {\n",
       "        vertical-align: middle;\n",
       "    }\n",
       "\n",
       "    .dataframe tbody tr th {\n",
       "        vertical-align: top;\n",
       "    }\n",
       "\n",
       "    .dataframe thead th {\n",
       "        text-align: right;\n",
       "    }\n",
       "</style>\n",
       "<table border=\"1\" class=\"dataframe\">\n",
       "  <thead>\n",
       "    <tr style=\"text-align: right;\">\n",
       "      <th></th>\n",
       "      <th>CSN</th>\n",
       "      <th>orig_len</th>\n",
       "      <th>orig_covered</th>\n",
       "      <th>orig_total</th>\n",
       "      <th>orig_coverage</th>\n",
       "      <th>best_len</th>\n",
       "      <th>best_covered</th>\n",
       "      <th>best_total</th>\n",
       "      <th>best_coverage</th>\n",
       "      <th>RR_covered</th>\n",
       "      <th>RR_total</th>\n",
       "      <th>runtime</th>\n",
       "    </tr>\n",
       "  </thead>\n",
       "  <tbody>\n",
       "    <tr>\n",
       "      <th>0</th>\n",
       "      <td>131293745562</td>\n",
       "      <td>3</td>\n",
       "      <td>54</td>\n",
       "      <td>197</td>\n",
       "      <td>0.274112</td>\n",
       "      <td>3</td>\n",
       "      <td>122</td>\n",
       "      <td>197</td>\n",
       "      <td>0.619289</td>\n",
       "      <td>122</td>\n",
       "      <td>197</td>\n",
       "      <td>29.410137</td>\n",
       "    </tr>\n",
       "    <tr>\n",
       "      <th>1</th>\n",
       "      <td>131295260109</td>\n",
       "      <td>6</td>\n",
       "      <td>64</td>\n",
       "      <td>160</td>\n",
       "      <td>0.400000</td>\n",
       "      <td>6</td>\n",
       "      <td>154</td>\n",
       "      <td>160</td>\n",
       "      <td>0.962500</td>\n",
       "      <td>154</td>\n",
       "      <td>160</td>\n",
       "      <td>17.611413</td>\n",
       "    </tr>\n",
       "  </tbody>\n",
       "</table>\n",
       "</div>"
      ],
      "text/plain": [
       "            CSN  orig_len  orig_covered  orig_total  orig_coverage  best_len  \\\n",
       "0  131293745562         3            54         197       0.274112         3   \n",
       "1  131295260109         6            64         160       0.400000         6   \n",
       "\n",
       "   best_covered  best_total  best_coverage  RR_covered  RR_total    runtime  \n",
       "0           122         197       0.619289         122       197  29.410137  \n",
       "1           154         160       0.962500         154       160  17.611413  "
      ]
     },
     "execution_count": 19,
     "metadata": {},
     "output_type": "execute_result"
    }
   ],
   "source": [
    "df = pd.read_csv(\"/deep/group/physiologic-states/v3/optimizing_coverage.optimal.rr.csv\")\n",
    "print(df.shape)\n",
    "df.head(2)"
   ]
  },
  {
   "cell_type": "code",
   "execution_count": 20,
   "id": "5248874c",
   "metadata": {},
   "outputs": [
    {
     "data": {
      "text/plain": [
       "count    25864.000000\n",
       "mean         0.531137\n",
       "std          0.227655\n",
       "min          0.000000\n",
       "25%          0.368767\n",
       "50%          0.545455\n",
       "75%          0.707317\n",
       "max          1.000000\n",
       "Name: orig_coverage, dtype: float64"
      ]
     },
     "execution_count": 20,
     "metadata": {},
     "output_type": "execute_result"
    }
   ],
   "source": [
    "df[\"orig_coverage\"].describe()"
   ]
  },
  {
   "cell_type": "code",
   "execution_count": 21,
   "id": "40b28feb",
   "metadata": {},
   "outputs": [
    {
     "data": {
      "text/plain": [
       "count    25864.000000\n",
       "mean         0.864361\n",
       "std          0.098686\n",
       "min          0.112676\n",
       "25%          0.807692\n",
       "50%          0.881481\n",
       "75%          0.938776\n",
       "max          1.000000\n",
       "Name: best_coverage, dtype: float64"
      ]
     },
     "execution_count": 21,
     "metadata": {},
     "output_type": "execute_result"
    }
   ],
   "source": [
    "df[\"best_coverage\"].describe()"
   ]
  },
  {
   "cell_type": "code",
   "execution_count": 29,
   "id": "7fde32d7",
   "metadata": {},
   "outputs": [
    {
     "data": {
      "image/png": "[encoded data removed]",
      "text/plain": [
       "<Figure size 540x600 with 1 Axes>"
      ]
     },
     "metadata": {},
     "output_type": "display_data"
    }
   ],
   "source": [
    "fig, ax = plt.subplots(1, 1, figsize=(5.4, 6))\n",
    "# ax.set_aspect('equal')\n",
    "ax.grid(b=True, which='major', color='k', linestyle='--')\n",
    "plt.scatter(df[\"best_total\"], df[\"runtime\"], s=2)\n",
    "plt.xlabel(\"Monitoring Minutes\")\n",
    "plt.ylabel(\"Algorithm Runtime (seconds)\")\n",
    "plt.show()"
   ]
  },
  {
   "cell_type": "code",
   "execution_count": null,
   "id": "d86efd80",
   "metadata": {},
   "outputs": [],
   "source": []
  },
  {
   "cell_type": "code",
   "execution_count": null,
   "id": "1eebabf2",
   "metadata": {},
   "outputs": [],
   "source": []
  },
  {
   "cell_type": "markdown",
   "id": "54bd5189",
   "metadata": {},
   "source": [
    "## Optimal (SpO2)"
   ]
  },
  {
   "cell_type": "code",
   "execution_count": 22,
   "id": "fc646f03",
   "metadata": {},
   "outputs": [
    {
     "name": "stdout",
     "output_type": "stream",
     "text": [
      "(25921, 12)\n"
     ]
    },
    {
     "data": {
      "text/html": [
       "<div>\n",
       "<style scoped>\n",
       "    .dataframe tbody tr th:only-of-type {\n",
       "        vertical-align: middle;\n",
       "    }\n",
       "\n",
       "    .dataframe tbody tr th {\n",
       "        vertical-align: top;\n",
       "    }\n",
       "\n",
       "    .dataframe thead th {\n",
       "        text-align: right;\n",
       "    }\n",
       "</style>\n",
       "<table border=\"1\" class=\"dataframe\">\n",
       "  <thead>\n",
       "    <tr style=\"text-align: right;\">\n",
       "      <th></th>\n",
       "      <th>CSN</th>\n",
       "      <th>orig_len</th>\n",
       "      <th>orig_covered</th>\n",
       "      <th>orig_total</th>\n",
       "      <th>orig_coverage</th>\n",
       "      <th>best_len</th>\n",
       "      <th>best_covered</th>\n",
       "      <th>best_total</th>\n",
       "      <th>best_coverage</th>\n",
       "      <th>SpO2_covered</th>\n",
       "      <th>SpO2_total</th>\n",
       "      <th>runtime</th>\n",
       "    </tr>\n",
       "  </thead>\n",
       "  <tbody>\n",
       "    <tr>\n",
       "      <th>0</th>\n",
       "      <td>131300927769</td>\n",
       "      <td>3</td>\n",
       "      <td>216</td>\n",
       "      <td>228</td>\n",
       "      <td>0.947368</td>\n",
       "      <td>3</td>\n",
       "      <td>224</td>\n",
       "      <td>228</td>\n",
       "      <td>0.982456</td>\n",
       "      <td>224</td>\n",
       "      <td>228</td>\n",
       "      <td>38.987413</td>\n",
       "    </tr>\n",
       "    <tr>\n",
       "      <th>1</th>\n",
       "      <td>131318008939</td>\n",
       "      <td>3</td>\n",
       "      <td>89</td>\n",
       "      <td>89</td>\n",
       "      <td>1.000000</td>\n",
       "      <td>3</td>\n",
       "      <td>89</td>\n",
       "      <td>89</td>\n",
       "      <td>1.000000</td>\n",
       "      <td>89</td>\n",
       "      <td>89</td>\n",
       "      <td>3.539781</td>\n",
       "    </tr>\n",
       "  </tbody>\n",
       "</table>\n",
       "</div>"
      ],
      "text/plain": [
       "            CSN  orig_len  orig_covered  orig_total  orig_coverage  best_len  \\\n",
       "0  131300927769         3           216         228       0.947368         3   \n",
       "1  131318008939         3            89          89       1.000000         3   \n",
       "\n",
       "   best_covered  best_total  best_coverage  SpO2_covered  SpO2_total  \\\n",
       "0           224         228       0.982456           224         228   \n",
       "1            89          89       1.000000            89          89   \n",
       "\n",
       "     runtime  \n",
       "0  38.987413  \n",
       "1   3.539781  "
      ]
     },
     "execution_count": 22,
     "metadata": {},
     "output_type": "execute_result"
    }
   ],
   "source": [
    "df = pd.read_csv(\"/deep/group/physiologic-states/v3/optimizing_coverage.optimal.spo2.csv\")\n",
    "print(df.shape)\n",
    "df.head(2)"
   ]
  },
  {
   "cell_type": "code",
   "execution_count": 23,
   "id": "33d03b5e",
   "metadata": {},
   "outputs": [
    {
     "data": {
      "text/plain": [
       "count    25921.000000\n",
       "mean         0.780795\n",
       "std          0.237775\n",
       "min          0.000000\n",
       "25%          0.654135\n",
       "50%          0.866667\n",
       "75%          0.975709\n",
       "max          1.000000\n",
       "Name: orig_coverage, dtype: float64"
      ]
     },
     "execution_count": 23,
     "metadata": {},
     "output_type": "execute_result"
    }
   ],
   "source": [
    "df[\"orig_coverage\"].describe()"
   ]
  },
  {
   "cell_type": "code",
   "execution_count": 24,
   "id": "b9b59279",
   "metadata": {},
   "outputs": [
    {
     "data": {
      "text/plain": [
       "count    25921.000000\n",
       "mean         0.975467\n",
       "std          0.056090\n",
       "min          0.007246\n",
       "25%          0.978261\n",
       "50%          1.000000\n",
       "75%          1.000000\n",
       "max          1.000000\n",
       "Name: best_coverage, dtype: float64"
      ]
     },
     "execution_count": 24,
     "metadata": {},
     "output_type": "execute_result"
    }
   ],
   "source": [
    "df[\"best_coverage\"].describe()"
   ]
  },
  {
   "cell_type": "code",
   "execution_count": 32,
   "id": "15babe94",
   "metadata": {},
   "outputs": [
    {
     "data": {
      "image/png": "[encoded data removed]",
      "text/plain": [
       "<Figure size 540x600 with 1 Axes>"
      ]
     },
     "metadata": {},
     "output_type": "display_data"
    }
   ],
   "source": [
    "fig, ax = plt.subplots(1, 1, figsize=(5.4, 6))\n",
    "# ax.set_aspect('equal')\n",
    "ax.grid(b=True, which='major', color='k', linestyle='--')\n",
    "plt.scatter(df[\"best_total\"], df[\"runtime\"], s=2)\n",
    "plt.xlabel(\"Monitoring Minutes\")\n",
    "plt.ylabel(\"Algorithm Runtime (seconds)\")\n",
    "plt.show()"
   ]
  },
  {
   "cell_type": "code",
   "execution_count": null,
   "id": "a3b5aa87",
   "metadata": {},
   "outputs": [],
   "source": []
  },
  {
   "cell_type": "code",
   "execution_count": null,
   "id": "7b1b5815",
   "metadata": {},
   "outputs": [],
   "source": []
  },
  {
   "cell_type": "markdown",
   "id": "b82930ea",
   "metadata": {},
   "source": [
    "## Optimal (MAP)"
   ]
  },
  {
   "cell_type": "code",
   "execution_count": 25,
   "id": "e0406ff7",
   "metadata": {},
   "outputs": [
    {
     "name": "stdout",
     "output_type": "stream",
     "text": [
      "(24532, 12)\n"
     ]
    },
    {
     "data": {
      "text/html": [
       "<div>\n",
       "<style scoped>\n",
       "    .dataframe tbody tr th:only-of-type {\n",
       "        vertical-align: middle;\n",
       "    }\n",
       "\n",
       "    .dataframe tbody tr th {\n",
       "        vertical-align: top;\n",
       "    }\n",
       "\n",
       "    .dataframe thead th {\n",
       "        text-align: right;\n",
       "    }\n",
       "</style>\n",
       "<table border=\"1\" class=\"dataframe\">\n",
       "  <thead>\n",
       "    <tr style=\"text-align: right;\">\n",
       "      <th></th>\n",
       "      <th>CSN</th>\n",
       "      <th>orig_len</th>\n",
       "      <th>orig_covered</th>\n",
       "      <th>orig_total</th>\n",
       "      <th>orig_coverage</th>\n",
       "      <th>best_len</th>\n",
       "      <th>best_covered</th>\n",
       "      <th>best_total</th>\n",
       "      <th>best_coverage</th>\n",
       "      <th>MAP_covered</th>\n",
       "      <th>MAP_total</th>\n",
       "      <th>runtime</th>\n",
       "    </tr>\n",
       "  </thead>\n",
       "  <tbody>\n",
       "    <tr>\n",
       "      <th>0</th>\n",
       "      <td>131309115537</td>\n",
       "      <td>2</td>\n",
       "      <td>76</td>\n",
       "      <td>76</td>\n",
       "      <td>1.000000</td>\n",
       "      <td>1</td>\n",
       "      <td>76</td>\n",
       "      <td>76</td>\n",
       "      <td>1.000000</td>\n",
       "      <td>76</td>\n",
       "      <td>76</td>\n",
       "      <td>2.295320</td>\n",
       "    </tr>\n",
       "    <tr>\n",
       "      <th>1</th>\n",
       "      <td>131311166697</td>\n",
       "      <td>3</td>\n",
       "      <td>9</td>\n",
       "      <td>9</td>\n",
       "      <td>1.000000</td>\n",
       "      <td>1</td>\n",
       "      <td>9</td>\n",
       "      <td>9</td>\n",
       "      <td>1.000000</td>\n",
       "      <td>9</td>\n",
       "      <td>9</td>\n",
       "      <td>0.196519</td>\n",
       "    </tr>\n",
       "    <tr>\n",
       "      <th>2</th>\n",
       "      <td>131309113876</td>\n",
       "      <td>2</td>\n",
       "      <td>21</td>\n",
       "      <td>50</td>\n",
       "      <td>0.420000</td>\n",
       "      <td>2</td>\n",
       "      <td>35</td>\n",
       "      <td>50</td>\n",
       "      <td>0.700000</td>\n",
       "      <td>35</td>\n",
       "      <td>50</td>\n",
       "      <td>1.027970</td>\n",
       "    </tr>\n",
       "    <tr>\n",
       "      <th>3</th>\n",
       "      <td>131311165589</td>\n",
       "      <td>3</td>\n",
       "      <td>1</td>\n",
       "      <td>27</td>\n",
       "      <td>0.037037</td>\n",
       "      <td>1</td>\n",
       "      <td>26</td>\n",
       "      <td>27</td>\n",
       "      <td>0.962963</td>\n",
       "      <td>26</td>\n",
       "      <td>27</td>\n",
       "      <td>0.267938</td>\n",
       "    </tr>\n",
       "    <tr>\n",
       "      <th>4</th>\n",
       "      <td>131309111939</td>\n",
       "      <td>4</td>\n",
       "      <td>33</td>\n",
       "      <td>61</td>\n",
       "      <td>0.540984</td>\n",
       "      <td>2</td>\n",
       "      <td>61</td>\n",
       "      <td>61</td>\n",
       "      <td>1.000000</td>\n",
       "      <td>61</td>\n",
       "      <td>61</td>\n",
       "      <td>1.481304</td>\n",
       "    </tr>\n",
       "    <tr>\n",
       "      <th>5</th>\n",
       "      <td>131311165108</td>\n",
       "      <td>6</td>\n",
       "      <td>131</td>\n",
       "      <td>163</td>\n",
       "      <td>0.803681</td>\n",
       "      <td>5</td>\n",
       "      <td>163</td>\n",
       "      <td>163</td>\n",
       "      <td>1.000000</td>\n",
       "      <td>163</td>\n",
       "      <td>163</td>\n",
       "      <td>16.087948</td>\n",
       "    </tr>\n",
       "    <tr>\n",
       "      <th>6</th>\n",
       "      <td>131309111274</td>\n",
       "      <td>2</td>\n",
       "      <td>289</td>\n",
       "      <td>350</td>\n",
       "      <td>0.825714</td>\n",
       "      <td>2</td>\n",
       "      <td>350</td>\n",
       "      <td>350</td>\n",
       "      <td>1.000000</td>\n",
       "      <td>350</td>\n",
       "      <td>350</td>\n",
       "      <td>89.848144</td>\n",
       "    </tr>\n",
       "    <tr>\n",
       "      <th>7</th>\n",
       "      <td>131311164825</td>\n",
       "      <td>6</td>\n",
       "      <td>120</td>\n",
       "      <td>121</td>\n",
       "      <td>0.991736</td>\n",
       "      <td>1</td>\n",
       "      <td>120</td>\n",
       "      <td>121</td>\n",
       "      <td>0.991736</td>\n",
       "      <td>120</td>\n",
       "      <td>121</td>\n",
       "      <td>5.949802</td>\n",
       "    </tr>\n",
       "    <tr>\n",
       "      <th>8</th>\n",
       "      <td>131309108000</td>\n",
       "      <td>3</td>\n",
       "      <td>40</td>\n",
       "      <td>71</td>\n",
       "      <td>0.563380</td>\n",
       "      <td>3</td>\n",
       "      <td>70</td>\n",
       "      <td>71</td>\n",
       "      <td>0.985915</td>\n",
       "      <td>70</td>\n",
       "      <td>71</td>\n",
       "      <td>2.133740</td>\n",
       "    </tr>\n",
       "    <tr>\n",
       "      <th>9</th>\n",
       "      <td>131309107473</td>\n",
       "      <td>3</td>\n",
       "      <td>28</td>\n",
       "      <td>104</td>\n",
       "      <td>0.269231</td>\n",
       "      <td>3</td>\n",
       "      <td>102</td>\n",
       "      <td>103</td>\n",
       "      <td>0.990291</td>\n",
       "      <td>73</td>\n",
       "      <td>104</td>\n",
       "      <td>5.661743</td>\n",
       "    </tr>\n",
       "  </tbody>\n",
       "</table>\n",
       "</div>"
      ],
      "text/plain": [
       "            CSN  orig_len  orig_covered  orig_total  orig_coverage  best_len  \\\n",
       "0  131309115537         2            76          76       1.000000         1   \n",
       "1  131311166697         3             9           9       1.000000         1   \n",
       "2  131309113876         2            21          50       0.420000         2   \n",
       "3  131311165589         3             1          27       0.037037         1   \n",
       "4  131309111939         4            33          61       0.540984         2   \n",
       "5  131311165108         6           131         163       0.803681         5   \n",
       "6  131309111274         2           289         350       0.825714         2   \n",
       "7  131311164825         6           120         121       0.991736         1   \n",
       "8  131309108000         3            40          71       0.563380         3   \n",
       "9  131309107473         3            28         104       0.269231         3   \n",
       "\n",
       "   best_covered  best_total  best_coverage  MAP_covered  MAP_total    runtime  \n",
       "0            76          76       1.000000           76         76   2.295320  \n",
       "1             9           9       1.000000            9          9   0.196519  \n",
       "2            35          50       0.700000           35         50   1.027970  \n",
       "3            26          27       0.962963           26         27   0.267938  \n",
       "4            61          61       1.000000           61         61   1.481304  \n",
       "5           163         163       1.000000          163        163  16.087948  \n",
       "6           350         350       1.000000          350        350  89.848144  \n",
       "7           120         121       0.991736          120        121   5.949802  \n",
       "8            70          71       0.985915           70         71   2.133740  \n",
       "9           102         103       0.990291           73        104   5.661743  "
      ]
     },
     "execution_count": 25,
     "metadata": {},
     "output_type": "execute_result"
    }
   ],
   "source": [
    "df = pd.read_csv(\"/deep/group/physiologic-states/v3/optimizing_coverage.optimal.map.csv\")\n",
    "print(df.shape)\n",
    "df.head(10)"
   ]
  },
  {
   "cell_type": "code",
   "execution_count": 26,
   "id": "83f4e0f4",
   "metadata": {},
   "outputs": [
    {
     "data": {
      "text/plain": [
       "count    24532.000000\n",
       "mean         0.570294\n",
       "std          0.300577\n",
       "min          0.000000\n",
       "25%          0.337314\n",
       "50%          0.589286\n",
       "75%          0.829949\n",
       "max          1.000000\n",
       "Name: orig_coverage, dtype: float64"
      ]
     },
     "execution_count": 26,
     "metadata": {},
     "output_type": "execute_result"
    }
   ],
   "source": [
    "df[\"orig_coverage\"].describe()"
   ]
  },
  {
   "cell_type": "code",
   "execution_count": 27,
   "id": "756c0a72",
   "metadata": {},
   "outputs": [
    {
     "data": {
      "text/plain": [
       "count    24532.000000\n",
       "mean         0.963639\n",
       "std          0.077743\n",
       "min          0.041451\n",
       "25%          0.975000\n",
       "50%          1.000000\n",
       "75%          1.000000\n",
       "max          1.000000\n",
       "Name: best_coverage, dtype: float64"
      ]
     },
     "execution_count": 27,
     "metadata": {},
     "output_type": "execute_result"
    }
   ],
   "source": [
    "df[\"best_coverage\"].describe()"
   ]
  },
  {
   "cell_type": "code",
   "execution_count": null,
   "id": "11b5c328",
   "metadata": {},
   "outputs": [],
   "source": []
  },
  {
   "cell_type": "code",
   "execution_count": 34,
   "id": "4f22e978",
   "metadata": {},
   "outputs": [
    {
     "data": {
      "image/png": "[encoded data removed]",
      "text/plain": [
       "<Figure size 540x600 with 1 Axes>"
      ]
     },
     "metadata": {},
     "output_type": "display_data"
    }
   ],
   "source": [
    "fig, ax = plt.subplots(1, 1, figsize=(5.4, 6))\n",
    "# ax.set_aspect('equal')\n",
    "ax.grid(b=True, which='major', color='k', linestyle='--')\n",
    "plt.scatter(df[\"best_total\"], df[\"runtime\"], s=2)\n",
    "plt.xlabel(\"Monitoring Minutes\")\n",
    "plt.ylabel(\"Algorithm Runtime (seconds)\")\n",
    "plt.show()"
   ]
  },
  {
   "cell_type": "code",
   "execution_count": null,
   "id": "ca23f8c7",
   "metadata": {},
   "outputs": [],
   "source": []
  },
  {
   "cell_type": "code",
   "execution_count": null,
   "id": "ca929fbc",
   "metadata": {},
   "outputs": [],
   "source": []
  },
  {
   "cell_type": "code",
   "execution_count": null,
   "id": "f020f102",
   "metadata": {},
   "outputs": [],
   "source": []
  },
  {
   "cell_type": "markdown",
   "id": "0bdf1378",
   "metadata": {},
   "source": [
    "## Population (All)"
   ]
  },
  {
   "cell_type": "code",
   "execution_count": 35,
   "id": "e721c787",
   "metadata": {},
   "outputs": [
    {
     "name": "stdout",
     "output_type": "stream",
     "text": [
      "(25830, 18)\n"
     ]
    },
    {
     "data": {
      "text/html": [
       "<div>\n",
       "<style scoped>\n",
       "    .dataframe tbody tr th:only-of-type {\n",
       "        vertical-align: middle;\n",
       "    }\n",
       "\n",
       "    .dataframe tbody tr th {\n",
       "        vertical-align: top;\n",
       "    }\n",
       "\n",
       "    .dataframe thead th {\n",
       "        text-align: right;\n",
       "    }\n",
       "</style>\n",
       "<table border=\"1\" class=\"dataframe\">\n",
       "  <thead>\n",
       "    <tr style=\"text-align: right;\">\n",
       "      <th></th>\n",
       "      <th>CSN</th>\n",
       "      <th>orig_len</th>\n",
       "      <th>orig_covered</th>\n",
       "      <th>orig_total</th>\n",
       "      <th>orig_coverage</th>\n",
       "      <th>best_len</th>\n",
       "      <th>best_covered</th>\n",
       "      <th>best_total</th>\n",
       "      <th>best_coverage</th>\n",
       "      <th>HR_covered</th>\n",
       "      <th>HR_total</th>\n",
       "      <th>RR_covered</th>\n",
       "      <th>RR_total</th>\n",
       "      <th>SpO2_covered</th>\n",
       "      <th>SpO2_total</th>\n",
       "      <th>MAP_covered</th>\n",
       "      <th>MAP_total</th>\n",
       "      <th>runtime</th>\n",
       "    </tr>\n",
       "  </thead>\n",
       "  <tbody>\n",
       "    <tr>\n",
       "      <th>0</th>\n",
       "      <td>131305340187</td>\n",
       "      <td>6</td>\n",
       "      <td>718</td>\n",
       "      <td>1190</td>\n",
       "      <td>0.603361</td>\n",
       "      <td>6</td>\n",
       "      <td>1049</td>\n",
       "      <td>1190</td>\n",
       "      <td>0.881513</td>\n",
       "      <td>281</td>\n",
       "      <td>298</td>\n",
       "      <td>265</td>\n",
       "      <td>293</td>\n",
       "      <td>276</td>\n",
       "      <td>304</td>\n",
       "      <td>227</td>\n",
       "      <td>295</td>\n",
       "      <td>63.234995</td>\n",
       "    </tr>\n",
       "    <tr>\n",
       "      <th>1</th>\n",
       "      <td>131295823551</td>\n",
       "      <td>4</td>\n",
       "      <td>683</td>\n",
       "      <td>1130</td>\n",
       "      <td>0.604425</td>\n",
       "      <td>4</td>\n",
       "      <td>922</td>\n",
       "      <td>1130</td>\n",
       "      <td>0.815929</td>\n",
       "      <td>199</td>\n",
       "      <td>217</td>\n",
       "      <td>142</td>\n",
       "      <td>217</td>\n",
       "      <td>260</td>\n",
       "      <td>351</td>\n",
       "      <td>321</td>\n",
       "      <td>345</td>\n",
       "      <td>69.240899</td>\n",
       "    </tr>\n",
       "    <tr>\n",
       "      <th>2</th>\n",
       "      <td>131318324804</td>\n",
       "      <td>3</td>\n",
       "      <td>321</td>\n",
       "      <td>371</td>\n",
       "      <td>0.865229</td>\n",
       "      <td>3</td>\n",
       "      <td>353</td>\n",
       "      <td>371</td>\n",
       "      <td>0.951482</td>\n",
       "      <td>98</td>\n",
       "      <td>102</td>\n",
       "      <td>89</td>\n",
       "      <td>102</td>\n",
       "      <td>102</td>\n",
       "      <td>102</td>\n",
       "      <td>64</td>\n",
       "      <td>65</td>\n",
       "      <td>22.002185</td>\n",
       "    </tr>\n",
       "    <tr>\n",
       "      <th>3</th>\n",
       "      <td>131305338991</td>\n",
       "      <td>9</td>\n",
       "      <td>427</td>\n",
       "      <td>792</td>\n",
       "      <td>0.539141</td>\n",
       "      <td>9</td>\n",
       "      <td>580</td>\n",
       "      <td>792</td>\n",
       "      <td>0.732323</td>\n",
       "      <td>146</td>\n",
       "      <td>188</td>\n",
       "      <td>109</td>\n",
       "      <td>187</td>\n",
       "      <td>170</td>\n",
       "      <td>213</td>\n",
       "      <td>155</td>\n",
       "      <td>204</td>\n",
       "      <td>46.709998</td>\n",
       "    </tr>\n",
       "    <tr>\n",
       "      <th>4</th>\n",
       "      <td>131295822994</td>\n",
       "      <td>2</td>\n",
       "      <td>265</td>\n",
       "      <td>421</td>\n",
       "      <td>0.629454</td>\n",
       "      <td>2</td>\n",
       "      <td>360</td>\n",
       "      <td>421</td>\n",
       "      <td>0.855107</td>\n",
       "      <td>106</td>\n",
       "      <td>131</td>\n",
       "      <td>23</td>\n",
       "      <td>44</td>\n",
       "      <td>140</td>\n",
       "      <td>155</td>\n",
       "      <td>91</td>\n",
       "      <td>91</td>\n",
       "      <td>18.159319</td>\n",
       "    </tr>\n",
       "    <tr>\n",
       "      <th>5</th>\n",
       "      <td>131318323444</td>\n",
       "      <td>7</td>\n",
       "      <td>844</td>\n",
       "      <td>1515</td>\n",
       "      <td>0.557096</td>\n",
       "      <td>7</td>\n",
       "      <td>1208</td>\n",
       "      <td>1515</td>\n",
       "      <td>0.797360</td>\n",
       "      <td>326</td>\n",
       "      <td>389</td>\n",
       "      <td>226</td>\n",
       "      <td>389</td>\n",
       "      <td>333</td>\n",
       "      <td>390</td>\n",
       "      <td>323</td>\n",
       "      <td>347</td>\n",
       "      <td>86.022138</td>\n",
       "    </tr>\n",
       "    <tr>\n",
       "      <th>6</th>\n",
       "      <td>131305336841</td>\n",
       "      <td>7</td>\n",
       "      <td>254</td>\n",
       "      <td>560</td>\n",
       "      <td>0.453571</td>\n",
       "      <td>7</td>\n",
       "      <td>477</td>\n",
       "      <td>560</td>\n",
       "      <td>0.851786</td>\n",
       "      <td>134</td>\n",
       "      <td>142</td>\n",
       "      <td>123</td>\n",
       "      <td>142</td>\n",
       "      <td>102</td>\n",
       "      <td>144</td>\n",
       "      <td>118</td>\n",
       "      <td>132</td>\n",
       "      <td>35.483906</td>\n",
       "    </tr>\n",
       "    <tr>\n",
       "      <th>7</th>\n",
       "      <td>131295822775</td>\n",
       "      <td>2</td>\n",
       "      <td>46</td>\n",
       "      <td>144</td>\n",
       "      <td>0.319444</td>\n",
       "      <td>2</td>\n",
       "      <td>124</td>\n",
       "      <td>144</td>\n",
       "      <td>0.861111</td>\n",
       "      <td>38</td>\n",
       "      <td>38</td>\n",
       "      <td>23</td>\n",
       "      <td>38</td>\n",
       "      <td>35</td>\n",
       "      <td>39</td>\n",
       "      <td>28</td>\n",
       "      <td>29</td>\n",
       "      <td>7.316278</td>\n",
       "    </tr>\n",
       "    <tr>\n",
       "      <th>8</th>\n",
       "      <td>131318322675</td>\n",
       "      <td>2</td>\n",
       "      <td>182</td>\n",
       "      <td>326</td>\n",
       "      <td>0.558282</td>\n",
       "      <td>2</td>\n",
       "      <td>251</td>\n",
       "      <td>326</td>\n",
       "      <td>0.769939</td>\n",
       "      <td>65</td>\n",
       "      <td>87</td>\n",
       "      <td>57</td>\n",
       "      <td>85</td>\n",
       "      <td>74</td>\n",
       "      <td>85</td>\n",
       "      <td>55</td>\n",
       "      <td>69</td>\n",
       "      <td>17.990520</td>\n",
       "    </tr>\n",
       "    <tr>\n",
       "      <th>9</th>\n",
       "      <td>131305332897</td>\n",
       "      <td>2</td>\n",
       "      <td>110</td>\n",
       "      <td>316</td>\n",
       "      <td>0.348101</td>\n",
       "      <td>2</td>\n",
       "      <td>248</td>\n",
       "      <td>316</td>\n",
       "      <td>0.784810</td>\n",
       "      <td>72</td>\n",
       "      <td>88</td>\n",
       "      <td>59</td>\n",
       "      <td>88</td>\n",
       "      <td>83</td>\n",
       "      <td>87</td>\n",
       "      <td>34</td>\n",
       "      <td>53</td>\n",
       "      <td>15.214239</td>\n",
       "    </tr>\n",
       "  </tbody>\n",
       "</table>\n",
       "</div>"
      ],
      "text/plain": [
       "            CSN  orig_len  orig_covered  orig_total  orig_coverage  best_len  \\\n",
       "0  131305340187         6           718        1190       0.603361         6   \n",
       "1  131295823551         4           683        1130       0.604425         4   \n",
       "2  131318324804         3           321         371       0.865229         3   \n",
       "3  131305338991         9           427         792       0.539141         9   \n",
       "4  131295822994         2           265         421       0.629454         2   \n",
       "5  131318323444         7           844        1515       0.557096         7   \n",
       "6  131305336841         7           254         560       0.453571         7   \n",
       "7  131295822775         2            46         144       0.319444         2   \n",
       "8  131318322675         2           182         326       0.558282         2   \n",
       "9  131305332897         2           110         316       0.348101         2   \n",
       "\n",
       "   best_covered  best_total  best_coverage  HR_covered  HR_total  RR_covered  \\\n",
       "0          1049        1190       0.881513         281       298         265   \n",
       "1           922        1130       0.815929         199       217         142   \n",
       "2           353         371       0.951482          98       102          89   \n",
       "3           580         792       0.732323         146       188         109   \n",
       "4           360         421       0.855107         106       131          23   \n",
       "5          1208        1515       0.797360         326       389         226   \n",
       "6           477         560       0.851786         134       142         123   \n",
       "7           124         144       0.861111          38        38          23   \n",
       "8           251         326       0.769939          65        87          57   \n",
       "9           248         316       0.784810          72        88          59   \n",
       "\n",
       "   RR_total  SpO2_covered  SpO2_total  MAP_covered  MAP_total    runtime  \n",
       "0       293           276         304          227        295  63.234995  \n",
       "1       217           260         351          321        345  69.240899  \n",
       "2       102           102         102           64         65  22.002185  \n",
       "3       187           170         213          155        204  46.709998  \n",
       "4        44           140         155           91         91  18.159319  \n",
       "5       389           333         390          323        347  86.022138  \n",
       "6       142           102         144          118        132  35.483906  \n",
       "7        38            35          39           28         29   7.316278  \n",
       "8        85            74          85           55         69  17.990520  \n",
       "9        88            83          87           34         53  15.214239  "
      ]
     },
     "execution_count": 35,
     "metadata": {},
     "output_type": "execute_result"
    }
   ],
   "source": [
    "df = pd.read_csv(\"/deep/group/physiologic-states/v3/optimizing_coverage_population.optimal.csv\", index_col=False)\n",
    "print(df.shape)\n",
    "df.head(10)"
   ]
  },
  {
   "cell_type": "code",
   "execution_count": 36,
   "id": "ea021bf6",
   "metadata": {},
   "outputs": [
    {
     "data": {
      "text/plain": [
       "count    25830.000000\n",
       "mean         0.609099\n",
       "std          0.149208\n",
       "min          0.000000\n",
       "25%          0.514371\n",
       "50%          0.615674\n",
       "75%          0.713707\n",
       "max          1.000000\n",
       "Name: orig_coverage, dtype: float64"
      ]
     },
     "execution_count": 36,
     "metadata": {},
     "output_type": "execute_result"
    }
   ],
   "source": [
    "df[\"orig_coverage\"].describe()"
   ]
  },
  {
   "cell_type": "code",
   "execution_count": 7,
   "id": "9f0ca44d",
   "metadata": {},
   "outputs": [
    {
     "data": {
      "text/plain": [
       "count    25830.000000\n",
       "mean         0.838768\n",
       "std          0.082587\n",
       "min          0.216802\n",
       "25%          0.790128\n",
       "50%          0.847848\n",
       "75%          0.898210\n",
       "max          1.000000\n",
       "Name: best_coverage, dtype: float64"
      ]
     },
     "execution_count": 7,
     "metadata": {},
     "output_type": "execute_result"
    }
   ],
   "source": [
    "df[\"best_coverage\"].describe()"
   ]
  },
  {
   "cell_type": "code",
   "execution_count": 26,
   "id": "7d4ed1be",
   "metadata": {},
   "outputs": [
    {
     "data": {
      "image/png": "[encoded data removed]",
      "text/plain": [
       "<Figure size 540x600 with 1 Axes>"
      ]
     },
     "metadata": {},
     "output_type": "display_data"
    }
   ],
   "source": [
    "fig, ax = plt.subplots(1, 1, figsize=(5.4, 6))\n",
    "# ax.set_aspect('equal')\n",
    "ax.grid(b=True, which='major', color='k', linestyle='--')\n",
    "plt.scatter(df[\"best_total\"], df[\"runtime\"], s=2)\n",
    "plt.xlabel(\"Monitoring Minutes\")\n",
    "plt.ylabel(\"Algorithm Runtime (seconds)\")\n",
    "plt.show()"
   ]
  },
  {
   "cell_type": "markdown",
   "id": "2de8ecc0",
   "metadata": {},
   "source": [
    "## Population (HR)"
   ]
  },
  {
   "cell_type": "code",
   "execution_count": 2,
   "id": "0457e7e2",
   "metadata": {},
   "outputs": [
    {
     "name": "stdout",
     "output_type": "stream",
     "text": [
      "(25791, 12)\n"
     ]
    },
    {
     "data": {
      "text/html": [
       "<div>\n",
       "<style scoped>\n",
       "    .dataframe tbody tr th:only-of-type {\n",
       "        vertical-align: middle;\n",
       "    }\n",
       "\n",
       "    .dataframe tbody tr th {\n",
       "        vertical-align: top;\n",
       "    }\n",
       "\n",
       "    .dataframe thead th {\n",
       "        text-align: right;\n",
       "    }\n",
       "</style>\n",
       "<table border=\"1\" class=\"dataframe\">\n",
       "  <thead>\n",
       "    <tr style=\"text-align: right;\">\n",
       "      <th></th>\n",
       "      <th>CSN</th>\n",
       "      <th>orig_len</th>\n",
       "      <th>orig_covered</th>\n",
       "      <th>orig_total</th>\n",
       "      <th>orig_coverage</th>\n",
       "      <th>best_len</th>\n",
       "      <th>best_covered</th>\n",
       "      <th>best_total</th>\n",
       "      <th>best_coverage</th>\n",
       "      <th>HR_covered</th>\n",
       "      <th>HR_total</th>\n",
       "      <th>runtime</th>\n",
       "    </tr>\n",
       "  </thead>\n",
       "  <tbody>\n",
       "    <tr>\n",
       "      <th>0</th>\n",
       "      <td>131313966405</td>\n",
       "      <td>3</td>\n",
       "      <td>61</td>\n",
       "      <td>86</td>\n",
       "      <td>0.709302</td>\n",
       "      <td>3</td>\n",
       "      <td>68</td>\n",
       "      <td>86</td>\n",
       "      <td>0.790698</td>\n",
       "      <td>68</td>\n",
       "      <td>86</td>\n",
       "      <td>6.365554</td>\n",
       "    </tr>\n",
       "    <tr>\n",
       "      <th>1</th>\n",
       "      <td>131296982741</td>\n",
       "      <td>5</td>\n",
       "      <td>72</td>\n",
       "      <td>130</td>\n",
       "      <td>0.553846</td>\n",
       "      <td>5</td>\n",
       "      <td>106</td>\n",
       "      <td>130</td>\n",
       "      <td>0.815385</td>\n",
       "      <td>106</td>\n",
       "      <td>130</td>\n",
       "      <td>8.221853</td>\n",
       "    </tr>\n",
       "    <tr>\n",
       "      <th>2</th>\n",
       "      <td>131295712574</td>\n",
       "      <td>4</td>\n",
       "      <td>61</td>\n",
       "      <td>160</td>\n",
       "      <td>0.381250</td>\n",
       "      <td>4</td>\n",
       "      <td>153</td>\n",
       "      <td>160</td>\n",
       "      <td>0.956250</td>\n",
       "      <td>153</td>\n",
       "      <td>160</td>\n",
       "      <td>12.300475</td>\n",
       "    </tr>\n",
       "    <tr>\n",
       "      <th>3</th>\n",
       "      <td>131315109122</td>\n",
       "      <td>3</td>\n",
       "      <td>175</td>\n",
       "      <td>302</td>\n",
       "      <td>0.579470</td>\n",
       "      <td>3</td>\n",
       "      <td>245</td>\n",
       "      <td>302</td>\n",
       "      <td>0.811258</td>\n",
       "      <td>245</td>\n",
       "      <td>302</td>\n",
       "      <td>23.835266</td>\n",
       "    </tr>\n",
       "    <tr>\n",
       "      <th>4</th>\n",
       "      <td>131313959966</td>\n",
       "      <td>2</td>\n",
       "      <td>48</td>\n",
       "      <td>115</td>\n",
       "      <td>0.417391</td>\n",
       "      <td>2</td>\n",
       "      <td>87</td>\n",
       "      <td>115</td>\n",
       "      <td>0.756522</td>\n",
       "      <td>87</td>\n",
       "      <td>115</td>\n",
       "      <td>7.375503</td>\n",
       "    </tr>\n",
       "    <tr>\n",
       "      <th>5</th>\n",
       "      <td>131296982568</td>\n",
       "      <td>8</td>\n",
       "      <td>88</td>\n",
       "      <td>176</td>\n",
       "      <td>0.500000</td>\n",
       "      <td>8</td>\n",
       "      <td>172</td>\n",
       "      <td>176</td>\n",
       "      <td>0.977273</td>\n",
       "      <td>172</td>\n",
       "      <td>176</td>\n",
       "      <td>11.598513</td>\n",
       "    </tr>\n",
       "    <tr>\n",
       "      <th>6</th>\n",
       "      <td>131295712208</td>\n",
       "      <td>7</td>\n",
       "      <td>306</td>\n",
       "      <td>354</td>\n",
       "      <td>0.864407</td>\n",
       "      <td>7</td>\n",
       "      <td>348</td>\n",
       "      <td>354</td>\n",
       "      <td>0.983051</td>\n",
       "      <td>348</td>\n",
       "      <td>354</td>\n",
       "      <td>27.100661</td>\n",
       "    </tr>\n",
       "    <tr>\n",
       "      <th>7</th>\n",
       "      <td>131315108975</td>\n",
       "      <td>3</td>\n",
       "      <td>56</td>\n",
       "      <td>158</td>\n",
       "      <td>0.354430</td>\n",
       "      <td>3</td>\n",
       "      <td>130</td>\n",
       "      <td>158</td>\n",
       "      <td>0.822785</td>\n",
       "      <td>130</td>\n",
       "      <td>158</td>\n",
       "      <td>11.131812</td>\n",
       "    </tr>\n",
       "    <tr>\n",
       "      <th>8</th>\n",
       "      <td>131313956662</td>\n",
       "      <td>3</td>\n",
       "      <td>116</td>\n",
       "      <td>142</td>\n",
       "      <td>0.816901</td>\n",
       "      <td>3</td>\n",
       "      <td>123</td>\n",
       "      <td>142</td>\n",
       "      <td>0.866197</td>\n",
       "      <td>123</td>\n",
       "      <td>142</td>\n",
       "      <td>9.324609</td>\n",
       "    </tr>\n",
       "    <tr>\n",
       "      <th>9</th>\n",
       "      <td>131296982267</td>\n",
       "      <td>2</td>\n",
       "      <td>11</td>\n",
       "      <td>16</td>\n",
       "      <td>0.687500</td>\n",
       "      <td>2</td>\n",
       "      <td>15</td>\n",
       "      <td>16</td>\n",
       "      <td>0.937500</td>\n",
       "      <td>15</td>\n",
       "      <td>16</td>\n",
       "      <td>1.317952</td>\n",
       "    </tr>\n",
       "  </tbody>\n",
       "</table>\n",
       "</div>"
      ],
      "text/plain": [
       "            CSN  orig_len  orig_covered  orig_total  orig_coverage  best_len  \\\n",
       "0  131313966405         3            61          86       0.709302         3   \n",
       "1  131296982741         5            72         130       0.553846         5   \n",
       "2  131295712574         4            61         160       0.381250         4   \n",
       "3  131315109122         3           175         302       0.579470         3   \n",
       "4  131313959966         2            48         115       0.417391         2   \n",
       "5  131296982568         8            88         176       0.500000         8   \n",
       "6  131295712208         7           306         354       0.864407         7   \n",
       "7  131315108975         3            56         158       0.354430         3   \n",
       "8  131313956662         3           116         142       0.816901         3   \n",
       "9  131296982267         2            11          16       0.687500         2   \n",
       "\n",
       "   best_covered  best_total  best_coverage  HR_covered  HR_total    runtime  \n",
       "0            68          86       0.790698          68        86   6.365554  \n",
       "1           106         130       0.815385         106       130   8.221853  \n",
       "2           153         160       0.956250         153       160  12.300475  \n",
       "3           245         302       0.811258         245       302  23.835266  \n",
       "4            87         115       0.756522          87       115   7.375503  \n",
       "5           172         176       0.977273         172       176  11.598513  \n",
       "6           348         354       0.983051         348       354  27.100661  \n",
       "7           130         158       0.822785         130       158  11.131812  \n",
       "8           123         142       0.866197         123       142   9.324609  \n",
       "9            15          16       0.937500          15        16   1.317952  "
      ]
     },
     "execution_count": 2,
     "metadata": {},
     "output_type": "execute_result"
    }
   ],
   "source": [
    "df = pd.read_csv(\"/deep/group/physiologic-states/v3/optimizing_coverage_population.optimal.hr.csv\")\n",
    "print(df.shape)\n",
    "df.head(10)"
   ]
  },
  {
   "cell_type": "code",
   "execution_count": 3,
   "id": "1bbae701",
   "metadata": {},
   "outputs": [
    {
     "data": {
      "text/plain": [
       "count    25791.000000\n",
       "mean         0.515888\n",
       "std          0.280882\n",
       "min          0.000000\n",
       "25%          0.293806\n",
       "50%          0.517241\n",
       "75%          0.744681\n",
       "max          1.000000\n",
       "Name: orig_coverage, dtype: float64"
      ]
     },
     "execution_count": 3,
     "metadata": {},
     "output_type": "execute_result"
    }
   ],
   "source": [
    "df[\"orig_coverage\"].describe()"
   ]
  },
  {
   "cell_type": "code",
   "execution_count": 4,
   "id": "7386b25e",
   "metadata": {},
   "outputs": [
    {
     "data": {
      "text/plain": [
       "count    25791.000000\n",
       "mean         0.877220\n",
       "std          0.111594\n",
       "min          0.298246\n",
       "25%          0.814815\n",
       "50%          0.904762\n",
       "75%          0.967069\n",
       "max          1.000000\n",
       "Name: best_coverage, dtype: float64"
      ]
     },
     "execution_count": 4,
     "metadata": {},
     "output_type": "execute_result"
    }
   ],
   "source": [
    "df[\"best_coverage\"].describe()"
   ]
  },
  {
   "cell_type": "code",
   "execution_count": 5,
   "id": "893221aa",
   "metadata": {},
   "outputs": [
    {
     "data": {
      "image/png": "[encoded data removed]",
      "text/plain": [
       "<Figure size 540x600 with 1 Axes>"
      ]
     },
     "metadata": {},
     "output_type": "display_data"
    }
   ],
   "source": [
    "fig, ax = plt.subplots(1, 1, figsize=(5.4, 6))\n",
    "# ax.set_aspect('equal')\n",
    "ax.grid(b=True, which='major', color='k', linestyle='--')\n",
    "plt.scatter(df[\"best_total\"], df[\"runtime\"], s=2)\n",
    "plt.xlabel(\"Monitoring Minutes\")\n",
    "plt.ylabel(\"Algorithm Runtime (seconds)\")\n",
    "plt.show()"
   ]
  },
  {
   "cell_type": "markdown",
   "id": "a3623520",
   "metadata": {},
   "source": [
    "## Population (RR)"
   ]
  },
  {
   "cell_type": "code",
   "execution_count": 6,
   "id": "3af09cc3",
   "metadata": {},
   "outputs": [
    {
     "name": "stdout",
     "output_type": "stream",
     "text": [
      "(25658, 12)\n"
     ]
    },
    {
     "data": {
      "text/html": [
       "<div>\n",
       "<style scoped>\n",
       "    .dataframe tbody tr th:only-of-type {\n",
       "        vertical-align: middle;\n",
       "    }\n",
       "\n",
       "    .dataframe tbody tr th {\n",
       "        vertical-align: top;\n",
       "    }\n",
       "\n",
       "    .dataframe thead th {\n",
       "        text-align: right;\n",
       "    }\n",
       "</style>\n",
       "<table border=\"1\" class=\"dataframe\">\n",
       "  <thead>\n",
       "    <tr style=\"text-align: right;\">\n",
       "      <th></th>\n",
       "      <th>CSN</th>\n",
       "      <th>orig_len</th>\n",
       "      <th>orig_covered</th>\n",
       "      <th>orig_total</th>\n",
       "      <th>orig_coverage</th>\n",
       "      <th>best_len</th>\n",
       "      <th>best_covered</th>\n",
       "      <th>best_total</th>\n",
       "      <th>best_coverage</th>\n",
       "      <th>RR_covered</th>\n",
       "      <th>RR_total</th>\n",
       "      <th>runtime</th>\n",
       "    </tr>\n",
       "  </thead>\n",
       "  <tbody>\n",
       "    <tr>\n",
       "      <th>0</th>\n",
       "      <td>131293642074</td>\n",
       "      <td>3</td>\n",
       "      <td>27</td>\n",
       "      <td>59</td>\n",
       "      <td>0.457627</td>\n",
       "      <td>3</td>\n",
       "      <td>38</td>\n",
       "      <td>59</td>\n",
       "      <td>0.644068</td>\n",
       "      <td>38</td>\n",
       "      <td>59</td>\n",
       "      <td>2.979927</td>\n",
       "    </tr>\n",
       "    <tr>\n",
       "      <th>1</th>\n",
       "      <td>131293638136</td>\n",
       "      <td>2</td>\n",
       "      <td>9</td>\n",
       "      <td>15</td>\n",
       "      <td>0.600000</td>\n",
       "      <td>2</td>\n",
       "      <td>12</td>\n",
       "      <td>15</td>\n",
       "      <td>0.800000</td>\n",
       "      <td>12</td>\n",
       "      <td>15</td>\n",
       "      <td>0.885513</td>\n",
       "    </tr>\n",
       "    <tr>\n",
       "      <th>2</th>\n",
       "      <td>131293635703</td>\n",
       "      <td>2</td>\n",
       "      <td>4</td>\n",
       "      <td>5</td>\n",
       "      <td>0.800000</td>\n",
       "      <td>2</td>\n",
       "      <td>5</td>\n",
       "      <td>5</td>\n",
       "      <td>1.000000</td>\n",
       "      <td>5</td>\n",
       "      <td>5</td>\n",
       "      <td>0.526467</td>\n",
       "    </tr>\n",
       "    <tr>\n",
       "      <th>3</th>\n",
       "      <td>131293609969</td>\n",
       "      <td>2</td>\n",
       "      <td>9</td>\n",
       "      <td>34</td>\n",
       "      <td>0.264706</td>\n",
       "      <td>2</td>\n",
       "      <td>34</td>\n",
       "      <td>34</td>\n",
       "      <td>1.000000</td>\n",
       "      <td>34</td>\n",
       "      <td>34</td>\n",
       "      <td>1.574484</td>\n",
       "    </tr>\n",
       "    <tr>\n",
       "      <th>4</th>\n",
       "      <td>131293609853</td>\n",
       "      <td>2</td>\n",
       "      <td>116</td>\n",
       "      <td>148</td>\n",
       "      <td>0.783784</td>\n",
       "      <td>2</td>\n",
       "      <td>120</td>\n",
       "      <td>148</td>\n",
       "      <td>0.810811</td>\n",
       "      <td>120</td>\n",
       "      <td>148</td>\n",
       "      <td>5.410603</td>\n",
       "    </tr>\n",
       "    <tr>\n",
       "      <th>5</th>\n",
       "      <td>131293604041</td>\n",
       "      <td>12</td>\n",
       "      <td>168</td>\n",
       "      <td>331</td>\n",
       "      <td>0.507553</td>\n",
       "      <td>12</td>\n",
       "      <td>263</td>\n",
       "      <td>331</td>\n",
       "      <td>0.794562</td>\n",
       "      <td>263</td>\n",
       "      <td>331</td>\n",
       "      <td>15.593382</td>\n",
       "    </tr>\n",
       "    <tr>\n",
       "      <th>6</th>\n",
       "      <td>131293603172</td>\n",
       "      <td>8</td>\n",
       "      <td>68</td>\n",
       "      <td>234</td>\n",
       "      <td>0.290598</td>\n",
       "      <td>8</td>\n",
       "      <td>119</td>\n",
       "      <td>234</td>\n",
       "      <td>0.508547</td>\n",
       "      <td>119</td>\n",
       "      <td>234</td>\n",
       "      <td>9.676531</td>\n",
       "    </tr>\n",
       "    <tr>\n",
       "      <th>7</th>\n",
       "      <td>131293602848</td>\n",
       "      <td>4</td>\n",
       "      <td>74</td>\n",
       "      <td>149</td>\n",
       "      <td>0.496644</td>\n",
       "      <td>4</td>\n",
       "      <td>95</td>\n",
       "      <td>149</td>\n",
       "      <td>0.637584</td>\n",
       "      <td>95</td>\n",
       "      <td>149</td>\n",
       "      <td>6.215535</td>\n",
       "    </tr>\n",
       "    <tr>\n",
       "      <th>8</th>\n",
       "      <td>131293600245</td>\n",
       "      <td>6</td>\n",
       "      <td>167</td>\n",
       "      <td>216</td>\n",
       "      <td>0.773148</td>\n",
       "      <td>6</td>\n",
       "      <td>196</td>\n",
       "      <td>216</td>\n",
       "      <td>0.907407</td>\n",
       "      <td>196</td>\n",
       "      <td>216</td>\n",
       "      <td>9.589013</td>\n",
       "    </tr>\n",
       "    <tr>\n",
       "      <th>9</th>\n",
       "      <td>131293591962</td>\n",
       "      <td>5</td>\n",
       "      <td>14</td>\n",
       "      <td>19</td>\n",
       "      <td>0.736842</td>\n",
       "      <td>5</td>\n",
       "      <td>18</td>\n",
       "      <td>19</td>\n",
       "      <td>0.947368</td>\n",
       "      <td>18</td>\n",
       "      <td>19</td>\n",
       "      <td>1.404949</td>\n",
       "    </tr>\n",
       "  </tbody>\n",
       "</table>\n",
       "</div>"
      ],
      "text/plain": [
       "            CSN  orig_len  orig_covered  orig_total  orig_coverage  best_len  \\\n",
       "0  131293642074         3            27          59       0.457627         3   \n",
       "1  131293638136         2             9          15       0.600000         2   \n",
       "2  131293635703         2             4           5       0.800000         2   \n",
       "3  131293609969         2             9          34       0.264706         2   \n",
       "4  131293609853         2           116         148       0.783784         2   \n",
       "5  131293604041        12           168         331       0.507553        12   \n",
       "6  131293603172         8            68         234       0.290598         8   \n",
       "7  131293602848         4            74         149       0.496644         4   \n",
       "8  131293600245         6           167         216       0.773148         6   \n",
       "9  131293591962         5            14          19       0.736842         5   \n",
       "\n",
       "   best_covered  best_total  best_coverage  RR_covered  RR_total    runtime  \n",
       "0            38          59       0.644068          38        59   2.979927  \n",
       "1            12          15       0.800000          12        15   0.885513  \n",
       "2             5           5       1.000000           5         5   0.526467  \n",
       "3            34          34       1.000000          34        34   1.574484  \n",
       "4           120         148       0.810811         120       148   5.410603  \n",
       "5           263         331       0.794562         263       331  15.593382  \n",
       "6           119         234       0.508547         119       234   9.676531  \n",
       "7            95         149       0.637584          95       149   6.215535  \n",
       "8           196         216       0.907407         196       216   9.589013  \n",
       "9            18          19       0.947368          18        19   1.404949  "
      ]
     },
     "execution_count": 6,
     "metadata": {},
     "output_type": "execute_result"
    }
   ],
   "source": [
    "df = pd.read_csv(\"/deep/group/physiologic-states/v3/optimizing_coverage_population.optimal.rr.csv\")\n",
    "print(df.shape)\n",
    "df.head(10)"
   ]
  },
  {
   "cell_type": "code",
   "execution_count": 7,
   "id": "e6e64e75",
   "metadata": {},
   "outputs": [
    {
     "data": {
      "text/plain": [
       "count    25658.000000\n",
       "mean         0.531430\n",
       "std          0.226826\n",
       "min          0.000000\n",
       "25%          0.369253\n",
       "50%          0.545724\n",
       "75%          0.707290\n",
       "max          1.000000\n",
       "Name: orig_coverage, dtype: float64"
      ]
     },
     "execution_count": 7,
     "metadata": {},
     "output_type": "execute_result"
    }
   ],
   "source": [
    "df[\"orig_coverage\"].describe()"
   ]
  },
  {
   "cell_type": "code",
   "execution_count": 8,
   "id": "2d69c660",
   "metadata": {},
   "outputs": [
    {
     "data": {
      "text/plain": [
       "count    25658.000000\n",
       "mean         0.818146\n",
       "std          0.103794\n",
       "min          0.307087\n",
       "25%          0.753086\n",
       "50%          0.829868\n",
       "75%          0.895599\n",
       "max          1.000000\n",
       "Name: best_coverage, dtype: float64"
      ]
     },
     "execution_count": 8,
     "metadata": {},
     "output_type": "execute_result"
    }
   ],
   "source": [
    "df[\"best_coverage\"].describe()"
   ]
  },
  {
   "cell_type": "code",
   "execution_count": 9,
   "id": "40e6c65c",
   "metadata": {},
   "outputs": [
    {
     "data": {
      "image/png": "[encoded data removed]",
      "text/plain": [
       "<Figure size 540x600 with 1 Axes>"
      ]
     },
     "metadata": {},
     "output_type": "display_data"
    }
   ],
   "source": [
    "fig, ax = plt.subplots(1, 1, figsize=(5.4, 6))\n",
    "# ax.set_aspect('equal')\n",
    "ax.grid(b=True, which='major', color='k', linestyle='--')\n",
    "plt.scatter(df[\"best_total\"], df[\"runtime\"], s=2)\n",
    "plt.xlabel(\"Monitoring Minutes\")\n",
    "plt.ylabel(\"Algorithm Runtime (seconds)\")\n",
    "plt.show()"
   ]
  },
  {
   "cell_type": "markdown",
   "id": "6219d6a6",
   "metadata": {},
   "source": [
    "## Population (SpO2)"
   ]
  },
  {
   "cell_type": "code",
   "execution_count": 10,
   "id": "a59f47d9",
   "metadata": {},
   "outputs": [
    {
     "name": "stdout",
     "output_type": "stream",
     "text": [
      "(25781, 12)\n"
     ]
    },
    {
     "data": {
      "text/html": [
       "<div>\n",
       "<style scoped>\n",
       "    .dataframe tbody tr th:only-of-type {\n",
       "        vertical-align: middle;\n",
       "    }\n",
       "\n",
       "    .dataframe tbody tr th {\n",
       "        vertical-align: top;\n",
       "    }\n",
       "\n",
       "    .dataframe thead th {\n",
       "        text-align: right;\n",
       "    }\n",
       "</style>\n",
       "<table border=\"1\" class=\"dataframe\">\n",
       "  <thead>\n",
       "    <tr style=\"text-align: right;\">\n",
       "      <th></th>\n",
       "      <th>CSN</th>\n",
       "      <th>orig_len</th>\n",
       "      <th>orig_covered</th>\n",
       "      <th>orig_total</th>\n",
       "      <th>orig_coverage</th>\n",
       "      <th>best_len</th>\n",
       "      <th>best_covered</th>\n",
       "      <th>best_total</th>\n",
       "      <th>best_coverage</th>\n",
       "      <th>SpO2_covered</th>\n",
       "      <th>SpO2_total</th>\n",
       "      <th>runtime</th>\n",
       "    </tr>\n",
       "  </thead>\n",
       "  <tbody>\n",
       "    <tr>\n",
       "      <th>0</th>\n",
       "      <td>131291711760</td>\n",
       "      <td>3</td>\n",
       "      <td>86</td>\n",
       "      <td>119</td>\n",
       "      <td>0.722689</td>\n",
       "      <td>3</td>\n",
       "      <td>91</td>\n",
       "      <td>119</td>\n",
       "      <td>0.764706</td>\n",
       "      <td>91</td>\n",
       "      <td>119</td>\n",
       "      <td>5.102196</td>\n",
       "    </tr>\n",
       "    <tr>\n",
       "      <th>1</th>\n",
       "      <td>131316007775</td>\n",
       "      <td>11</td>\n",
       "      <td>263</td>\n",
       "      <td>266</td>\n",
       "      <td>0.988722</td>\n",
       "      <td>11</td>\n",
       "      <td>262</td>\n",
       "      <td>266</td>\n",
       "      <td>0.984962</td>\n",
       "      <td>262</td>\n",
       "      <td>266</td>\n",
       "      <td>15.211418</td>\n",
       "    </tr>\n",
       "    <tr>\n",
       "      <th>2</th>\n",
       "      <td>131291709213</td>\n",
       "      <td>5</td>\n",
       "      <td>275</td>\n",
       "      <td>290</td>\n",
       "      <td>0.948276</td>\n",
       "      <td>5</td>\n",
       "      <td>290</td>\n",
       "      <td>290</td>\n",
       "      <td>1.000000</td>\n",
       "      <td>290</td>\n",
       "      <td>290</td>\n",
       "      <td>9.383844</td>\n",
       "    </tr>\n",
       "    <tr>\n",
       "      <th>3</th>\n",
       "      <td>131316007474</td>\n",
       "      <td>4</td>\n",
       "      <td>52</td>\n",
       "      <td>142</td>\n",
       "      <td>0.366197</td>\n",
       "      <td>4</td>\n",
       "      <td>121</td>\n",
       "      <td>142</td>\n",
       "      <td>0.852113</td>\n",
       "      <td>121</td>\n",
       "      <td>142</td>\n",
       "      <td>6.456941</td>\n",
       "    </tr>\n",
       "    <tr>\n",
       "      <th>4</th>\n",
       "      <td>131291708108</td>\n",
       "      <td>3</td>\n",
       "      <td>67</td>\n",
       "      <td>95</td>\n",
       "      <td>0.705263</td>\n",
       "      <td>3</td>\n",
       "      <td>95</td>\n",
       "      <td>95</td>\n",
       "      <td>1.000000</td>\n",
       "      <td>95</td>\n",
       "      <td>95</td>\n",
       "      <td>2.813728</td>\n",
       "    </tr>\n",
       "    <tr>\n",
       "      <th>5</th>\n",
       "      <td>131316005430</td>\n",
       "      <td>5</td>\n",
       "      <td>88</td>\n",
       "      <td>213</td>\n",
       "      <td>0.413146</td>\n",
       "      <td>5</td>\n",
       "      <td>186</td>\n",
       "      <td>213</td>\n",
       "      <td>0.873239</td>\n",
       "      <td>186</td>\n",
       "      <td>213</td>\n",
       "      <td>10.264027</td>\n",
       "    </tr>\n",
       "    <tr>\n",
       "      <th>6</th>\n",
       "      <td>131291706340</td>\n",
       "      <td>5</td>\n",
       "      <td>139</td>\n",
       "      <td>139</td>\n",
       "      <td>1.000000</td>\n",
       "      <td>5</td>\n",
       "      <td>139</td>\n",
       "      <td>139</td>\n",
       "      <td>1.000000</td>\n",
       "      <td>139</td>\n",
       "      <td>139</td>\n",
       "      <td>5.581674</td>\n",
       "    </tr>\n",
       "    <tr>\n",
       "      <th>7</th>\n",
       "      <td>131316003615</td>\n",
       "      <td>4</td>\n",
       "      <td>188</td>\n",
       "      <td>383</td>\n",
       "      <td>0.490862</td>\n",
       "      <td>4</td>\n",
       "      <td>312</td>\n",
       "      <td>383</td>\n",
       "      <td>0.814621</td>\n",
       "      <td>312</td>\n",
       "      <td>383</td>\n",
       "      <td>16.041150</td>\n",
       "    </tr>\n",
       "    <tr>\n",
       "      <th>8</th>\n",
       "      <td>131291703241</td>\n",
       "      <td>7</td>\n",
       "      <td>188</td>\n",
       "      <td>378</td>\n",
       "      <td>0.497354</td>\n",
       "      <td>7</td>\n",
       "      <td>363</td>\n",
       "      <td>378</td>\n",
       "      <td>0.960317</td>\n",
       "      <td>363</td>\n",
       "      <td>378</td>\n",
       "      <td>15.223750</td>\n",
       "    </tr>\n",
       "    <tr>\n",
       "      <th>9</th>\n",
       "      <td>131316001378</td>\n",
       "      <td>11</td>\n",
       "      <td>284</td>\n",
       "      <td>426</td>\n",
       "      <td>0.666667</td>\n",
       "      <td>11</td>\n",
       "      <td>393</td>\n",
       "      <td>426</td>\n",
       "      <td>0.922535</td>\n",
       "      <td>393</td>\n",
       "      <td>426</td>\n",
       "      <td>27.895332</td>\n",
       "    </tr>\n",
       "  </tbody>\n",
       "</table>\n",
       "</div>"
      ],
      "text/plain": [
       "            CSN  orig_len  orig_covered  orig_total  orig_coverage  best_len  \\\n",
       "0  131291711760         3            86         119       0.722689         3   \n",
       "1  131316007775        11           263         266       0.988722        11   \n",
       "2  131291709213         5           275         290       0.948276         5   \n",
       "3  131316007474         4            52         142       0.366197         4   \n",
       "4  131291708108         3            67          95       0.705263         3   \n",
       "5  131316005430         5            88         213       0.413146         5   \n",
       "6  131291706340         5           139         139       1.000000         5   \n",
       "7  131316003615         4           188         383       0.490862         4   \n",
       "8  131291703241         7           188         378       0.497354         7   \n",
       "9  131316001378        11           284         426       0.666667        11   \n",
       "\n",
       "   best_covered  best_total  best_coverage  SpO2_covered  SpO2_total  \\\n",
       "0            91         119       0.764706            91         119   \n",
       "1           262         266       0.984962           262         266   \n",
       "2           290         290       1.000000           290         290   \n",
       "3           121         142       0.852113           121         142   \n",
       "4            95          95       1.000000            95          95   \n",
       "5           186         213       0.873239           186         213   \n",
       "6           139         139       1.000000           139         139   \n",
       "7           312         383       0.814621           312         383   \n",
       "8           363         378       0.960317           363         378   \n",
       "9           393         426       0.922535           393         426   \n",
       "\n",
       "     runtime  \n",
       "0   5.102196  \n",
       "1  15.211418  \n",
       "2   9.383844  \n",
       "3   6.456941  \n",
       "4   2.813728  \n",
       "5  10.264027  \n",
       "6   5.581674  \n",
       "7  16.041150  \n",
       "8  15.223750  \n",
       "9  27.895332  "
      ]
     },
     "execution_count": 10,
     "metadata": {},
     "output_type": "execute_result"
    }
   ],
   "source": [
    "df = pd.read_csv(\"/deep/group/physiologic-states/v3/optimizing_coverage_population.optimal.spo2.csv\")\n",
    "print(df.shape)\n",
    "df.head(10)"
   ]
  },
  {
   "cell_type": "code",
   "execution_count": 11,
   "id": "ce584db9",
   "metadata": {},
   "outputs": [
    {
     "data": {
      "text/plain": [
       "count    25781.000000\n",
       "mean         0.780778\n",
       "std          0.237436\n",
       "min          0.000000\n",
       "25%          0.654321\n",
       "50%          0.866667\n",
       "75%          0.975610\n",
       "max          1.000000\n",
       "Name: orig_coverage, dtype: float64"
      ]
     },
     "execution_count": 11,
     "metadata": {},
     "output_type": "execute_result"
    }
   ],
   "source": [
    "df[\"orig_coverage\"].describe()"
   ]
  },
  {
   "cell_type": "code",
   "execution_count": 12,
   "id": "b79c3aaa",
   "metadata": {},
   "outputs": [
    {
     "data": {
      "text/plain": [
       "count    25781.000000\n",
       "mean         0.949799\n",
       "std          0.074868\n",
       "min          0.319728\n",
       "25%          0.932584\n",
       "50%          0.981132\n",
       "75%          1.000000\n",
       "max          1.000000\n",
       "Name: best_coverage, dtype: float64"
      ]
     },
     "execution_count": 12,
     "metadata": {},
     "output_type": "execute_result"
    }
   ],
   "source": [
    "df[\"best_coverage\"].describe()"
   ]
  },
  {
   "cell_type": "code",
   "execution_count": 13,
   "id": "9cfe7bff",
   "metadata": {},
   "outputs": [
    {
     "data": {
      "image/png": "[encoded data removed]",
      "text/plain": [
       "<Figure size 540x600 with 1 Axes>"
      ]
     },
     "metadata": {},
     "output_type": "display_data"
    }
   ],
   "source": [
    "fig, ax = plt.subplots(1, 1, figsize=(5.4, 6))\n",
    "# ax.set_aspect('equal')\n",
    "ax.grid(b=True, which='major', color='k', linestyle='--')\n",
    "plt.scatter(df[\"best_total\"], df[\"runtime\"], s=2)\n",
    "plt.xlabel(\"Monitoring Minutes\")\n",
    "plt.ylabel(\"Algorithm Runtime (seconds)\")\n",
    "plt.show()"
   ]
  },
  {
   "cell_type": "markdown",
   "id": "97442396",
   "metadata": {},
   "source": [
    "## Population (MAP)"
   ]
  },
  {
   "cell_type": "code",
   "execution_count": 14,
   "id": "911433ce",
   "metadata": {},
   "outputs": [
    {
     "name": "stdout",
     "output_type": "stream",
     "text": [
      "(24337, 12)\n"
     ]
    },
    {
     "data": {
      "text/html": [
       "<div>\n",
       "<style scoped>\n",
       "    .dataframe tbody tr th:only-of-type {\n",
       "        vertical-align: middle;\n",
       "    }\n",
       "\n",
       "    .dataframe tbody tr th {\n",
       "        vertical-align: top;\n",
       "    }\n",
       "\n",
       "    .dataframe thead th {\n",
       "        text-align: right;\n",
       "    }\n",
       "</style>\n",
       "<table border=\"1\" class=\"dataframe\">\n",
       "  <thead>\n",
       "    <tr style=\"text-align: right;\">\n",
       "      <th></th>\n",
       "      <th>CSN</th>\n",
       "      <th>orig_len</th>\n",
       "      <th>orig_covered</th>\n",
       "      <th>orig_total</th>\n",
       "      <th>orig_coverage</th>\n",
       "      <th>best_len</th>\n",
       "      <th>best_covered</th>\n",
       "      <th>best_total</th>\n",
       "      <th>best_coverage</th>\n",
       "      <th>MAP_covered</th>\n",
       "      <th>MAP_total</th>\n",
       "      <th>runtime</th>\n",
       "    </tr>\n",
       "  </thead>\n",
       "  <tbody>\n",
       "    <tr>\n",
       "      <th>0</th>\n",
       "      <td>131320775786</td>\n",
       "      <td>3</td>\n",
       "      <td>22</td>\n",
       "      <td>22</td>\n",
       "      <td>1.000000</td>\n",
       "      <td>3</td>\n",
       "      <td>22</td>\n",
       "      <td>22</td>\n",
       "      <td>1.000000</td>\n",
       "      <td>22</td>\n",
       "      <td>22</td>\n",
       "      <td>1.373016</td>\n",
       "    </tr>\n",
       "    <tr>\n",
       "      <th>1</th>\n",
       "      <td>131318773010</td>\n",
       "      <td>12</td>\n",
       "      <td>39</td>\n",
       "      <td>111</td>\n",
       "      <td>0.351351</td>\n",
       "      <td>12</td>\n",
       "      <td>86</td>\n",
       "      <td>111</td>\n",
       "      <td>0.774775</td>\n",
       "      <td>86</td>\n",
       "      <td>111</td>\n",
       "      <td>8.020914</td>\n",
       "    </tr>\n",
       "    <tr>\n",
       "      <th>2</th>\n",
       "      <td>131320775540</td>\n",
       "      <td>4</td>\n",
       "      <td>105</td>\n",
       "      <td>142</td>\n",
       "      <td>0.739437</td>\n",
       "      <td>4</td>\n",
       "      <td>140</td>\n",
       "      <td>142</td>\n",
       "      <td>0.985915</td>\n",
       "      <td>140</td>\n",
       "      <td>142</td>\n",
       "      <td>6.434054</td>\n",
       "    </tr>\n",
       "    <tr>\n",
       "      <th>3</th>\n",
       "      <td>131318772233</td>\n",
       "      <td>4</td>\n",
       "      <td>97</td>\n",
       "      <td>239</td>\n",
       "      <td>0.405858</td>\n",
       "      <td>4</td>\n",
       "      <td>239</td>\n",
       "      <td>239</td>\n",
       "      <td>1.000000</td>\n",
       "      <td>239</td>\n",
       "      <td>239</td>\n",
       "      <td>13.403810</td>\n",
       "    </tr>\n",
       "    <tr>\n",
       "      <th>4</th>\n",
       "      <td>131320773511</td>\n",
       "      <td>6</td>\n",
       "      <td>151</td>\n",
       "      <td>172</td>\n",
       "      <td>0.877907</td>\n",
       "      <td>6</td>\n",
       "      <td>165</td>\n",
       "      <td>172</td>\n",
       "      <td>0.959302</td>\n",
       "      <td>165</td>\n",
       "      <td>172</td>\n",
       "      <td>7.826451</td>\n",
       "    </tr>\n",
       "    <tr>\n",
       "      <th>5</th>\n",
       "      <td>131318770712</td>\n",
       "      <td>3</td>\n",
       "      <td>30</td>\n",
       "      <td>159</td>\n",
       "      <td>0.188679</td>\n",
       "      <td>3</td>\n",
       "      <td>129</td>\n",
       "      <td>159</td>\n",
       "      <td>0.811321</td>\n",
       "      <td>129</td>\n",
       "      <td>159</td>\n",
       "      <td>8.296547</td>\n",
       "    </tr>\n",
       "    <tr>\n",
       "      <th>6</th>\n",
       "      <td>131320771364</td>\n",
       "      <td>3</td>\n",
       "      <td>21</td>\n",
       "      <td>75</td>\n",
       "      <td>0.280000</td>\n",
       "      <td>3</td>\n",
       "      <td>67</td>\n",
       "      <td>75</td>\n",
       "      <td>0.893333</td>\n",
       "      <td>67</td>\n",
       "      <td>75</td>\n",
       "      <td>3.555533</td>\n",
       "    </tr>\n",
       "    <tr>\n",
       "      <th>7</th>\n",
       "      <td>131318768936</td>\n",
       "      <td>8</td>\n",
       "      <td>212</td>\n",
       "      <td>215</td>\n",
       "      <td>0.986047</td>\n",
       "      <td>8</td>\n",
       "      <td>212</td>\n",
       "      <td>215</td>\n",
       "      <td>0.986047</td>\n",
       "      <td>212</td>\n",
       "      <td>215</td>\n",
       "      <td>12.600133</td>\n",
       "    </tr>\n",
       "    <tr>\n",
       "      <th>8</th>\n",
       "      <td>131320769733</td>\n",
       "      <td>2</td>\n",
       "      <td>127</td>\n",
       "      <td>203</td>\n",
       "      <td>0.625616</td>\n",
       "      <td>2</td>\n",
       "      <td>203</td>\n",
       "      <td>203</td>\n",
       "      <td>1.000000</td>\n",
       "      <td>203</td>\n",
       "      <td>203</td>\n",
       "      <td>8.150763</td>\n",
       "    </tr>\n",
       "    <tr>\n",
       "      <th>9</th>\n",
       "      <td>131318768261</td>\n",
       "      <td>11</td>\n",
       "      <td>156</td>\n",
       "      <td>223</td>\n",
       "      <td>0.699552</td>\n",
       "      <td>11</td>\n",
       "      <td>211</td>\n",
       "      <td>223</td>\n",
       "      <td>0.946188</td>\n",
       "      <td>211</td>\n",
       "      <td>223</td>\n",
       "      <td>13.777279</td>\n",
       "    </tr>\n",
       "  </tbody>\n",
       "</table>\n",
       "</div>"
      ],
      "text/plain": [
       "            CSN  orig_len  orig_covered  orig_total  orig_coverage  best_len  \\\n",
       "0  131320775786         3            22          22       1.000000         3   \n",
       "1  131318773010        12            39         111       0.351351        12   \n",
       "2  131320775540         4           105         142       0.739437         4   \n",
       "3  131318772233         4            97         239       0.405858         4   \n",
       "4  131320773511         6           151         172       0.877907         6   \n",
       "5  131318770712         3            30         159       0.188679         3   \n",
       "6  131320771364         3            21          75       0.280000         3   \n",
       "7  131318768936         8           212         215       0.986047         8   \n",
       "8  131320769733         2           127         203       0.625616         2   \n",
       "9  131318768261        11           156         223       0.699552        11   \n",
       "\n",
       "   best_covered  best_total  best_coverage  MAP_covered  MAP_total    runtime  \n",
       "0            22          22       1.000000           22         22   1.373016  \n",
       "1            86         111       0.774775           86        111   8.020914  \n",
       "2           140         142       0.985915          140        142   6.434054  \n",
       "3           239         239       1.000000          239        239  13.403810  \n",
       "4           165         172       0.959302          165        172   7.826451  \n",
       "5           129         159       0.811321          129        159   8.296547  \n",
       "6            67          75       0.893333           67         75   3.555533  \n",
       "7           212         215       0.986047          212        215  12.600133  \n",
       "8           203         203       1.000000          203        203   8.150763  \n",
       "9           211         223       0.946188          211        223  13.777279  "
      ]
     },
     "execution_count": 14,
     "metadata": {},
     "output_type": "execute_result"
    }
   ],
   "source": [
    "df = pd.read_csv(\"/deep/group/physiologic-states/v3/optimizing_coverage_population.optimal.map.csv\")\n",
    "print(df.shape)\n",
    "df.head(10)"
   ]
  },
  {
   "cell_type": "code",
   "execution_count": 15,
   "id": "9afc3176",
   "metadata": {},
   "outputs": [
    {
     "data": {
      "text/plain": [
       "count    24337.000000\n",
       "mean         0.569695\n",
       "std          0.299945\n",
       "min          0.000000\n",
       "25%          0.337423\n",
       "50%          0.588583\n",
       "75%          0.827586\n",
       "max          1.000000\n",
       "Name: orig_coverage, dtype: float64"
      ]
     },
     "execution_count": 15,
     "metadata": {},
     "output_type": "execute_result"
    }
   ],
   "source": [
    "df[\"orig_coverage\"].describe()"
   ]
  },
  {
   "cell_type": "code",
   "execution_count": 16,
   "id": "f84d2105",
   "metadata": {},
   "outputs": [
    {
     "data": {
      "text/plain": [
       "count    24337.000000\n",
       "mean         0.920156\n",
       "std          0.097768\n",
       "min          0.392000\n",
       "25%          0.867725\n",
       "50%          0.964286\n",
       "75%          1.000000\n",
       "max          1.000000\n",
       "Name: best_coverage, dtype: float64"
      ]
     },
     "execution_count": 16,
     "metadata": {},
     "output_type": "execute_result"
    }
   ],
   "source": [
    "df[\"best_coverage\"].describe()"
   ]
  },
  {
   "cell_type": "code",
   "execution_count": 17,
   "id": "6e1ef66c",
   "metadata": {},
   "outputs": [
    {
     "data": {
      "image/png": "[encoded data removed]",
      "text/plain": [
       "<Figure size 540x600 with 1 Axes>"
      ]
     },
     "metadata": {},
     "output_type": "display_data"
    }
   ],
   "source": [
    "fig, ax = plt.subplots(1, 1, figsize=(5.4, 6))\n",
    "# ax.set_aspect('equal')\n",
    "ax.grid(b=True, which='major', color='k', linestyle='--')\n",
    "plt.scatter(df[\"best_total\"], df[\"runtime\"], s=2)\n",
    "plt.xlabel(\"Monitoring Minutes\")\n",
    "plt.ylabel(\"Algorithm Runtime (seconds)\")\n",
    "plt.show()"
   ]
  },
  {
   "cell_type": "code",
   "execution_count": null,
   "id": "0fb8ce4c",
   "metadata": {},
   "outputs": [],
   "source": []
  }
 ],
 "metadata": {
  "kernelspec": {
   "display_name": "Python 3",
   "language": "python",
   "name": "python3"
  },
  "language_info": {
   "codemirror_mode": {
    "name": "ipython",
    "version": 3
   },
   "file_extension": ".py",
   "mimetype": "text/x-python",
   "name": "python",
   "nbconvert_exporter": "python",
   "pygments_lexer": "ipython3",
   "version": "3.7.10"
  }
 },
 "nbformat": 4,
 "nbformat_minor": 5
}
