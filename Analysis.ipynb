{
 "cells": [
  {
   "cell_type": "code",
   "execution_count": 1,
   "id": "39be39fb",
   "metadata": {},
   "outputs": [],
   "source": [
    "import argparse\n",
    "import csv\n",
    "from pathlib import Path\n",
    "import matplotlib.pyplot as plt\n",
    "import pickle\n",
    "import json\n",
    "import h5py\n",
    "import datetime\n",
    "import numpy as np\n",
    "import pandas as pd\n",
    "from tqdm import tqdm\n",
    "from scipy.stats import pearsonr\n",
    "\n",
    "pd.set_option('display.max_columns', None)"
   ]
  },
  {
   "cell_type": "markdown",
   "id": "c7970c27",
   "metadata": {},
   "source": [
    "## Load Data and Find Min/Max Bounds"
   ]
  },
  {
   "cell_type": "code",
   "execution_count": 2,
   "id": "a9d7ac83",
   "metadata": {},
   "outputs": [
    {
     "name": "stdout",
     "output_type": "stream",
     "text": [
      "(63624, 46)\n"
     ]
    },
    {
     "data": {
      "text/html": [
       "<div>\n",
       "<style scoped>\n",
       "    .dataframe tbody tr th:only-of-type {\n",
       "        vertical-align: middle;\n",
       "    }\n",
       "\n",
       "    .dataframe tbody tr th {\n",
       "        vertical-align: top;\n",
       "    }\n",
       "\n",
       "    .dataframe thead th {\n",
       "        text-align: right;\n",
       "    }\n",
       "</style>\n",
       "<table border=\"1\" class=\"dataframe\">\n",
       "  <thead>\n",
       "    <tr style=\"text-align: right;\">\n",
       "      <th></th>\n",
       "      <th>Unnamed: 0</th>\n",
       "      <th>CSN</th>\n",
       "      <th>Age</th>\n",
       "      <th>Gender</th>\n",
       "      <th>CC</th>\n",
       "      <th>Triage_acuity</th>\n",
       "      <th>Arrival_time</th>\n",
       "      <th>Arrival_area</th>\n",
       "      <th>Admit_area</th>\n",
       "      <th>First_room</th>\n",
       "      <th>Roomed_time</th>\n",
       "      <th>First_bed</th>\n",
       "      <th>Last_bed</th>\n",
       "      <th>ED_dispo</th>\n",
       "      <th>DC_dispo</th>\n",
       "      <th>Dispo_time</th>\n",
       "      <th>Admit_time</th>\n",
       "      <th>Departure_time</th>\n",
       "      <th>Admit_service</th>\n",
       "      <th>ED_LOS</th>\n",
       "      <th>Dx_ICD9</th>\n",
       "      <th>Dx_ICD10</th>\n",
       "      <th>Dx_name</th>\n",
       "      <th>Arrival_to_roomed</th>\n",
       "      <th>CC_CP_SOB</th>\n",
       "      <th>SpO2</th>\n",
       "      <th>RR</th>\n",
       "      <th>HR</th>\n",
       "      <th>Temp</th>\n",
       "      <th>SBP</th>\n",
       "      <th>DBP</th>\n",
       "      <th>CSN_char</th>\n",
       "      <th>Athero</th>\n",
       "      <th>HTN</th>\n",
       "      <th>HLD</th>\n",
       "      <th>DM</th>\n",
       "      <th>Obese</th>\n",
       "      <th>Smoking</th>\n",
       "      <th>DVT_PE</th>\n",
       "      <th>Malignancy</th>\n",
       "      <th>VS_measurements</th>\n",
       "      <th>Num_VS_states</th>\n",
       "      <th>Num_state_changes</th>\n",
       "      <th>study_matched</th>\n",
       "      <th>final_export_df_ids</th>\n",
       "      <th>final_studies</th>\n",
       "    </tr>\n",
       "  </thead>\n",
       "  <tbody>\n",
       "    <tr>\n",
       "      <th>0</th>\n",
       "      <td>2661</td>\n",
       "      <td>131291423319</td>\n",
       "      <td>19</td>\n",
       "      <td>M</td>\n",
       "      <td>FB SKIN</td>\n",
       "      <td>4-Semi-Urgent</td>\n",
       "      <td>2020-08-20T13:57:00Z</td>\n",
       "      <td>SHC ED 500P ED LOBBY</td>\n",
       "      <td>SHC ED 500P FAST TRACK</td>\n",
       "      <td>FT04</td>\n",
       "      <td>2020-08-20T14:05:00Z</td>\n",
       "      <td>FT04</td>\n",
       "      <td>FT04</td>\n",
       "      <td>Discharge</td>\n",
       "      <td>Home/Work (includes foster care)</td>\n",
       "      <td>2020-08-20T14:15:00Z</td>\n",
       "      <td>NaN</td>\n",
       "      <td>2020-08-20T14:26:00Z</td>\n",
       "      <td>NaN</td>\n",
       "      <td>0.48</td>\n",
       "      <td>931, E915</td>\n",
       "      <td>T16.2XXA</td>\n",
       "      <td>Foreign body of left ear, initial encounter</td>\n",
       "      <td>8</td>\n",
       "      <td>0</td>\n",
       "      <td>98.0</td>\n",
       "      <td>18.0</td>\n",
       "      <td>81.0</td>\n",
       "      <td>36.9</td>\n",
       "      <td>145.0</td>\n",
       "      <td>87.0</td>\n",
       "      <td>131291423319</td>\n",
       "      <td>NaN</td>\n",
       "      <td>NaN</td>\n",
       "      <td>NaN</td>\n",
       "      <td>NaN</td>\n",
       "      <td>NaN</td>\n",
       "      <td>NaN</td>\n",
       "      <td>NaN</td>\n",
       "      <td>NaN</td>\n",
       "      <td>1</td>\n",
       "      <td>1</td>\n",
       "      <td>0</td>\n",
       "      <td>True</td>\n",
       "      <td>110</td>\n",
       "      <td>STUDY-014889</td>\n",
       "    </tr>\n",
       "    <tr>\n",
       "      <th>1</th>\n",
       "      <td>2664</td>\n",
       "      <td>131291426215</td>\n",
       "      <td>57</td>\n",
       "      <td>F</td>\n",
       "      <td>HAND PAIN</td>\n",
       "      <td>4-Semi-Urgent</td>\n",
       "      <td>2020-08-20T14:22:00Z</td>\n",
       "      <td>SHC ED 500P ED LOBBY</td>\n",
       "      <td>SHC ED 500P FAST TRACK</td>\n",
       "      <td>FT03</td>\n",
       "      <td>2020-08-20T14:31:00Z</td>\n",
       "      <td>FT03</td>\n",
       "      <td>FT03</td>\n",
       "      <td>Discharge</td>\n",
       "      <td>Home/Work (includes foster care)</td>\n",
       "      <td>2020-08-20T15:06:00Z</td>\n",
       "      <td>NaN</td>\n",
       "      <td>2020-08-20T15:05:00Z</td>\n",
       "      <td>NaN</td>\n",
       "      <td>0.72</td>\n",
       "      <td>V58.89, 879.8</td>\n",
       "      <td>W55.01XD</td>\n",
       "      <td>Cat bite, subsequent encounter</td>\n",
       "      <td>9</td>\n",
       "      <td>0</td>\n",
       "      <td>97.0</td>\n",
       "      <td>18.0</td>\n",
       "      <td>62.0</td>\n",
       "      <td>36.4</td>\n",
       "      <td>126.0</td>\n",
       "      <td>67.0</td>\n",
       "      <td>131291426215</td>\n",
       "      <td>NaN</td>\n",
       "      <td>NaN</td>\n",
       "      <td>NaN</td>\n",
       "      <td>NaN</td>\n",
       "      <td>NaN</td>\n",
       "      <td>NaN</td>\n",
       "      <td>NaN</td>\n",
       "      <td>NaN</td>\n",
       "      <td>1</td>\n",
       "      <td>1</td>\n",
       "      <td>0</td>\n",
       "      <td>True</td>\n",
       "      <td>186</td>\n",
       "      <td>STUDY-014968</td>\n",
       "    </tr>\n",
       "    <tr>\n",
       "      <th>2</th>\n",
       "      <td>2669</td>\n",
       "      <td>131291431737</td>\n",
       "      <td>20</td>\n",
       "      <td>M</td>\n",
       "      <td>URINARY FREQUENCY</td>\n",
       "      <td>4-Semi-Urgent</td>\n",
       "      <td>2020-08-20T15:06:00Z</td>\n",
       "      <td>SHC ED 500P ED LOBBY</td>\n",
       "      <td>SHC ED 500P FAST TRACK</td>\n",
       "      <td>FT04</td>\n",
       "      <td>2020-08-20T15:18:00Z</td>\n",
       "      <td>FT04</td>\n",
       "      <td>FT04</td>\n",
       "      <td>Discharge</td>\n",
       "      <td>Home/Work (includes foster care)</td>\n",
       "      <td>2020-08-20T18:58:00Z</td>\n",
       "      <td>NaN</td>\n",
       "      <td>2020-08-20T19:53:00Z</td>\n",
       "      <td>NaN</td>\n",
       "      <td>4.78</td>\n",
       "      <td>788.1</td>\n",
       "      <td>R30.0</td>\n",
       "      <td>Dysuria</td>\n",
       "      <td>12</td>\n",
       "      <td>0</td>\n",
       "      <td>100.0</td>\n",
       "      <td>18.0</td>\n",
       "      <td>140.0</td>\n",
       "      <td>36.2</td>\n",
       "      <td>145.0</td>\n",
       "      <td>83.0</td>\n",
       "      <td>131291431737</td>\n",
       "      <td>0.0</td>\n",
       "      <td>0.0</td>\n",
       "      <td>0.0</td>\n",
       "      <td>0.0</td>\n",
       "      <td>0.0</td>\n",
       "      <td>0.0</td>\n",
       "      <td>0.0</td>\n",
       "      <td>0.0</td>\n",
       "      <td>4</td>\n",
       "      <td>1</td>\n",
       "      <td>0</td>\n",
       "      <td>True</td>\n",
       "      <td>110</td>\n",
       "      <td>STUDY-014889</td>\n",
       "    </tr>\n",
       "  </tbody>\n",
       "</table>\n",
       "</div>"
      ],
      "text/plain": [
       "   Unnamed: 0           CSN  Age Gender                 CC  Triage_acuity  \\\n",
       "0        2661  131291423319   19      M            FB SKIN  4-Semi-Urgent   \n",
       "1        2664  131291426215   57      F          HAND PAIN  4-Semi-Urgent   \n",
       "2        2669  131291431737   20      M  URINARY FREQUENCY  4-Semi-Urgent   \n",
       "\n",
       "           Arrival_time          Arrival_area              Admit_area  \\\n",
       "0  2020-08-20T13:57:00Z  SHC ED 500P ED LOBBY  SHC ED 500P FAST TRACK   \n",
       "1  2020-08-20T14:22:00Z  SHC ED 500P ED LOBBY  SHC ED 500P FAST TRACK   \n",
       "2  2020-08-20T15:06:00Z  SHC ED 500P ED LOBBY  SHC ED 500P FAST TRACK   \n",
       "\n",
       "  First_room           Roomed_time First_bed Last_bed   ED_dispo  \\\n",
       "0       FT04  2020-08-20T14:05:00Z      FT04     FT04  Discharge   \n",
       "1       FT03  2020-08-20T14:31:00Z      FT03     FT03  Discharge   \n",
       "2       FT04  2020-08-20T15:18:00Z      FT04     FT04  Discharge   \n",
       "\n",
       "                           DC_dispo            Dispo_time Admit_time  \\\n",
       "0  Home/Work (includes foster care)  2020-08-20T14:15:00Z        NaN   \n",
       "1  Home/Work (includes foster care)  2020-08-20T15:06:00Z        NaN   \n",
       "2  Home/Work (includes foster care)  2020-08-20T18:58:00Z        NaN   \n",
       "\n",
       "         Departure_time Admit_service  ED_LOS        Dx_ICD9  Dx_ICD10  \\\n",
       "0  2020-08-20T14:26:00Z           NaN    0.48      931, E915  T16.2XXA   \n",
       "1  2020-08-20T15:05:00Z           NaN    0.72  V58.89, 879.8  W55.01XD   \n",
       "2  2020-08-20T19:53:00Z           NaN    4.78          788.1     R30.0   \n",
       "\n",
       "                                       Dx_name  Arrival_to_roomed  CC_CP_SOB  \\\n",
       "0  Foreign body of left ear, initial encounter                  8          0   \n",
       "1               Cat bite, subsequent encounter                  9          0   \n",
       "2                                      Dysuria                 12          0   \n",
       "\n",
       "    SpO2    RR     HR  Temp    SBP   DBP      CSN_char  Athero  HTN  HLD   DM  \\\n",
       "0   98.0  18.0   81.0  36.9  145.0  87.0  131291423319     NaN  NaN  NaN  NaN   \n",
       "1   97.0  18.0   62.0  36.4  126.0  67.0  131291426215     NaN  NaN  NaN  NaN   \n",
       "2  100.0  18.0  140.0  36.2  145.0  83.0  131291431737     0.0  0.0  0.0  0.0   \n",
       "\n",
       "   Obese  Smoking  DVT_PE  Malignancy  VS_measurements  Num_VS_states  \\\n",
       "0    NaN      NaN     NaN         NaN                1              1   \n",
       "1    NaN      NaN     NaN         NaN                1              1   \n",
       "2    0.0      0.0     0.0         0.0                4              1   \n",
       "\n",
       "   Num_state_changes  study_matched final_export_df_ids final_studies  \n",
       "0                  0           True                 110  STUDY-014889  \n",
       "1                  0           True                 186  STUDY-014968  \n",
       "2                  0           True                 110  STUDY-014889  "
      ]
     },
     "execution_count": 2,
     "metadata": {},
     "output_type": "execute_result"
    }
   ],
   "source": [
    "df_cohort = pd.read_csv(\"/deep/group/physiologic-states/v3/matched-cohort.csv\")\n",
    "print(df_cohort.shape)\n",
    "df_cohort.head(3)"
   ]
  },
  {
   "cell_type": "code",
   "execution_count": 3,
   "id": "248a478a",
   "metadata": {},
   "outputs": [
    {
     "name": "stdout",
     "output_type": "stream",
     "text": [
      "(90195, 34)\n"
     ]
    },
    {
     "data": {
      "text/html": [
       "<div>\n",
       "<style scoped>\n",
       "    .dataframe tbody tr th:only-of-type {\n",
       "        vertical-align: middle;\n",
       "    }\n",
       "\n",
       "    .dataframe tbody tr th {\n",
       "        vertical-align: top;\n",
       "    }\n",
       "\n",
       "    .dataframe thead th {\n",
       "        text-align: right;\n",
       "    }\n",
       "</style>\n",
       "<table border=\"1\" class=\"dataframe\">\n",
       "  <thead>\n",
       "    <tr style=\"text-align: right;\">\n",
       "      <th></th>\n",
       "      <th>Unnamed: 0</th>\n",
       "      <th>CSN</th>\n",
       "      <th>Age</th>\n",
       "      <th>Gender</th>\n",
       "      <th>CC</th>\n",
       "      <th>Triage_acuity</th>\n",
       "      <th>Arrival_time</th>\n",
       "      <th>Arrival_area</th>\n",
       "      <th>Admit_area</th>\n",
       "      <th>First_room</th>\n",
       "      <th>Roomed_time</th>\n",
       "      <th>First_bed</th>\n",
       "      <th>Last_bed</th>\n",
       "      <th>ED_dispo</th>\n",
       "      <th>DC_dispo</th>\n",
       "      <th>Dispo_time</th>\n",
       "      <th>Admit_time</th>\n",
       "      <th>Departure_time</th>\n",
       "      <th>Admit_service</th>\n",
       "      <th>ED_LOS</th>\n",
       "      <th>Dx_ICD9</th>\n",
       "      <th>Dx_ICD10</th>\n",
       "      <th>Dx_name</th>\n",
       "      <th>Arrival_to_roomed</th>\n",
       "      <th>CC_CP_SOB</th>\n",
       "      <th>SpO2</th>\n",
       "      <th>RR</th>\n",
       "      <th>HR</th>\n",
       "      <th>Temp</th>\n",
       "      <th>SBP</th>\n",
       "      <th>DBP</th>\n",
       "      <th>study_matched</th>\n",
       "      <th>final_export_df_ids</th>\n",
       "      <th>final_studies</th>\n",
       "    </tr>\n",
       "  </thead>\n",
       "  <tbody>\n",
       "    <tr>\n",
       "      <th>0</th>\n",
       "      <td>2784</td>\n",
       "      <td>131291423319</td>\n",
       "      <td>19</td>\n",
       "      <td>M</td>\n",
       "      <td>FB SKIN</td>\n",
       "      <td>4-Semi-Urgent</td>\n",
       "      <td>2020-08-20T13:57:00Z</td>\n",
       "      <td>SHC ED 500P ED LOBBY</td>\n",
       "      <td>SHC ED 500P FAST TRACK</td>\n",
       "      <td>FT04</td>\n",
       "      <td>2020-08-20T14:05:00Z</td>\n",
       "      <td>FT04</td>\n",
       "      <td>FT04</td>\n",
       "      <td>Discharge</td>\n",
       "      <td>Home/Work (includes foster care)</td>\n",
       "      <td>2020-08-20T14:15:00Z</td>\n",
       "      <td>NaN</td>\n",
       "      <td>2020-08-20T14:26:00Z</td>\n",
       "      <td>NaN</td>\n",
       "      <td>0.48</td>\n",
       "      <td>931, E915</td>\n",
       "      <td>T16.2XXA</td>\n",
       "      <td>Foreign body of left ear, initial encounter</td>\n",
       "      <td>8</td>\n",
       "      <td>0</td>\n",
       "      <td>98.0</td>\n",
       "      <td>18.0</td>\n",
       "      <td>81.0</td>\n",
       "      <td>36.9</td>\n",
       "      <td>145.0</td>\n",
       "      <td>87.0</td>\n",
       "      <td>True</td>\n",
       "      <td>110</td>\n",
       "      <td>STUDY-014889</td>\n",
       "    </tr>\n",
       "    <tr>\n",
       "      <th>1</th>\n",
       "      <td>2785</td>\n",
       "      <td>131291424879</td>\n",
       "      <td>21</td>\n",
       "      <td>F</td>\n",
       "      <td>ABDOMINAL PAIN</td>\n",
       "      <td>4-Semi-Urgent</td>\n",
       "      <td>2020-08-20T14:10:00Z</td>\n",
       "      <td>SHC ED 500P ED LOBBY</td>\n",
       "      <td>SHC ED 500P FAST TRACK</td>\n",
       "      <td>FT03</td>\n",
       "      <td>2020-08-20T14:21:00Z</td>\n",
       "      <td>FT03</td>\n",
       "      <td>FT03</td>\n",
       "      <td>Discharge</td>\n",
       "      <td>Home/Work (includes foster care)</td>\n",
       "      <td>2020-08-20T18:08:00Z</td>\n",
       "      <td>NaN</td>\n",
       "      <td>2020-08-20T18:14:00Z</td>\n",
       "      <td>NaN</td>\n",
       "      <td>4.07</td>\n",
       "      <td>623.8</td>\n",
       "      <td>N93.9</td>\n",
       "      <td>Vaginal spotting</td>\n",
       "      <td>11</td>\n",
       "      <td>0</td>\n",
       "      <td>100.0</td>\n",
       "      <td>18.0</td>\n",
       "      <td>70.0</td>\n",
       "      <td>36.6</td>\n",
       "      <td>127.0</td>\n",
       "      <td>62.0</td>\n",
       "      <td>True</td>\n",
       "      <td>186</td>\n",
       "      <td>STUDY-014968</td>\n",
       "    </tr>\n",
       "    <tr>\n",
       "      <th>2</th>\n",
       "      <td>2787</td>\n",
       "      <td>131291426215</td>\n",
       "      <td>57</td>\n",
       "      <td>F</td>\n",
       "      <td>HAND PAIN</td>\n",
       "      <td>4-Semi-Urgent</td>\n",
       "      <td>2020-08-20T14:22:00Z</td>\n",
       "      <td>SHC ED 500P ED LOBBY</td>\n",
       "      <td>SHC ED 500P FAST TRACK</td>\n",
       "      <td>FT03</td>\n",
       "      <td>2020-08-20T14:31:00Z</td>\n",
       "      <td>FT03</td>\n",
       "      <td>FT03</td>\n",
       "      <td>Discharge</td>\n",
       "      <td>Home/Work (includes foster care)</td>\n",
       "      <td>2020-08-20T15:06:00Z</td>\n",
       "      <td>NaN</td>\n",
       "      <td>2020-08-20T15:05:00Z</td>\n",
       "      <td>NaN</td>\n",
       "      <td>0.72</td>\n",
       "      <td>V58.89, 879.8</td>\n",
       "      <td>W55.01XD</td>\n",
       "      <td>Cat bite, subsequent encounter</td>\n",
       "      <td>9</td>\n",
       "      <td>0</td>\n",
       "      <td>97.0</td>\n",
       "      <td>18.0</td>\n",
       "      <td>62.0</td>\n",
       "      <td>36.4</td>\n",
       "      <td>126.0</td>\n",
       "      <td>67.0</td>\n",
       "      <td>True</td>\n",
       "      <td>186</td>\n",
       "      <td>STUDY-014968</td>\n",
       "    </tr>\n",
       "  </tbody>\n",
       "</table>\n",
       "</div>"
      ],
      "text/plain": [
       "   Unnamed: 0           CSN  Age Gender              CC  Triage_acuity  \\\n",
       "0        2784  131291423319   19      M         FB SKIN  4-Semi-Urgent   \n",
       "1        2785  131291424879   21      F  ABDOMINAL PAIN  4-Semi-Urgent   \n",
       "2        2787  131291426215   57      F       HAND PAIN  4-Semi-Urgent   \n",
       "\n",
       "           Arrival_time          Arrival_area              Admit_area  \\\n",
       "0  2020-08-20T13:57:00Z  SHC ED 500P ED LOBBY  SHC ED 500P FAST TRACK   \n",
       "1  2020-08-20T14:10:00Z  SHC ED 500P ED LOBBY  SHC ED 500P FAST TRACK   \n",
       "2  2020-08-20T14:22:00Z  SHC ED 500P ED LOBBY  SHC ED 500P FAST TRACK   \n",
       "\n",
       "  First_room           Roomed_time First_bed Last_bed   ED_dispo  \\\n",
       "0       FT04  2020-08-20T14:05:00Z      FT04     FT04  Discharge   \n",
       "1       FT03  2020-08-20T14:21:00Z      FT03     FT03  Discharge   \n",
       "2       FT03  2020-08-20T14:31:00Z      FT03     FT03  Discharge   \n",
       "\n",
       "                           DC_dispo            Dispo_time Admit_time  \\\n",
       "0  Home/Work (includes foster care)  2020-08-20T14:15:00Z        NaN   \n",
       "1  Home/Work (includes foster care)  2020-08-20T18:08:00Z        NaN   \n",
       "2  Home/Work (includes foster care)  2020-08-20T15:06:00Z        NaN   \n",
       "\n",
       "         Departure_time Admit_service  ED_LOS        Dx_ICD9  Dx_ICD10  \\\n",
       "0  2020-08-20T14:26:00Z           NaN    0.48      931, E915  T16.2XXA   \n",
       "1  2020-08-20T18:14:00Z           NaN    4.07          623.8     N93.9   \n",
       "2  2020-08-20T15:05:00Z           NaN    0.72  V58.89, 879.8  W55.01XD   \n",
       "\n",
       "                                       Dx_name  Arrival_to_roomed  CC_CP_SOB  \\\n",
       "0  Foreign body of left ear, initial encounter                  8          0   \n",
       "1                             Vaginal spotting                 11          0   \n",
       "2               Cat bite, subsequent encounter                  9          0   \n",
       "\n",
       "    SpO2    RR    HR  Temp    SBP   DBP  study_matched final_export_df_ids  \\\n",
       "0   98.0  18.0  81.0  36.9  145.0  87.0           True                 110   \n",
       "1  100.0  18.0  70.0  36.6  127.0  62.0           True                 186   \n",
       "2   97.0  18.0  62.0  36.4  126.0  67.0           True                 186   \n",
       "\n",
       "  final_studies  \n",
       "0  STUDY-014889  \n",
       "1  STUDY-014968  \n",
       "2  STUDY-014968  "
      ]
     },
     "execution_count": 3,
     "metadata": {},
     "output_type": "execute_result"
    }
   ],
   "source": [
    "df_cohort = pd.read_csv(\"/deep/group/ed-monitor-self-supervised/v4/matched-cohort.csv\")\n",
    "print(df_cohort.shape)\n",
    "df_cohort.head(3)"
   ]
  },
  {
   "cell_type": "code",
   "execution_count": 4,
   "id": "be08f583",
   "metadata": {},
   "outputs": [
    {
     "data": {
      "text/html": [
       "<div>\n",
       "<style scoped>\n",
       "    .dataframe tbody tr th:only-of-type {\n",
       "        vertical-align: middle;\n",
       "    }\n",
       "\n",
       "    .dataframe tbody tr th {\n",
       "        vertical-align: top;\n",
       "    }\n",
       "\n",
       "    .dataframe thead th {\n",
       "        text-align: right;\n",
       "    }\n",
       "</style>\n",
       "<table border=\"1\" class=\"dataframe\">\n",
       "  <thead>\n",
       "    <tr style=\"text-align: right;\">\n",
       "      <th></th>\n",
       "      <th>Unnamed: 0</th>\n",
       "      <th>CSN</th>\n",
       "      <th>Age</th>\n",
       "      <th>Gender</th>\n",
       "      <th>CC</th>\n",
       "      <th>Triage_acuity</th>\n",
       "      <th>Arrival_time</th>\n",
       "      <th>Arrival_area</th>\n",
       "      <th>Admit_area</th>\n",
       "      <th>First_room</th>\n",
       "      <th>Roomed_time</th>\n",
       "      <th>First_bed</th>\n",
       "      <th>Last_bed</th>\n",
       "      <th>ED_dispo</th>\n",
       "      <th>DC_dispo</th>\n",
       "      <th>Dispo_time</th>\n",
       "      <th>Admit_time</th>\n",
       "      <th>Departure_time</th>\n",
       "      <th>Admit_service</th>\n",
       "      <th>ED_LOS</th>\n",
       "      <th>Dx_ICD9</th>\n",
       "      <th>Dx_ICD10</th>\n",
       "      <th>Dx_name</th>\n",
       "      <th>Arrival_to_roomed</th>\n",
       "      <th>CC_CP_SOB</th>\n",
       "      <th>SpO2</th>\n",
       "      <th>RR</th>\n",
       "      <th>HR</th>\n",
       "      <th>Temp</th>\n",
       "      <th>SBP</th>\n",
       "      <th>DBP</th>\n",
       "      <th>study_matched</th>\n",
       "      <th>final_export_df_ids</th>\n",
       "      <th>final_studies</th>\n",
       "    </tr>\n",
       "  </thead>\n",
       "  <tbody>\n",
       "    <tr>\n",
       "      <th>70486</th>\n",
       "      <td>80630</td>\n",
       "      <td>131322272021</td>\n",
       "      <td>73</td>\n",
       "      <td>M</td>\n",
       "      <td>BLOOD IN VOMIT</td>\n",
       "      <td>3-Urgent</td>\n",
       "      <td>2021-12-27T00:03:00Z</td>\n",
       "      <td>SHC ED 500P ED LOBBY</td>\n",
       "      <td>SHC ED 500P ALPHA Y ZONE</td>\n",
       "      <td>A17</td>\n",
       "      <td>2021-12-27T00:33:00Z</td>\n",
       "      <td>A17</td>\n",
       "      <td>A17</td>\n",
       "      <td>Admit to Inpatient</td>\n",
       "      <td>Home/Work (includes foster care)</td>\n",
       "      <td>2021-12-27T04:52:00Z</td>\n",
       "      <td>2021-12-27T05:05:00Z</td>\n",
       "      <td>2021-12-27T06:09:00Z</td>\n",
       "      <td>Critical Care</td>\n",
       "      <td>6.1</td>\n",
       "      <td>250.12</td>\n",
       "      <td>E11.10</td>\n",
       "      <td>Diabetic ketoacidosis without coma associated ...</td>\n",
       "      <td>30</td>\n",
       "      <td>0</td>\n",
       "      <td>96.0</td>\n",
       "      <td>19.0</td>\n",
       "      <td>110.0</td>\n",
       "      <td>37.2</td>\n",
       "      <td>108.0</td>\n",
       "      <td>47.0</td>\n",
       "      <td>True</td>\n",
       "      <td>49769,50301</td>\n",
       "      <td>STUDY-180101,STUDY-180633</td>\n",
       "    </tr>\n",
       "  </tbody>\n",
       "</table>\n",
       "</div>"
      ],
      "text/plain": [
       "       Unnamed: 0           CSN  Age Gender              CC Triage_acuity  \\\n",
       "70486       80630  131322272021   73      M  BLOOD IN VOMIT      3-Urgent   \n",
       "\n",
       "               Arrival_time          Arrival_area                Admit_area  \\\n",
       "70486  2021-12-27T00:03:00Z  SHC ED 500P ED LOBBY  SHC ED 500P ALPHA Y ZONE   \n",
       "\n",
       "      First_room           Roomed_time First_bed Last_bed            ED_dispo  \\\n",
       "70486        A17  2021-12-27T00:33:00Z       A17      A17  Admit to Inpatient   \n",
       "\n",
       "                               DC_dispo            Dispo_time  \\\n",
       "70486  Home/Work (includes foster care)  2021-12-27T04:52:00Z   \n",
       "\n",
       "                 Admit_time        Departure_time  Admit_service  ED_LOS  \\\n",
       "70486  2021-12-27T05:05:00Z  2021-12-27T06:09:00Z  Critical Care     6.1   \n",
       "\n",
       "      Dx_ICD9 Dx_ICD10                                            Dx_name  \\\n",
       "70486  250.12   E11.10  Diabetic ketoacidosis without coma associated ...   \n",
       "\n",
       "       Arrival_to_roomed  CC_CP_SOB  SpO2    RR     HR  Temp    SBP   DBP  \\\n",
       "70486                 30          0  96.0  19.0  110.0  37.2  108.0  47.0   \n",
       "\n",
       "       study_matched final_export_df_ids              final_studies  \n",
       "70486           True         49769,50301  STUDY-180101,STUDY-180633  "
      ]
     },
     "execution_count": 4,
     "metadata": {},
     "output_type": "execute_result"
    }
   ],
   "source": [
    "df_cohort[df_cohort[\"CSN\"] == 131322272021]"
   ]
  },
  {
   "cell_type": "code",
   "execution_count": null,
   "id": "0350ff12",
   "metadata": {},
   "outputs": [],
   "source": []
  },
  {
   "cell_type": "code",
   "execution_count": 5,
   "id": "495fb6bb",
   "metadata": {},
   "outputs": [
    {
     "name": "stdout",
     "output_type": "stream",
     "text": [
      "(17147044, 17)\n"
     ]
    },
    {
     "data": {
      "text/html": [
       "<div>\n",
       "<style scoped>\n",
       "    .dataframe tbody tr th:only-of-type {\n",
       "        vertical-align: middle;\n",
       "    }\n",
       "\n",
       "    .dataframe tbody tr th {\n",
       "        vertical-align: top;\n",
       "    }\n",
       "\n",
       "    .dataframe thead th {\n",
       "        text-align: right;\n",
       "    }\n",
       "</style>\n",
       "<table border=\"1\" class=\"dataframe\">\n",
       "  <thead>\n",
       "    <tr style=\"text-align: right;\">\n",
       "      <th></th>\n",
       "      <th>CSN</th>\n",
       "      <th>Variable</th>\n",
       "      <th>Time</th>\n",
       "      <th>Triage</th>\n",
       "      <th>Chart_filled</th>\n",
       "      <th>Charted</th>\n",
       "      <th>Monitor</th>\n",
       "      <th>Low_bound</th>\n",
       "      <th>High_bound</th>\n",
       "      <th>CSN_char</th>\n",
       "      <th>Coverage</th>\n",
       "      <th>Arrival_time</th>\n",
       "      <th>Roomed_time</th>\n",
       "      <th>Minutes_since_arrival</th>\n",
       "      <th>Arrival_to_roomed</th>\n",
       "      <th>Covered</th>\n",
       "      <th>Coverage_without</th>\n",
       "    </tr>\n",
       "  </thead>\n",
       "  <tbody>\n",
       "    <tr>\n",
       "      <th>0</th>\n",
       "      <td>131291536204</td>\n",
       "      <td>HR</td>\n",
       "      <td>2020-08-24T00:36:00Z</td>\n",
       "      <td>1</td>\n",
       "      <td>86.0</td>\n",
       "      <td>86.0</td>\n",
       "      <td>NaN</td>\n",
       "      <td>81.0</td>\n",
       "      <td>91.0</td>\n",
       "      <td>131291536204</td>\n",
       "      <td>0.15748</td>\n",
       "      <td>2020-08-24T00:36:00Z</td>\n",
       "      <td>2020-08-24T01:03:00Z</td>\n",
       "      <td>0</td>\n",
       "      <td>27</td>\n",
       "      <td>NaN</td>\n",
       "      <td>NaN</td>\n",
       "    </tr>\n",
       "    <tr>\n",
       "      <th>1</th>\n",
       "      <td>131291536204</td>\n",
       "      <td>HR</td>\n",
       "      <td>2020-08-24T01:08:00Z</td>\n",
       "      <td>0</td>\n",
       "      <td>86.0</td>\n",
       "      <td>NaN</td>\n",
       "      <td>73.521739</td>\n",
       "      <td>81.0</td>\n",
       "      <td>91.0</td>\n",
       "      <td>131291536204</td>\n",
       "      <td>0.15748</td>\n",
       "      <td>2020-08-24T00:36:00Z</td>\n",
       "      <td>2020-08-24T01:03:00Z</td>\n",
       "      <td>32</td>\n",
       "      <td>27</td>\n",
       "      <td>0.0</td>\n",
       "      <td>NaN</td>\n",
       "    </tr>\n",
       "    <tr>\n",
       "      <th>2</th>\n",
       "      <td>131291536204</td>\n",
       "      <td>HR</td>\n",
       "      <td>2020-08-24T01:09:00Z</td>\n",
       "      <td>0</td>\n",
       "      <td>86.0</td>\n",
       "      <td>NaN</td>\n",
       "      <td>72.728814</td>\n",
       "      <td>81.0</td>\n",
       "      <td>91.0</td>\n",
       "      <td>131291536204</td>\n",
       "      <td>0.15748</td>\n",
       "      <td>2020-08-24T00:36:00Z</td>\n",
       "      <td>2020-08-24T01:03:00Z</td>\n",
       "      <td>33</td>\n",
       "      <td>27</td>\n",
       "      <td>0.0</td>\n",
       "      <td>NaN</td>\n",
       "    </tr>\n",
       "  </tbody>\n",
       "</table>\n",
       "</div>"
      ],
      "text/plain": [
       "            CSN Variable                  Time  Triage  Chart_filled  Charted  \\\n",
       "0  131291536204       HR  2020-08-24T00:36:00Z       1          86.0     86.0   \n",
       "1  131291536204       HR  2020-08-24T01:08:00Z       0          86.0      NaN   \n",
       "2  131291536204       HR  2020-08-24T01:09:00Z       0          86.0      NaN   \n",
       "\n",
       "     Monitor  Low_bound  High_bound      CSN_char  Coverage  \\\n",
       "0        NaN       81.0        91.0  131291536204   0.15748   \n",
       "1  73.521739       81.0        91.0  131291536204   0.15748   \n",
       "2  72.728814       81.0        91.0  131291536204   0.15748   \n",
       "\n",
       "           Arrival_time           Roomed_time  Minutes_since_arrival  \\\n",
       "0  2020-08-24T00:36:00Z  2020-08-24T01:03:00Z                      0   \n",
       "1  2020-08-24T00:36:00Z  2020-08-24T01:03:00Z                     32   \n",
       "2  2020-08-24T00:36:00Z  2020-08-24T01:03:00Z                     33   \n",
       "\n",
       "   Arrival_to_roomed  Covered  Coverage_without  \n",
       "0                 27      NaN               NaN  \n",
       "1                 27      0.0               NaN  \n",
       "2                 27      0.0               NaN  "
      ]
     },
     "execution_count": 5,
     "metadata": {},
     "output_type": "execute_result"
    }
   ],
   "source": [
    "df_states_all = pd.read_csv(\"/deep/group/physiologic-states/v3/coverage_2022_02_17.csv\")\n",
    "print(df_states_all.shape)\n",
    "df_states_all.head(3)"
   ]
  },
  {
   "cell_type": "code",
   "execution_count": 6,
   "id": "d44f7bf0",
   "metadata": {},
   "outputs": [
    {
     "data": {
      "text/plain": [
       "(17043220, 17)"
      ]
     },
     "execution_count": 6,
     "metadata": {},
     "output_type": "execute_result"
    }
   ],
   "source": [
    "df_states_all = df_states_all[~df_states_all[\"Monitor\"].isna()]\n",
    "df_states_all.shape"
   ]
  },
  {
   "cell_type": "code",
   "execution_count": 7,
   "id": "3ddb79ad",
   "metadata": {},
   "outputs": [],
   "source": [
    "gb = df_states_all.groupby(['CSN'])\n",
    "df_states_all_gb = gb.agg({'Time' : [np.min, np.max]})"
   ]
  },
  {
   "cell_type": "code",
   "execution_count": 8,
   "id": "085a32e7",
   "metadata": {},
   "outputs": [
    {
     "data": {
      "text/html": [
       "<div>\n",
       "<style scoped>\n",
       "    .dataframe tbody tr th:only-of-type {\n",
       "        vertical-align: middle;\n",
       "    }\n",
       "\n",
       "    .dataframe tbody tr th {\n",
       "        vertical-align: top;\n",
       "    }\n",
       "\n",
       "    .dataframe thead tr th {\n",
       "        text-align: left;\n",
       "    }\n",
       "\n",
       "    .dataframe thead tr:last-of-type th {\n",
       "        text-align: right;\n",
       "    }\n",
       "</style>\n",
       "<table border=\"1\" class=\"dataframe\">\n",
       "  <thead>\n",
       "    <tr>\n",
       "      <th></th>\n",
       "      <th colspan=\"2\" halign=\"left\">Time</th>\n",
       "    </tr>\n",
       "    <tr>\n",
       "      <th></th>\n",
       "      <th>amin</th>\n",
       "      <th>amax</th>\n",
       "    </tr>\n",
       "    <tr>\n",
       "      <th>CSN</th>\n",
       "      <th></th>\n",
       "      <th></th>\n",
       "    </tr>\n",
       "  </thead>\n",
       "  <tbody>\n",
       "    <tr>\n",
       "      <th>131291536204</th>\n",
       "      <td>2020-08-24T01:08:00Z</td>\n",
       "      <td>2020-08-24T05:21:00Z</td>\n",
       "    </tr>\n",
       "    <tr>\n",
       "      <th>131291536239</th>\n",
       "      <td>2020-08-24T00:46:00Z</td>\n",
       "      <td>2020-08-24T03:48:00Z</td>\n",
       "    </tr>\n",
       "    <tr>\n",
       "      <th>131291536535</th>\n",
       "      <td>2020-08-24T01:53:00Z</td>\n",
       "      <td>2020-08-24T03:17:00Z</td>\n",
       "    </tr>\n",
       "  </tbody>\n",
       "</table>\n",
       "</div>"
      ],
      "text/plain": [
       "                              Time                      \n",
       "                              amin                  amax\n",
       "CSN                                                     \n",
       "131291536204  2020-08-24T01:08:00Z  2020-08-24T05:21:00Z\n",
       "131291536239  2020-08-24T00:46:00Z  2020-08-24T03:48:00Z\n",
       "131291536535  2020-08-24T01:53:00Z  2020-08-24T03:17:00Z"
      ]
     },
     "execution_count": 8,
     "metadata": {},
     "output_type": "execute_result"
    }
   ],
   "source": [
    "df_states_all_gb.head(3)"
   ]
  },
  {
   "cell_type": "code",
   "execution_count": 9,
   "id": "f29e9024",
   "metadata": {},
   "outputs": [
    {
     "name": "stderr",
     "output_type": "stream",
     "text": [
      "25956it [00:10, 2543.31it/s]\n"
     ]
    }
   ],
   "source": [
    "csn_to_max_time = {}\n",
    "csn_to_min_time = {}\n",
    "for i, row in tqdm(df_states_all_gb.iterrows()):\n",
    "    csn = row.name\n",
    "    \n",
    "    min_time = datetime.datetime.strptime(row[\"Time\"][\"amin\"], \"%Y-%m-%dT%H:%M:%S%z\")\n",
    "    max_time = datetime.datetime.strptime(row[\"Time\"][\"amax\"], \"%Y-%m-%dT%H:%M:%S%z\")\n",
    "    csn_to_min_time[csn] = min_time\n",
    "    csn_to_max_time[csn] = max_time"
   ]
  },
  {
   "cell_type": "code",
   "execution_count": null,
   "id": "1242dc89",
   "metadata": {},
   "outputs": [],
   "source": []
  },
  {
   "cell_type": "markdown",
   "id": "a657647c",
   "metadata": {},
   "source": [
    "## Nurse Charted Event Placements"
   ]
  },
  {
   "cell_type": "code",
   "execution_count": 10,
   "id": "e4c7b2a2",
   "metadata": {},
   "outputs": [
    {
     "name": "stdout",
     "output_type": "stream",
     "text": [
      "(462580, 18)\n"
     ]
    },
    {
     "data": {
      "text/html": [
       "<div>\n",
       "<style scoped>\n",
       "    .dataframe tbody tr th:only-of-type {\n",
       "        vertical-align: middle;\n",
       "    }\n",
       "\n",
       "    .dataframe tbody tr th {\n",
       "        vertical-align: top;\n",
       "    }\n",
       "\n",
       "    .dataframe thead th {\n",
       "        text-align: right;\n",
       "    }\n",
       "</style>\n",
       "<table border=\"1\" class=\"dataframe\">\n",
       "  <thead>\n",
       "    <tr style=\"text-align: right;\">\n",
       "      <th></th>\n",
       "      <th>Unnamed: 0</th>\n",
       "      <th>CSN</th>\n",
       "      <th>Variable</th>\n",
       "      <th>Time</th>\n",
       "      <th>Triage</th>\n",
       "      <th>Chart_filled</th>\n",
       "      <th>Charted</th>\n",
       "      <th>Monitor</th>\n",
       "      <th>Low_bound</th>\n",
       "      <th>High_bound</th>\n",
       "      <th>CSN_char</th>\n",
       "      <th>Coverage</th>\n",
       "      <th>Arrival_time</th>\n",
       "      <th>Roomed_time</th>\n",
       "      <th>Minutes_since_arrival</th>\n",
       "      <th>Arrival_to_roomed</th>\n",
       "      <th>Covered</th>\n",
       "      <th>Coverage_without</th>\n",
       "    </tr>\n",
       "  </thead>\n",
       "  <tbody>\n",
       "    <tr>\n",
       "      <th>0</th>\n",
       "      <td>0</td>\n",
       "      <td>131291536204</td>\n",
       "      <td>HR</td>\n",
       "      <td>2020-08-24T00:36:00Z</td>\n",
       "      <td>1</td>\n",
       "      <td>86.0</td>\n",
       "      <td>86.0</td>\n",
       "      <td>NaN</td>\n",
       "      <td>81.0</td>\n",
       "      <td>91.0</td>\n",
       "      <td>131291536204</td>\n",
       "      <td>0.15748</td>\n",
       "      <td>2020-08-24T00:36:00Z</td>\n",
       "      <td>2020-08-24T01:03:00Z</td>\n",
       "      <td>0</td>\n",
       "      <td>27</td>\n",
       "      <td>NaN</td>\n",
       "      <td>NaN</td>\n",
       "    </tr>\n",
       "    <tr>\n",
       "      <th>1</th>\n",
       "      <td>63</td>\n",
       "      <td>131291536204</td>\n",
       "      <td>HR</td>\n",
       "      <td>2020-08-24T02:10:00Z</td>\n",
       "      <td>0</td>\n",
       "      <td>86.0</td>\n",
       "      <td>86.0</td>\n",
       "      <td>67.474576</td>\n",
       "      <td>81.0</td>\n",
       "      <td>91.0</td>\n",
       "      <td>131291536204</td>\n",
       "      <td>0.15748</td>\n",
       "      <td>2020-08-24T00:36:00Z</td>\n",
       "      <td>2020-08-24T01:03:00Z</td>\n",
       "      <td>94</td>\n",
       "      <td>27</td>\n",
       "      <td>0.0</td>\n",
       "      <td>0.158103</td>\n",
       "    </tr>\n",
       "    <tr>\n",
       "      <th>2</th>\n",
       "      <td>69</td>\n",
       "      <td>131291536204</td>\n",
       "      <td>HR</td>\n",
       "      <td>2020-08-24T02:16:00Z</td>\n",
       "      <td>0</td>\n",
       "      <td>70.0</td>\n",
       "      <td>70.0</td>\n",
       "      <td>67.237288</td>\n",
       "      <td>65.0</td>\n",
       "      <td>75.0</td>\n",
       "      <td>131291536204</td>\n",
       "      <td>0.15748</td>\n",
       "      <td>2020-08-24T00:36:00Z</td>\n",
       "      <td>2020-08-24T01:03:00Z</td>\n",
       "      <td>100</td>\n",
       "      <td>27</td>\n",
       "      <td>1.0</td>\n",
       "      <td>0.059289</td>\n",
       "    </tr>\n",
       "  </tbody>\n",
       "</table>\n",
       "</div>"
      ],
      "text/plain": [
       "   Unnamed: 0           CSN Variable                  Time  Triage  \\\n",
       "0           0  131291536204       HR  2020-08-24T00:36:00Z       1   \n",
       "1          63  131291536204       HR  2020-08-24T02:10:00Z       0   \n",
       "2          69  131291536204       HR  2020-08-24T02:16:00Z       0   \n",
       "\n",
       "   Chart_filled  Charted    Monitor  Low_bound  High_bound      CSN_char  \\\n",
       "0          86.0     86.0        NaN       81.0        91.0  131291536204   \n",
       "1          86.0     86.0  67.474576       81.0        91.0  131291536204   \n",
       "2          70.0     70.0  67.237288       65.0        75.0  131291536204   \n",
       "\n",
       "   Coverage          Arrival_time           Roomed_time  \\\n",
       "0   0.15748  2020-08-24T00:36:00Z  2020-08-24T01:03:00Z   \n",
       "1   0.15748  2020-08-24T00:36:00Z  2020-08-24T01:03:00Z   \n",
       "2   0.15748  2020-08-24T00:36:00Z  2020-08-24T01:03:00Z   \n",
       "\n",
       "   Minutes_since_arrival  Arrival_to_roomed  Covered  Coverage_without  \n",
       "0                      0                 27      NaN               NaN  \n",
       "1                     94                 27      0.0          0.158103  \n",
       "2                    100                 27      1.0          0.059289  "
      ]
     },
     "execution_count": 10,
     "metadata": {},
     "output_type": "execute_result"
    }
   ],
   "source": [
    "df_states = pd.read_csv(\"/deep/group/physiologic-states/v3/coverage_2022_02_17.charted.csv\")\n",
    "print(df_states.shape)\n",
    "df_states.head(3)"
   ]
  },
  {
   "cell_type": "code",
   "execution_count": 11,
   "id": "ab54e221",
   "metadata": {},
   "outputs": [
    {
     "name": "stdout",
     "output_type": "stream",
     "text": [
      "(358838, 18)\n"
     ]
    },
    {
     "data": {
      "text/html": [
       "<div>\n",
       "<style scoped>\n",
       "    .dataframe tbody tr th:only-of-type {\n",
       "        vertical-align: middle;\n",
       "    }\n",
       "\n",
       "    .dataframe tbody tr th {\n",
       "        vertical-align: top;\n",
       "    }\n",
       "\n",
       "    .dataframe thead th {\n",
       "        text-align: right;\n",
       "    }\n",
       "</style>\n",
       "<table border=\"1\" class=\"dataframe\">\n",
       "  <thead>\n",
       "    <tr style=\"text-align: right;\">\n",
       "      <th></th>\n",
       "      <th>Unnamed: 0</th>\n",
       "      <th>CSN</th>\n",
       "      <th>Variable</th>\n",
       "      <th>Time</th>\n",
       "      <th>Triage</th>\n",
       "      <th>Chart_filled</th>\n",
       "      <th>Charted</th>\n",
       "      <th>Monitor</th>\n",
       "      <th>Low_bound</th>\n",
       "      <th>High_bound</th>\n",
       "      <th>CSN_char</th>\n",
       "      <th>Coverage</th>\n",
       "      <th>Arrival_time</th>\n",
       "      <th>Roomed_time</th>\n",
       "      <th>Minutes_since_arrival</th>\n",
       "      <th>Arrival_to_roomed</th>\n",
       "      <th>Covered</th>\n",
       "      <th>Coverage_without</th>\n",
       "    </tr>\n",
       "  </thead>\n",
       "  <tbody>\n",
       "    <tr>\n",
       "      <th>1</th>\n",
       "      <td>63</td>\n",
       "      <td>131291536204</td>\n",
       "      <td>HR</td>\n",
       "      <td>2020-08-24T02:10:00Z</td>\n",
       "      <td>0</td>\n",
       "      <td>86.0</td>\n",
       "      <td>86.0</td>\n",
       "      <td>67.474576</td>\n",
       "      <td>81.0</td>\n",
       "      <td>91.0</td>\n",
       "      <td>131291536204</td>\n",
       "      <td>0.15748</td>\n",
       "      <td>2020-08-24T00:36:00Z</td>\n",
       "      <td>2020-08-24T01:03:00Z</td>\n",
       "      <td>94</td>\n",
       "      <td>27</td>\n",
       "      <td>0.0</td>\n",
       "      <td>0.158103</td>\n",
       "    </tr>\n",
       "    <tr>\n",
       "      <th>2</th>\n",
       "      <td>69</td>\n",
       "      <td>131291536204</td>\n",
       "      <td>HR</td>\n",
       "      <td>2020-08-24T02:16:00Z</td>\n",
       "      <td>0</td>\n",
       "      <td>70.0</td>\n",
       "      <td>70.0</td>\n",
       "      <td>67.237288</td>\n",
       "      <td>65.0</td>\n",
       "      <td>75.0</td>\n",
       "      <td>131291536204</td>\n",
       "      <td>0.15748</td>\n",
       "      <td>2020-08-24T00:36:00Z</td>\n",
       "      <td>2020-08-24T01:03:00Z</td>\n",
       "      <td>100</td>\n",
       "      <td>27</td>\n",
       "      <td>1.0</td>\n",
       "      <td>0.059289</td>\n",
       "    </tr>\n",
       "    <tr>\n",
       "      <th>3</th>\n",
       "      <td>221</td>\n",
       "      <td>131291536204</td>\n",
       "      <td>HR</td>\n",
       "      <td>2020-08-24T04:48:00Z</td>\n",
       "      <td>0</td>\n",
       "      <td>70.0</td>\n",
       "      <td>70.0</td>\n",
       "      <td>55.796610</td>\n",
       "      <td>65.0</td>\n",
       "      <td>75.0</td>\n",
       "      <td>131291536204</td>\n",
       "      <td>0.15748</td>\n",
       "      <td>2020-08-24T00:36:00Z</td>\n",
       "      <td>2020-08-24T01:03:00Z</td>\n",
       "      <td>252</td>\n",
       "      <td>27</td>\n",
       "      <td>0.0</td>\n",
       "      <td>0.158103</td>\n",
       "    </tr>\n",
       "  </tbody>\n",
       "</table>\n",
       "</div>"
      ],
      "text/plain": [
       "   Unnamed: 0           CSN Variable                  Time  Triage  \\\n",
       "1          63  131291536204       HR  2020-08-24T02:10:00Z       0   \n",
       "2          69  131291536204       HR  2020-08-24T02:16:00Z       0   \n",
       "3         221  131291536204       HR  2020-08-24T04:48:00Z       0   \n",
       "\n",
       "   Chart_filled  Charted    Monitor  Low_bound  High_bound      CSN_char  \\\n",
       "1          86.0     86.0  67.474576       81.0        91.0  131291536204   \n",
       "2          70.0     70.0  67.237288       65.0        75.0  131291536204   \n",
       "3          70.0     70.0  55.796610       65.0        75.0  131291536204   \n",
       "\n",
       "   Coverage          Arrival_time           Roomed_time  \\\n",
       "1   0.15748  2020-08-24T00:36:00Z  2020-08-24T01:03:00Z   \n",
       "2   0.15748  2020-08-24T00:36:00Z  2020-08-24T01:03:00Z   \n",
       "3   0.15748  2020-08-24T00:36:00Z  2020-08-24T01:03:00Z   \n",
       "\n",
       "   Minutes_since_arrival  Arrival_to_roomed  Covered  Coverage_without  \n",
       "1                     94                 27      0.0          0.158103  \n",
       "2                    100                 27      1.0          0.059289  \n",
       "3                    252                 27      0.0          0.158103  "
      ]
     },
     "execution_count": 11,
     "metadata": {},
     "output_type": "execute_result"
    }
   ],
   "source": [
    "df_states_nontriage = df_states[df_states[\"Triage\"] == 0]\n",
    "print(df_states_nontriage.shape)\n",
    "df_states_nontriage.head(3)"
   ]
  },
  {
   "cell_type": "code",
   "execution_count": 12,
   "id": "7b487a29",
   "metadata": {},
   "outputs": [],
   "source": [
    "def get_relative_placement_data(df):\n",
    "    relative_placements = []\n",
    "\n",
    "    for i, row in tqdm(df.iterrows()):\n",
    "        csn = row[\"CSN\"]\n",
    "        time = row[\"Time\"]\n",
    "        time = datetime.datetime.strptime(time, \"%Y-%m-%dT%H:%M:%S%z\")\n",
    "        \n",
    "        min_time = csn_to_min_time[csn]\n",
    "        max_time = csn_to_max_time[csn]\n",
    "        \n",
    "#         if time < min_time or time > max_time:\n",
    "#             # Ignore any measures that weren't in the monitoring bounds\n",
    "#             continue\n",
    "\n",
    "        time = max(min_time, time)\n",
    "        time = min(max_time, time)\n",
    "        \n",
    "        time_since_arrival = (time - min_time).total_seconds()\n",
    "        total_time = (max_time - min_time).total_seconds()\n",
    "\n",
    "        if total_time > 0:\n",
    "            relative_time = time_since_arrival / total_time\n",
    "            relative_placements.append(relative_time)\n",
    "\n",
    "    return relative_placements\n",
    "    "
   ]
  },
  {
   "cell_type": "code",
   "execution_count": 13,
   "id": "f5340b6e",
   "metadata": {},
   "outputs": [],
   "source": [
    "def get_relative_placement_data_at_index(df, index=0):\n",
    "    relative_placements = []\n",
    "    csn_to_curr_index = {}\n",
    "\n",
    "    for i, row in tqdm(df.iterrows()):\n",
    "        csn = row[\"CSN\"]\n",
    "        if csn not in csn_to_curr_index:\n",
    "            csn_to_curr_index[csn] = 0\n",
    "        else:\n",
    "            csn_to_curr_index[csn] += 1\n",
    "        \n",
    "        if csn_to_curr_index[csn] == index:\n",
    "            time = row[\"Time\"]\n",
    "            time = datetime.datetime.strptime(time, \"%Y-%m-%dT%H:%M:%S%z\")\n",
    "            min_time = csn_to_min_time[csn]\n",
    "            max_time = csn_to_max_time[csn]\n",
    "\n",
    "#             if time < min_time or time > max_time:\n",
    "#                 # Ignore any measures that weren't in the monitoring bounds\n",
    "#                 continue\n",
    "\n",
    "            time = max(min_time, time)\n",
    "            time = min(max_time, time)\n",
    "\n",
    "            time_since_arrival = (time - min_time).total_seconds()\n",
    "            total_time = (max_time - min_time).total_seconds()\n",
    "\n",
    "            if total_time > 0:\n",
    "                relative_time = time_since_arrival / total_time\n",
    "                relative_placements.append(relative_time)\n",
    "\n",
    "    return relative_placements\n",
    "    "
   ]
  },
  {
   "cell_type": "markdown",
   "id": "e8ff1659",
   "metadata": {},
   "source": [
    "### HR "
   ]
  },
  {
   "cell_type": "code",
   "execution_count": 37,
   "id": "b0925306",
   "metadata": {},
   "outputs": [
    {
     "name": "stdout",
     "output_type": "stream",
     "text": [
      "(89726, 18)\n"
     ]
    }
   ],
   "source": [
    "df_states_nontriage_hr = df_states_nontriage[df_states_nontriage[\"Variable\"] == \"HR\"]\n",
    "print(df_states_nontriage_hr.shape)"
   ]
  },
  {
   "cell_type": "code",
   "execution_count": 38,
   "id": "bbeab5dc",
   "metadata": {},
   "outputs": [
    {
     "name": "stderr",
     "output_type": "stream",
     "text": [
      "89726it [00:07, 11266.25it/s]"
     ]
    },
    {
     "name": "stdout",
     "output_type": "stream",
     "text": [
      "89726\n"
     ]
    },
    {
     "name": "stderr",
     "output_type": "stream",
     "text": [
      "\n"
     ]
    }
   ],
   "source": [
    "relative_placements = get_relative_placement_data(df_states_nontriage_hr)\n",
    "print(len(relative_placements))"
   ]
  },
  {
   "cell_type": "code",
   "execution_count": 39,
   "id": "ddcfe13b",
   "metadata": {},
   "outputs": [
    {
     "data": {
      "image/png": "[encoded data removed]",
      "text/plain": [
       "<Figure size 1200x200 with 1 Axes>"
      ]
     },
     "metadata": {},
     "output_type": "display_data"
    }
   ],
   "source": [
    "a4_dims = (12, 2)\n",
    "fig, ax = plt.subplots(figsize=a4_dims)\n",
    "weights = np.ones_like(relative_placements)/float(len(relative_placements))\n",
    "plt.hist(relative_placements, bins=50, alpha=0.7, rwidth=0.85, weights=weights)\n",
    "plt.grid(axis='y', alpha=0.75)\n",
    "plt.xlabel('Charted Relative Location')\n",
    "plt.ylabel('Frequency \\n(Nurse)')\n",
    "# plt.ylim([0, 0.25])\n",
    "plt.show()"
   ]
  },
  {
   "cell_type": "code",
   "execution_count": 152,
   "id": "b746c614",
   "metadata": {},
   "outputs": [
    {
     "name": "stderr",
     "output_type": "stream",
     "text": [
      "89726it [00:14, 6033.24it/s]\n"
     ]
    },
    {
     "data": {
      "image/png": "[encoded data removed]",
      "text/plain": [
       "<Figure size 640x480 with 1 Axes>"
      ]
     },
     "metadata": {},
     "output_type": "display_data"
    }
   ],
   "source": [
    "# Where does the first nursing measure occur relative to the charted data?\n",
    "\n",
    "relative_placements_index_0 = get_relative_placement_data_at_index(df_states_nontriage_hr, 0)\n",
    "plt.hist(relative_placements_index_0, bins=50, alpha=0.7, rwidth=0.85)\n",
    "plt.grid(axis='y', alpha=0.75)\n",
    "plt.xlabel('Charted Relative Location')\n",
    "plt.ylabel('Frequency')\n",
    "plt.show()"
   ]
  },
  {
   "cell_type": "code",
   "execution_count": 153,
   "id": "3906428b",
   "metadata": {},
   "outputs": [
    {
     "name": "stderr",
     "output_type": "stream",
     "text": [
      "89726it [00:14, 6146.00it/s]\n"
     ]
    },
    {
     "data": {
      "image/png": "[encoded data removed]",
      "text/plain": [
       "<Figure size 640x480 with 1 Axes>"
      ]
     },
     "metadata": {},
     "output_type": "display_data"
    }
   ],
   "source": [
    "# Where does the second nursing measure occur relative to the charted data?\n",
    "\n",
    "relative_placements_index_1 = get_relative_placement_data_at_index(df_states_nontriage_hr, 1)\n",
    "plt.hist(relative_placements_index_1, bins=50, alpha=0.7, rwidth=0.85)\n",
    "plt.grid(axis='y', alpha=0.75)\n",
    "plt.xlabel('Charted Relative Location')\n",
    "plt.ylabel('Frequency')\n",
    "plt.show()"
   ]
  },
  {
   "cell_type": "code",
   "execution_count": 154,
   "id": "15b89bca",
   "metadata": {},
   "outputs": [
    {
     "name": "stderr",
     "output_type": "stream",
     "text": [
      "89726it [00:14, 6402.14it/s]\n"
     ]
    },
    {
     "data": {
      "image/png": "[encoded data removed]",
      "text/plain": [
       "<Figure size 640x480 with 1 Axes>"
      ]
     },
     "metadata": {},
     "output_type": "display_data"
    }
   ],
   "source": [
    "# Where does the third nursing measure occur relative to the charted data?\n",
    "\n",
    "relative_placements_index_3 = get_relative_placement_data_at_index(df_states_nontriage_hr, 3)\n",
    "plt.hist(relative_placements_index_1, bins=50, alpha=0.7, rwidth=0.85)\n",
    "plt.grid(axis='y', alpha=0.75)\n",
    "plt.xlabel('Charted Relative Location')\n",
    "plt.ylabel('Frequency')\n",
    "plt.show()"
   ]
  },
  {
   "cell_type": "markdown",
   "id": "ecdf4be2",
   "metadata": {},
   "source": [
    "### RR "
   ]
  },
  {
   "cell_type": "code",
   "execution_count": 155,
   "id": "5dfd5800",
   "metadata": {},
   "outputs": [
    {
     "name": "stdout",
     "output_type": "stream",
     "text": [
      "(89706, 18)\n"
     ]
    }
   ],
   "source": [
    "df_states_nontriage_hr = df_states_nontriage[df_states_nontriage[\"Variable\"] == \"RR\"]\n",
    "print(df_states_nontriage_hr.shape)"
   ]
  },
  {
   "cell_type": "code",
   "execution_count": 156,
   "id": "8b83db56",
   "metadata": {},
   "outputs": [
    {
     "name": "stderr",
     "output_type": "stream",
     "text": [
      "89706it [00:17, 5011.75it/s]\n"
     ]
    }
   ],
   "source": [
    "relative_placements = get_relative_placement_data(df_states_nontriage_hr)"
   ]
  },
  {
   "cell_type": "code",
   "execution_count": 157,
   "id": "bdb090f7",
   "metadata": {},
   "outputs": [
    {
     "data": {
      "image/png": "[encoded data removed]",
      "text/plain": [
       "<Figure size 640x480 with 1 Axes>"
      ]
     },
     "metadata": {},
     "output_type": "display_data"
    }
   ],
   "source": [
    "plt.hist(relative_placements, bins=50, alpha=0.7, rwidth=0.85)\n",
    "plt.grid(axis='y', alpha=0.75)\n",
    "plt.xlabel('Charted Relative Location')\n",
    "plt.ylabel('Frequency')\n",
    "plt.show()"
   ]
  },
  {
   "cell_type": "markdown",
   "id": "fe25af58",
   "metadata": {},
   "source": [
    "### SpO2 "
   ]
  },
  {
   "cell_type": "code",
   "execution_count": 158,
   "id": "c3fff4ec",
   "metadata": {},
   "outputs": [
    {
     "name": "stdout",
     "output_type": "stream",
     "text": [
      "(89704, 18)\n"
     ]
    }
   ],
   "source": [
    "df_states_nontriage_hr = df_states_nontriage[df_states_nontriage[\"Variable\"] == \"SpO2\"]\n",
    "print(df_states_nontriage_hr.shape)"
   ]
  },
  {
   "cell_type": "code",
   "execution_count": 159,
   "id": "6e9d6a72",
   "metadata": {},
   "outputs": [
    {
     "name": "stderr",
     "output_type": "stream",
     "text": [
      "89704it [00:17, 5012.19it/s]\n"
     ]
    }
   ],
   "source": [
    "relative_placements = get_relative_placement_data(df_states_nontriage_hr)"
   ]
  },
  {
   "cell_type": "code",
   "execution_count": 160,
   "id": "6b6f2874",
   "metadata": {},
   "outputs": [
    {
     "data": {
      "image/png": "[encoded data removed]",
      "text/plain": [
       "<Figure size 640x480 with 1 Axes>"
      ]
     },
     "metadata": {},
     "output_type": "display_data"
    }
   ],
   "source": [
    "plt.hist(relative_placements, bins=50, alpha=0.7, rwidth=0.85)\n",
    "plt.grid(axis='y', alpha=0.75)\n",
    "plt.xlabel('Charted Relative Location')\n",
    "plt.ylabel('Frequency')\n",
    "plt.show()"
   ]
  },
  {
   "cell_type": "markdown",
   "id": "b1180e2a",
   "metadata": {},
   "source": [
    "### MAP "
   ]
  },
  {
   "cell_type": "code",
   "execution_count": 161,
   "id": "5bf24cf0",
   "metadata": {},
   "outputs": [
    {
     "name": "stdout",
     "output_type": "stream",
     "text": [
      "(89702, 18)\n"
     ]
    }
   ],
   "source": [
    "df_states_nontriage_hr = df_states_nontriage[df_states_nontriage[\"Variable\"] == \"MAP\"]\n",
    "print(df_states_nontriage_hr.shape)"
   ]
  },
  {
   "cell_type": "code",
   "execution_count": 162,
   "id": "c767587e",
   "metadata": {},
   "outputs": [
    {
     "name": "stderr",
     "output_type": "stream",
     "text": [
      "89702it [00:17, 5036.84it/s]\n"
     ]
    }
   ],
   "source": [
    "relative_placements = get_relative_placement_data(df_states_nontriage_hr)"
   ]
  },
  {
   "cell_type": "code",
   "execution_count": 163,
   "id": "73ec0d6e",
   "metadata": {},
   "outputs": [
    {
     "data": {
      "image/png": "[encoded data removed]",
      "text/plain": [
       "<Figure size 640x480 with 1 Axes>"
      ]
     },
     "metadata": {},
     "output_type": "display_data"
    }
   ],
   "source": [
    "plt.hist(relative_placements, bins=50, alpha=0.7, rwidth=0.85)\n",
    "plt.grid(axis='y', alpha=0.75)\n",
    "plt.xlabel('Charted Relative Location')\n",
    "plt.ylabel('Frequency')\n",
    "plt.show()"
   ]
  },
  {
   "cell_type": "code",
   "execution_count": null,
   "id": "7692c25b",
   "metadata": {},
   "outputs": [],
   "source": []
  },
  {
   "cell_type": "code",
   "execution_count": null,
   "id": "03993202",
   "metadata": {},
   "outputs": [],
   "source": []
  },
  {
   "cell_type": "markdown",
   "id": "9cccdfe4",
   "metadata": {},
   "source": [
    "## Optimal Charted Event Placement"
   ]
  },
  {
   "cell_type": "code",
   "execution_count": 28,
   "id": "5b08dffc",
   "metadata": {},
   "outputs": [],
   "source": [
    "def get_optimal_relative_placement_data(b, index_to_csn):\n",
    "    relative_placements = []\n",
    "    csn_to_index = {}\n",
    "\n",
    "    for i, row in tqdm(enumerate(b[\"output_times\"])):\n",
    "        csn = index_to_csn[i]\n",
    "        min_time = csn_to_min_time[csn].replace(tzinfo=None)\n",
    "        max_time = csn_to_max_time[csn].replace(tzinfo=None)\n",
    "\n",
    "        for time in row:\n",
    "            time = time.replace(tzinfo=None)\n",
    "            if time < min_time or time > max_time:\n",
    "                # Ignore any measures that weren't in the monitoring bounds\n",
    "                continue\n",
    "\n",
    "            time_since_arrival = (time - min_time).total_seconds()\n",
    "            total_time = (max_time - min_time).total_seconds()\n",
    "\n",
    "            if total_time > 0:\n",
    "                relative_time = time_since_arrival / total_time\n",
    "                relative_placements.append(relative_time)\n",
    "\n",
    "    return relative_placements\n",
    "    "
   ]
  },
  {
   "cell_type": "code",
   "execution_count": 29,
   "id": "191fa7a1",
   "metadata": {},
   "outputs": [],
   "source": [
    "def get_optimal_relative_placement_data_at_index(b, index_to_csn, index):\n",
    "    relative_placements = []\n",
    "\n",
    "    csn_to_curr_index = {}\n",
    "    for i, row in tqdm(enumerate(b[\"output_times\"])):\n",
    "        csn = index_to_csn[i]\n",
    "        min_time = csn_to_min_time[csn].replace(tzinfo=None)\n",
    "        max_time = csn_to_max_time[csn].replace(tzinfo=None)\n",
    "\n",
    "        for j, time in enumerate(row):\n",
    "            if csn not in csn_to_curr_index:\n",
    "                csn_to_curr_index[csn] = 0\n",
    "            else:\n",
    "                csn_to_curr_index[csn] += 1\n",
    "\n",
    "            if csn_to_curr_index[csn] == index:\n",
    "                time = time.replace(tzinfo=None)\n",
    "                if time < min_time or time > max_time:\n",
    "                    # Ignore any measures that weren't in the monitoring bounds\n",
    "                    continue\n",
    "\n",
    "                time_since_arrival = (time - min_time).total_seconds()\n",
    "                total_time = (max_time - min_time).total_seconds()\n",
    "\n",
    "                if total_time > 0:\n",
    "                    relative_time = time_since_arrival / total_time\n",
    "                    relative_placements.append(relative_time)\n",
    "\n",
    "    return relative_placements\n",
    "    "
   ]
  },
  {
   "cell_type": "markdown",
   "id": "15136f3f",
   "metadata": {},
   "source": [
    "### All"
   ]
  },
  {
   "cell_type": "code",
   "execution_count": 64,
   "id": "8bfabe66",
   "metadata": {},
   "outputs": [
    {
     "name": "stdout",
     "output_type": "stream",
     "text": [
      "(25930, 19)\n"
     ]
    },
    {
     "data": {
      "text/html": [
       "<div>\n",
       "<style scoped>\n",
       "    .dataframe tbody tr th:only-of-type {\n",
       "        vertical-align: middle;\n",
       "    }\n",
       "\n",
       "    .dataframe tbody tr th {\n",
       "        vertical-align: top;\n",
       "    }\n",
       "\n",
       "    .dataframe thead th {\n",
       "        text-align: right;\n",
       "    }\n",
       "</style>\n",
       "<table border=\"1\" class=\"dataframe\">\n",
       "  <thead>\n",
       "    <tr style=\"text-align: right;\">\n",
       "      <th></th>\n",
       "      <th>Unnamed: 0</th>\n",
       "      <th>CSN</th>\n",
       "      <th>orig_len</th>\n",
       "      <th>orig_covered</th>\n",
       "      <th>orig_total</th>\n",
       "      <th>orig_coverage</th>\n",
       "      <th>best_len</th>\n",
       "      <th>best_covered</th>\n",
       "      <th>best_total</th>\n",
       "      <th>best_coverage</th>\n",
       "      <th>HR_covered</th>\n",
       "      <th>HR_total</th>\n",
       "      <th>RR_covered</th>\n",
       "      <th>RR_total</th>\n",
       "      <th>SpO2_covered</th>\n",
       "      <th>SpO2_total</th>\n",
       "      <th>MAP_covered</th>\n",
       "      <th>MAP_total</th>\n",
       "      <th>runtime</th>\n",
       "    </tr>\n",
       "  </thead>\n",
       "  <tbody>\n",
       "    <tr>\n",
       "      <th>0</th>\n",
       "      <td>0</td>\n",
       "      <td>131316325120</td>\n",
       "      <td>2</td>\n",
       "      <td>502</td>\n",
       "      <td>778</td>\n",
       "      <td>0.645244</td>\n",
       "      <td>2</td>\n",
       "      <td>1091</td>\n",
       "      <td>1260</td>\n",
       "      <td>0.865873</td>\n",
       "      <td>151</td>\n",
       "      <td>220</td>\n",
       "      <td>154</td>\n",
       "      <td>220</td>\n",
       "      <td>294</td>\n",
       "      <td>297</td>\n",
       "      <td>28</td>\n",
       "      <td>41</td>\n",
       "      <td>121.742869</td>\n",
       "    </tr>\n",
       "    <tr>\n",
       "      <th>1</th>\n",
       "      <td>1</td>\n",
       "      <td>131298896241</td>\n",
       "      <td>5</td>\n",
       "      <td>335</td>\n",
       "      <td>517</td>\n",
       "      <td>0.647969</td>\n",
       "      <td>2</td>\n",
       "      <td>134</td>\n",
       "      <td>134</td>\n",
       "      <td>1.000000</td>\n",
       "      <td>0</td>\n",
       "      <td>131</td>\n",
       "      <td>0</td>\n",
       "      <td>131</td>\n",
       "      <td>134</td>\n",
       "      <td>134</td>\n",
       "      <td>0</td>\n",
       "      <td>121</td>\n",
       "      <td>18.168598</td>\n",
       "    </tr>\n",
       "    <tr>\n",
       "      <th>2</th>\n",
       "      <td>2</td>\n",
       "      <td>131316322281</td>\n",
       "      <td>2</td>\n",
       "      <td>250</td>\n",
       "      <td>539</td>\n",
       "      <td>0.463822</td>\n",
       "      <td>2</td>\n",
       "      <td>355</td>\n",
       "      <td>437</td>\n",
       "      <td>0.812357</td>\n",
       "      <td>143</td>\n",
       "      <td>154</td>\n",
       "      <td>86</td>\n",
       "      <td>154</td>\n",
       "      <td>126</td>\n",
       "      <td>141</td>\n",
       "      <td>0</td>\n",
       "      <td>90</td>\n",
       "      <td>21.507338</td>\n",
       "    </tr>\n",
       "  </tbody>\n",
       "</table>\n",
       "</div>"
      ],
      "text/plain": [
       "   Unnamed: 0           CSN  orig_len  orig_covered  orig_total  \\\n",
       "0           0  131316325120         2           502         778   \n",
       "1           1  131298896241         5           335         517   \n",
       "2           2  131316322281         2           250         539   \n",
       "\n",
       "   orig_coverage  best_len  best_covered  best_total  best_coverage  \\\n",
       "0       0.645244         2          1091        1260       0.865873   \n",
       "1       0.647969         2           134         134       1.000000   \n",
       "2       0.463822         2           355         437       0.812357   \n",
       "\n",
       "   HR_covered  HR_total  RR_covered  RR_total  SpO2_covered  SpO2_total  \\\n",
       "0         151       220         154       220           294         297   \n",
       "1           0       131           0       131           134         134   \n",
       "2         143       154          86       154           126         141   \n",
       "\n",
       "   MAP_covered  MAP_total     runtime  \n",
       "0           28         41  121.742869  \n",
       "1            0        121   18.168598  \n",
       "2            0         90   21.507338  "
      ]
     },
     "execution_count": 64,
     "metadata": {},
     "output_type": "execute_result"
    }
   ],
   "source": [
    "df_optimal = pd.read_csv(\"/deep/group/physiologic-states/v3/optimizing_coverage.optimal.csv\")\n",
    "print(df_optimal.shape)\n",
    "df_optimal.head(3)"
   ]
  },
  {
   "cell_type": "code",
   "execution_count": 65,
   "id": "99a0cb12",
   "metadata": {},
   "outputs": [
    {
     "data": {
      "text/plain": [
       "datetime.datetime(2021, 9, 17, 17, 19, tzinfo=datetime.timezone.utc)"
      ]
     },
     "execution_count": 65,
     "metadata": {},
     "output_type": "execute_result"
    }
   ],
   "source": [
    "csn_to_min_time[131316325120]"
   ]
  },
  {
   "cell_type": "code",
   "execution_count": null,
   "id": "6f79d903",
   "metadata": {},
   "outputs": [],
   "source": []
  },
  {
   "cell_type": "code",
   "execution_count": 66,
   "id": "671fda92",
   "metadata": {},
   "outputs": [],
   "source": [
    "index_to_csn = {}\n",
    "for k, row in df_optimal.iterrows():\n",
    "    index_to_csn[k] = row[\"CSN\"]"
   ]
  },
  {
   "cell_type": "code",
   "execution_count": 67,
   "id": "2750e6d0",
   "metadata": {},
   "outputs": [
    {
     "name": "stdout",
     "output_type": "stream",
     "text": [
      "dict_keys(['output_times'])\n"
     ]
    }
   ],
   "source": [
    "with open(\"/deep/group/physiologic-states/v3/optimizing_coverage.optimal.pkl\", 'rb') as f: \n",
    "    b = pickle.loads(f.read())\n",
    "    print(b.keys())"
   ]
  },
  {
   "cell_type": "code",
   "execution_count": 68,
   "id": "296afe2e",
   "metadata": {},
   "outputs": [
    {
     "name": "stderr",
     "output_type": "stream",
     "text": [
      "25930it [00:00, 89635.32it/s]\n"
     ]
    },
    {
     "name": "stdout",
     "output_type": "stream",
     "text": [
      "99754\n"
     ]
    },
    {
     "data": {
      "image/png": "[encoded data removed]",
      "text/plain": [
       "<Figure size 640x480 with 1 Axes>"
      ]
     },
     "metadata": {},
     "output_type": "display_data"
    }
   ],
   "source": [
    "relative_placements = get_optimal_relative_placement_data(b, index_to_csn)\n",
    "print(len(relative_placements))\n",
    "weights = np.ones_like(relative_placements)/float(len(relative_placements))\n",
    "plt.hist(relative_placements, bins=50, alpha=0.7, rwidth=0.85, weights=weights)\n",
    "plt.grid(axis='y', alpha=0.75)\n",
    "plt.xlabel('Charted Relative Location')\n",
    "plt.ylabel('Frequency')\n",
    "plt.show()"
   ]
  },
  {
   "cell_type": "code",
   "execution_count": 27,
   "id": "6c826538",
   "metadata": {},
   "outputs": [
    {
     "name": "stderr",
     "output_type": "stream",
     "text": [
      "25930it [00:00, 88124.06it/s]\n"
     ]
    },
    {
     "name": "stdout",
     "output_type": "stream",
     "text": [
      "99754\n"
     ]
    },
    {
     "data": {
      "image/png": "[encoded data removed]",
      "text/plain": [
       "<Figure size 640x480 with 1 Axes>"
      ]
     },
     "metadata": {},
     "output_type": "display_data"
    }
   ],
   "source": [
    "relative_placements = get_optimal_relative_placement_data(b, index_to_csn)\n",
    "print(len(relative_placements))\n",
    "plt.hist(relative_placements, bins=10, alpha=0.7, rwidth=0.85)\n",
    "plt.grid(axis='y', alpha=0.75)\n",
    "plt.xlabel('Charted Relative Location')\n",
    "plt.ylabel('Frequency')\n",
    "plt.ylim([0, 20000])\n",
    "plt.show()"
   ]
  },
  {
   "cell_type": "markdown",
   "id": "850f7665",
   "metadata": {},
   "source": [
    "### HR"
   ]
  },
  {
   "cell_type": "code",
   "execution_count": 24,
   "id": "fcc1b45f",
   "metadata": {},
   "outputs": [
    {
     "name": "stdout",
     "output_type": "stream",
     "text": [
      "(25940, 12)\n"
     ]
    },
    {
     "data": {
      "text/html": [
       "<div>\n",
       "<style scoped>\n",
       "    .dataframe tbody tr th:only-of-type {\n",
       "        vertical-align: middle;\n",
       "    }\n",
       "\n",
       "    .dataframe tbody tr th {\n",
       "        vertical-align: top;\n",
       "    }\n",
       "\n",
       "    .dataframe thead th {\n",
       "        text-align: right;\n",
       "    }\n",
       "</style>\n",
       "<table border=\"1\" class=\"dataframe\">\n",
       "  <thead>\n",
       "    <tr style=\"text-align: right;\">\n",
       "      <th></th>\n",
       "      <th>CSN</th>\n",
       "      <th>orig_len</th>\n",
       "      <th>orig_covered</th>\n",
       "      <th>orig_total</th>\n",
       "      <th>orig_coverage</th>\n",
       "      <th>best_len</th>\n",
       "      <th>best_covered</th>\n",
       "      <th>best_total</th>\n",
       "      <th>best_coverage</th>\n",
       "      <th>HR_covered</th>\n",
       "      <th>HR_total</th>\n",
       "      <th>runtime</th>\n",
       "    </tr>\n",
       "  </thead>\n",
       "  <tbody>\n",
       "    <tr>\n",
       "      <th>0</th>\n",
       "      <td>131307113250</td>\n",
       "      <td>3</td>\n",
       "      <td>179</td>\n",
       "      <td>310</td>\n",
       "      <td>0.577419</td>\n",
       "      <td>3</td>\n",
       "      <td>254</td>\n",
       "      <td>309</td>\n",
       "      <td>0.822006</td>\n",
       "      <td>254</td>\n",
       "      <td>310</td>\n",
       "      <td>119.385040</td>\n",
       "    </tr>\n",
       "    <tr>\n",
       "      <th>1</th>\n",
       "      <td>131305881124</td>\n",
       "      <td>2</td>\n",
       "      <td>35</td>\n",
       "      <td>53</td>\n",
       "      <td>0.660377</td>\n",
       "      <td>2</td>\n",
       "      <td>45</td>\n",
       "      <td>53</td>\n",
       "      <td>0.849057</td>\n",
       "      <td>45</td>\n",
       "      <td>53</td>\n",
       "      <td>1.414991</td>\n",
       "    </tr>\n",
       "    <tr>\n",
       "      <th>2</th>\n",
       "      <td>131308218446</td>\n",
       "      <td>4</td>\n",
       "      <td>124</td>\n",
       "      <td>147</td>\n",
       "      <td>0.843537</td>\n",
       "      <td>4</td>\n",
       "      <td>147</td>\n",
       "      <td>147</td>\n",
       "      <td>1.000000</td>\n",
       "      <td>147</td>\n",
       "      <td>147</td>\n",
       "      <td>15.513437</td>\n",
       "    </tr>\n",
       "  </tbody>\n",
       "</table>\n",
       "</div>"
      ],
      "text/plain": [
       "            CSN  orig_len  orig_covered  orig_total  orig_coverage  best_len  \\\n",
       "0  131307113250         3           179         310       0.577419         3   \n",
       "1  131305881124         2            35          53       0.660377         2   \n",
       "2  131308218446         4           124         147       0.843537         4   \n",
       "\n",
       "   best_covered  best_total  best_coverage  HR_covered  HR_total     runtime  \n",
       "0           254         309       0.822006         254       310  119.385040  \n",
       "1            45          53       0.849057          45        53    1.414991  \n",
       "2           147         147       1.000000         147       147   15.513437  "
      ]
     },
     "execution_count": 24,
     "metadata": {},
     "output_type": "execute_result"
    }
   ],
   "source": [
    "df_optimal = pd.read_csv(\"/deep/group/physiologic-states/v3/optimizing_coverage.optimal.hr.csv\")\n",
    "print(df_optimal.shape)\n",
    "df_optimal.head(3)"
   ]
  },
  {
   "cell_type": "code",
   "execution_count": 25,
   "id": "9a426b16",
   "metadata": {},
   "outputs": [],
   "source": [
    "index_to_csn = {}\n",
    "for k, row in df_optimal.iterrows():\n",
    "    index_to_csn[k] = row[\"CSN\"]"
   ]
  },
  {
   "cell_type": "code",
   "execution_count": 26,
   "id": "54df1385",
   "metadata": {},
   "outputs": [
    {
     "name": "stdout",
     "output_type": "stream",
     "text": [
      "dict_keys(['output_times'])\n"
     ]
    }
   ],
   "source": [
    "with open(\"/deep/group/physiologic-states/v3/optimizing_coverage.optimal.hr.pkl\", 'rb') as f: \n",
    "    b = pickle.loads(f.read())\n",
    "    print(b.keys())"
   ]
  },
  {
   "cell_type": "code",
   "execution_count": 31,
   "id": "41dcd49a",
   "metadata": {},
   "outputs": [
    {
     "name": "stderr",
     "output_type": "stream",
     "text": [
      "25940it [00:00, 89294.86it/s]\n"
     ]
    },
    {
     "data": {
      "image/png": "[encoded data removed]",
      "text/plain": [
       "<Figure size 1200x200 with 1 Axes>"
      ]
     },
     "metadata": {},
     "output_type": "display_data"
    }
   ],
   "source": [
    "relative_placements = get_optimal_relative_placement_data(b, index_to_csn)\n",
    "\n",
    "a4_dims = (12, 2)\n",
    "fig, ax = plt.subplots(figsize=a4_dims)\n",
    "weights = np.ones_like(relative_placements)/float(len(relative_placements))\n",
    "plt.hist(relative_placements, bins=50, alpha=0.7, rwidth=0.85, weights=weights)\n",
    "plt.grid(axis='y', alpha=0.75)\n",
    "plt.xlabel('Charted Relative Location')\n",
    "plt.ylabel('Frequency \\n(Dynamic Programming)')\n",
    "# plt.ylim([0, 0.25])\n",
    "plt.show()"
   ]
  },
  {
   "cell_type": "code",
   "execution_count": 85,
   "id": "ac42f3ea",
   "metadata": {},
   "outputs": [
    {
     "name": "stderr",
     "output_type": "stream",
     "text": [
      "25940it [00:00, 100687.64it/s]\n"
     ]
    },
    {
     "name": "stdout",
     "output_type": "stream",
     "text": [
      "104021\n"
     ]
    },
    {
     "data": {
      "image/png": "[encoded data removed]",
      "text/plain": [
       "<Figure size 640x480 with 1 Axes>"
      ]
     },
     "metadata": {},
     "output_type": "display_data"
    }
   ],
   "source": [
    "relative_placements = get_optimal_relative_placement_data(b, index_to_csn)\n",
    "print(len(relative_placements))\n",
    "weights = np.ones_like(relative_placements)/float(len(relative_placements))\n",
    "plt.hist(relative_placements, bins=50, alpha=0.7, rwidth=0.85, weights=weights)\n",
    "plt.grid(axis='y', alpha=0.75)\n",
    "plt.xlabel('Charted Relative Location')\n",
    "plt.ylabel('Frequency')\n",
    "plt.ylim([0, 0.25])\n",
    "plt.show()"
   ]
  },
  {
   "cell_type": "code",
   "execution_count": 128,
   "id": "f7d3f94e",
   "metadata": {},
   "outputs": [
    {
     "name": "stderr",
     "output_type": "stream",
     "text": [
      "25940it [00:00, 75148.77it/s]\n"
     ]
    },
    {
     "data": {
      "image/png": "[encoded data removed]",
      "text/plain": [
       "<Figure size 640x480 with 1 Axes>"
      ]
     },
     "metadata": {},
     "output_type": "display_data"
    }
   ],
   "source": [
    "relative_placements = get_optimal_relative_placement_data_at_index(b, index_to_csn, 0)\n",
    "plt.hist(relative_placements, bins=50, alpha=0.7, rwidth=0.85)\n",
    "plt.grid(axis='y', alpha=0.75)\n",
    "plt.xlabel('Charted Relative Location')\n",
    "plt.ylabel('Frequency')\n",
    "plt.show()"
   ]
  },
  {
   "cell_type": "code",
   "execution_count": 129,
   "id": "79e38186",
   "metadata": {},
   "outputs": [
    {
     "name": "stderr",
     "output_type": "stream",
     "text": [
      "25940it [00:00, 70739.86it/s]\n"
     ]
    },
    {
     "data": {
      "image/png": "[encoded data removed]",
      "text/plain": [
       "<Figure size 640x480 with 1 Axes>"
      ]
     },
     "metadata": {},
     "output_type": "display_data"
    }
   ],
   "source": [
    "relative_placements = get_optimal_relative_placement_data_at_index(b, index_to_csn, 1)\n",
    "plt.hist(relative_placements, bins=50, alpha=0.7, rwidth=0.85)\n",
    "plt.grid(axis='y', alpha=0.75)\n",
    "plt.xlabel('Charted Relative Location')\n",
    "plt.ylabel('Frequency')\n",
    "plt.show()"
   ]
  },
  {
   "cell_type": "markdown",
   "id": "d0df74a1",
   "metadata": {},
   "source": [
    "### RR"
   ]
  },
  {
   "cell_type": "code",
   "execution_count": 130,
   "id": "44c3345b",
   "metadata": {},
   "outputs": [
    {
     "name": "stdout",
     "output_type": "stream",
     "text": [
      "(25864, 12)\n"
     ]
    },
    {
     "data": {
      "text/html": [
       "<div>\n",
       "<style scoped>\n",
       "    .dataframe tbody tr th:only-of-type {\n",
       "        vertical-align: middle;\n",
       "    }\n",
       "\n",
       "    .dataframe tbody tr th {\n",
       "        vertical-align: top;\n",
       "    }\n",
       "\n",
       "    .dataframe thead th {\n",
       "        text-align: right;\n",
       "    }\n",
       "</style>\n",
       "<table border=\"1\" class=\"dataframe\">\n",
       "  <thead>\n",
       "    <tr style=\"text-align: right;\">\n",
       "      <th></th>\n",
       "      <th>CSN</th>\n",
       "      <th>orig_len</th>\n",
       "      <th>orig_covered</th>\n",
       "      <th>orig_total</th>\n",
       "      <th>orig_coverage</th>\n",
       "      <th>best_len</th>\n",
       "      <th>best_covered</th>\n",
       "      <th>best_total</th>\n",
       "      <th>best_coverage</th>\n",
       "      <th>RR_covered</th>\n",
       "      <th>RR_total</th>\n",
       "      <th>runtime</th>\n",
       "    </tr>\n",
       "  </thead>\n",
       "  <tbody>\n",
       "    <tr>\n",
       "      <th>0</th>\n",
       "      <td>131293745562</td>\n",
       "      <td>3</td>\n",
       "      <td>54</td>\n",
       "      <td>197</td>\n",
       "      <td>0.274112</td>\n",
       "      <td>3</td>\n",
       "      <td>122</td>\n",
       "      <td>197</td>\n",
       "      <td>0.619289</td>\n",
       "      <td>122</td>\n",
       "      <td>197</td>\n",
       "      <td>29.410137</td>\n",
       "    </tr>\n",
       "    <tr>\n",
       "      <th>1</th>\n",
       "      <td>131295260109</td>\n",
       "      <td>6</td>\n",
       "      <td>64</td>\n",
       "      <td>160</td>\n",
       "      <td>0.400000</td>\n",
       "      <td>6</td>\n",
       "      <td>154</td>\n",
       "      <td>160</td>\n",
       "      <td>0.962500</td>\n",
       "      <td>154</td>\n",
       "      <td>160</td>\n",
       "      <td>17.611413</td>\n",
       "    </tr>\n",
       "    <tr>\n",
       "      <th>2</th>\n",
       "      <td>131309423975</td>\n",
       "      <td>2</td>\n",
       "      <td>123</td>\n",
       "      <td>137</td>\n",
       "      <td>0.897810</td>\n",
       "      <td>2</td>\n",
       "      <td>132</td>\n",
       "      <td>136</td>\n",
       "      <td>0.970588</td>\n",
       "      <td>80</td>\n",
       "      <td>137</td>\n",
       "      <td>14.042708</td>\n",
       "    </tr>\n",
       "  </tbody>\n",
       "</table>\n",
       "</div>"
      ],
      "text/plain": [
       "            CSN  orig_len  orig_covered  orig_total  orig_coverage  best_len  \\\n",
       "0  131293745562         3            54         197       0.274112         3   \n",
       "1  131295260109         6            64         160       0.400000         6   \n",
       "2  131309423975         2           123         137       0.897810         2   \n",
       "\n",
       "   best_covered  best_total  best_coverage  RR_covered  RR_total    runtime  \n",
       "0           122         197       0.619289         122       197  29.410137  \n",
       "1           154         160       0.962500         154       160  17.611413  \n",
       "2           132         136       0.970588          80       137  14.042708  "
      ]
     },
     "execution_count": 130,
     "metadata": {},
     "output_type": "execute_result"
    }
   ],
   "source": [
    "df_optimal = pd.read_csv(\"/deep/group/physiologic-states/v3/optimizing_coverage.optimal.rr.csv\")\n",
    "print(df_optimal.shape)\n",
    "df_optimal.head(3)"
   ]
  },
  {
   "cell_type": "code",
   "execution_count": 131,
   "id": "b9797d24",
   "metadata": {},
   "outputs": [],
   "source": [
    "index_to_csn = {}\n",
    "for k, row in df_optimal.iterrows():\n",
    "    index_to_csn[k] = row[\"CSN\"]"
   ]
  },
  {
   "cell_type": "code",
   "execution_count": 132,
   "id": "94a9fd2d",
   "metadata": {},
   "outputs": [
    {
     "name": "stdout",
     "output_type": "stream",
     "text": [
      "dict_keys(['output_times'])\n"
     ]
    }
   ],
   "source": [
    "with open(\"/deep/group/physiologic-states/v3/optimizing_coverage.optimal.rr.pkl\", 'rb') as f: \n",
    "    b = pickle.loads(f.read())\n",
    "    print(b.keys())"
   ]
  },
  {
   "cell_type": "code",
   "execution_count": 133,
   "id": "a40c7815",
   "metadata": {},
   "outputs": [
    {
     "name": "stderr",
     "output_type": "stream",
     "text": [
      "25864it [00:00, 47715.69it/s]\n"
     ]
    },
    {
     "data": {
      "image/png": "[encoded data removed]",
      "text/plain": [
       "<Figure size 640x480 with 1 Axes>"
      ]
     },
     "metadata": {},
     "output_type": "display_data"
    }
   ],
   "source": [
    "relative_placements = get_optimal_relative_placement_data(b, index_to_csn)\n",
    "plt.hist(relative_placements, bins=50, alpha=0.7, rwidth=0.85)\n",
    "plt.grid(axis='y', alpha=0.75)\n",
    "plt.xlabel('Charted Relative Location')\n",
    "plt.ylabel('Frequency')\n",
    "plt.show()"
   ]
  },
  {
   "cell_type": "markdown",
   "id": "7dfa80d8",
   "metadata": {},
   "source": [
    "### SpO2"
   ]
  },
  {
   "cell_type": "code",
   "execution_count": 134,
   "id": "7830571a",
   "metadata": {},
   "outputs": [
    {
     "name": "stdout",
     "output_type": "stream",
     "text": [
      "(25921, 12)\n"
     ]
    },
    {
     "data": {
      "text/html": [
       "<div>\n",
       "<style scoped>\n",
       "    .dataframe tbody tr th:only-of-type {\n",
       "        vertical-align: middle;\n",
       "    }\n",
       "\n",
       "    .dataframe tbody tr th {\n",
       "        vertical-align: top;\n",
       "    }\n",
       "\n",
       "    .dataframe thead th {\n",
       "        text-align: right;\n",
       "    }\n",
       "</style>\n",
       "<table border=\"1\" class=\"dataframe\">\n",
       "  <thead>\n",
       "    <tr style=\"text-align: right;\">\n",
       "      <th></th>\n",
       "      <th>CSN</th>\n",
       "      <th>orig_len</th>\n",
       "      <th>orig_covered</th>\n",
       "      <th>orig_total</th>\n",
       "      <th>orig_coverage</th>\n",
       "      <th>best_len</th>\n",
       "      <th>best_covered</th>\n",
       "      <th>best_total</th>\n",
       "      <th>best_coverage</th>\n",
       "      <th>SpO2_covered</th>\n",
       "      <th>SpO2_total</th>\n",
       "      <th>runtime</th>\n",
       "    </tr>\n",
       "  </thead>\n",
       "  <tbody>\n",
       "    <tr>\n",
       "      <th>0</th>\n",
       "      <td>131300927769</td>\n",
       "      <td>3</td>\n",
       "      <td>216</td>\n",
       "      <td>228</td>\n",
       "      <td>0.947368</td>\n",
       "      <td>3</td>\n",
       "      <td>224</td>\n",
       "      <td>228</td>\n",
       "      <td>0.982456</td>\n",
       "      <td>224</td>\n",
       "      <td>228</td>\n",
       "      <td>38.987413</td>\n",
       "    </tr>\n",
       "    <tr>\n",
       "      <th>1</th>\n",
       "      <td>131318008939</td>\n",
       "      <td>3</td>\n",
       "      <td>89</td>\n",
       "      <td>89</td>\n",
       "      <td>1.000000</td>\n",
       "      <td>3</td>\n",
       "      <td>89</td>\n",
       "      <td>89</td>\n",
       "      <td>1.000000</td>\n",
       "      <td>89</td>\n",
       "      <td>89</td>\n",
       "      <td>3.539781</td>\n",
       "    </tr>\n",
       "    <tr>\n",
       "      <th>2</th>\n",
       "      <td>131299692977</td>\n",
       "      <td>3</td>\n",
       "      <td>225</td>\n",
       "      <td>227</td>\n",
       "      <td>0.991189</td>\n",
       "      <td>1</td>\n",
       "      <td>227</td>\n",
       "      <td>227</td>\n",
       "      <td>1.000000</td>\n",
       "      <td>227</td>\n",
       "      <td>227</td>\n",
       "      <td>41.751920</td>\n",
       "    </tr>\n",
       "  </tbody>\n",
       "</table>\n",
       "</div>"
      ],
      "text/plain": [
       "            CSN  orig_len  orig_covered  orig_total  orig_coverage  best_len  \\\n",
       "0  131300927769         3           216         228       0.947368         3   \n",
       "1  131318008939         3            89          89       1.000000         3   \n",
       "2  131299692977         3           225         227       0.991189         1   \n",
       "\n",
       "   best_covered  best_total  best_coverage  SpO2_covered  SpO2_total  \\\n",
       "0           224         228       0.982456           224         228   \n",
       "1            89          89       1.000000            89          89   \n",
       "2           227         227       1.000000           227         227   \n",
       "\n",
       "     runtime  \n",
       "0  38.987413  \n",
       "1   3.539781  \n",
       "2  41.751920  "
      ]
     },
     "execution_count": 134,
     "metadata": {},
     "output_type": "execute_result"
    }
   ],
   "source": [
    "df_optimal = pd.read_csv(\"/deep/group/physiologic-states/v3/optimizing_coverage.optimal.spo2.csv\")\n",
    "print(df_optimal.shape)\n",
    "df_optimal.head(3)"
   ]
  },
  {
   "cell_type": "code",
   "execution_count": 135,
   "id": "90c66c30",
   "metadata": {},
   "outputs": [],
   "source": [
    "index_to_csn = {}\n",
    "for k, row in df_optimal.iterrows():\n",
    "    index_to_csn[k] = row[\"CSN\"]"
   ]
  },
  {
   "cell_type": "code",
   "execution_count": 136,
   "id": "81c25151",
   "metadata": {},
   "outputs": [
    {
     "name": "stdout",
     "output_type": "stream",
     "text": [
      "dict_keys(['output_times'])\n"
     ]
    }
   ],
   "source": [
    "with open(\"/deep/group/physiologic-states/v3/optimizing_coverage.optimal.spo2.pkl\", 'rb') as f: \n",
    "    b = pickle.loads(f.read())\n",
    "    print(b.keys())"
   ]
  },
  {
   "cell_type": "code",
   "execution_count": 137,
   "id": "14ee2463",
   "metadata": {},
   "outputs": [
    {
     "name": "stderr",
     "output_type": "stream",
     "text": [
      "25921it [00:00, 54043.12it/s]\n"
     ]
    },
    {
     "data": {
      "image/png": "[encoded data removed]",
      "text/plain": [
       "<Figure size 640x480 with 1 Axes>"
      ]
     },
     "metadata": {},
     "output_type": "display_data"
    }
   ],
   "source": [
    "relative_placements = get_optimal_relative_placement_data(b, index_to_csn)\n",
    "plt.hist(relative_placements, bins=50, alpha=0.7, rwidth=0.85)\n",
    "plt.grid(axis='y', alpha=0.75)\n",
    "plt.xlabel('Charted Relative Location')\n",
    "plt.ylabel('Frequency')\n",
    "plt.show()"
   ]
  },
  {
   "cell_type": "markdown",
   "id": "ecac4df5",
   "metadata": {},
   "source": [
    "### MAP"
   ]
  },
  {
   "cell_type": "code",
   "execution_count": 138,
   "id": "2af6edfc",
   "metadata": {},
   "outputs": [
    {
     "name": "stdout",
     "output_type": "stream",
     "text": [
      "(24532, 12)\n"
     ]
    },
    {
     "data": {
      "text/html": [
       "<div>\n",
       "<style scoped>\n",
       "    .dataframe tbody tr th:only-of-type {\n",
       "        vertical-align: middle;\n",
       "    }\n",
       "\n",
       "    .dataframe tbody tr th {\n",
       "        vertical-align: top;\n",
       "    }\n",
       "\n",
       "    .dataframe thead th {\n",
       "        text-align: right;\n",
       "    }\n",
       "</style>\n",
       "<table border=\"1\" class=\"dataframe\">\n",
       "  <thead>\n",
       "    <tr style=\"text-align: right;\">\n",
       "      <th></th>\n",
       "      <th>CSN</th>\n",
       "      <th>orig_len</th>\n",
       "      <th>orig_covered</th>\n",
       "      <th>orig_total</th>\n",
       "      <th>orig_coverage</th>\n",
       "      <th>best_len</th>\n",
       "      <th>best_covered</th>\n",
       "      <th>best_total</th>\n",
       "      <th>best_coverage</th>\n",
       "      <th>MAP_covered</th>\n",
       "      <th>MAP_total</th>\n",
       "      <th>runtime</th>\n",
       "    </tr>\n",
       "  </thead>\n",
       "  <tbody>\n",
       "    <tr>\n",
       "      <th>0</th>\n",
       "      <td>131309115537</td>\n",
       "      <td>2</td>\n",
       "      <td>76</td>\n",
       "      <td>76</td>\n",
       "      <td>1.00</td>\n",
       "      <td>1</td>\n",
       "      <td>76</td>\n",
       "      <td>76</td>\n",
       "      <td>1.0</td>\n",
       "      <td>76</td>\n",
       "      <td>76</td>\n",
       "      <td>2.295320</td>\n",
       "    </tr>\n",
       "    <tr>\n",
       "      <th>1</th>\n",
       "      <td>131311166697</td>\n",
       "      <td>3</td>\n",
       "      <td>9</td>\n",
       "      <td>9</td>\n",
       "      <td>1.00</td>\n",
       "      <td>1</td>\n",
       "      <td>9</td>\n",
       "      <td>9</td>\n",
       "      <td>1.0</td>\n",
       "      <td>9</td>\n",
       "      <td>9</td>\n",
       "      <td>0.196519</td>\n",
       "    </tr>\n",
       "    <tr>\n",
       "      <th>2</th>\n",
       "      <td>131309113876</td>\n",
       "      <td>2</td>\n",
       "      <td>21</td>\n",
       "      <td>50</td>\n",
       "      <td>0.42</td>\n",
       "      <td>2</td>\n",
       "      <td>35</td>\n",
       "      <td>50</td>\n",
       "      <td>0.7</td>\n",
       "      <td>35</td>\n",
       "      <td>50</td>\n",
       "      <td>1.027970</td>\n",
       "    </tr>\n",
       "  </tbody>\n",
       "</table>\n",
       "</div>"
      ],
      "text/plain": [
       "            CSN  orig_len  orig_covered  orig_total  orig_coverage  best_len  \\\n",
       "0  131309115537         2            76          76           1.00         1   \n",
       "1  131311166697         3             9           9           1.00         1   \n",
       "2  131309113876         2            21          50           0.42         2   \n",
       "\n",
       "   best_covered  best_total  best_coverage  MAP_covered  MAP_total   runtime  \n",
       "0            76          76            1.0           76         76  2.295320  \n",
       "1             9           9            1.0            9          9  0.196519  \n",
       "2            35          50            0.7           35         50  1.027970  "
      ]
     },
     "execution_count": 138,
     "metadata": {},
     "output_type": "execute_result"
    }
   ],
   "source": [
    "df_optimal = pd.read_csv(\"/deep/group/physiologic-states/v3/optimizing_coverage.optimal.map.csv\")\n",
    "print(df_optimal.shape)\n",
    "df_optimal.head(3)"
   ]
  },
  {
   "cell_type": "code",
   "execution_count": 139,
   "id": "59493f63",
   "metadata": {},
   "outputs": [],
   "source": [
    "index_to_csn = {}\n",
    "for k, row in df_optimal.iterrows():\n",
    "    index_to_csn[k] = row[\"CSN\"]"
   ]
  },
  {
   "cell_type": "code",
   "execution_count": 140,
   "id": "d96fc71f",
   "metadata": {},
   "outputs": [
    {
     "name": "stdout",
     "output_type": "stream",
     "text": [
      "dict_keys(['output_times'])\n"
     ]
    }
   ],
   "source": [
    "with open(\"/deep/group/physiologic-states/v3/optimizing_coverage.optimal.map.pkl\", 'rb') as f: \n",
    "    b = pickle.loads(f.read())\n",
    "    print(b.keys())"
   ]
  },
  {
   "cell_type": "code",
   "execution_count": 141,
   "id": "6b71e67b",
   "metadata": {},
   "outputs": [
    {
     "name": "stderr",
     "output_type": "stream",
     "text": [
      "24532it [00:00, 54398.36it/s]\n"
     ]
    },
    {
     "data": {
      "image/png": "[encoded data removed]",
      "text/plain": [
       "<Figure size 640x480 with 1 Axes>"
      ]
     },
     "metadata": {},
     "output_type": "display_data"
    }
   ],
   "source": [
    "relative_placements = get_optimal_relative_placement_data(b, index_to_csn)\n",
    "plt.hist(relative_placements, bins=50, alpha=0.7, rwidth=0.85)\n",
    "plt.grid(axis='y', alpha=0.75)\n",
    "plt.xlabel('Charted Relative Location')\n",
    "plt.ylabel('Frequency')\n",
    "plt.show()"
   ]
  },
  {
   "cell_type": "markdown",
   "id": "538e3d52",
   "metadata": {},
   "source": [
    "## Population Charted Event Placement"
   ]
  },
  {
   "cell_type": "code",
   "execution_count": 142,
   "id": "cc0d0e09",
   "metadata": {},
   "outputs": [],
   "source": [
    "def get_population_relative_placement_data(b, index_to_csn):\n",
    "    relative_placements = []\n",
    "    csn_to_index = {}\n",
    "\n",
    "    for i, row in tqdm(enumerate(b[\"output_times\"])):\n",
    "        csn = index_to_csn[i]\n",
    "        min_time = csn_to_min_time[csn].replace(tzinfo=None)\n",
    "        max_time = csn_to_max_time[csn].replace(tzinfo=None)\n",
    "        \n",
    "        for time in row:\n",
    "            time = time.replace(tzinfo=None)\n",
    "            if time < min_time or time > max_time:\n",
    "                # Ignore any measures that weren't in the monitoring bounds\n",
    "                continue\n",
    "\n",
    "            time_since_arrival = (time - min_time).total_seconds()\n",
    "            total_time = (max_time - min_time).total_seconds()\n",
    "\n",
    "            if total_time > 0:\n",
    "                relative_time = time_since_arrival / total_time\n",
    "                relative_placements.append(relative_time)\n",
    "\n",
    "    return relative_placements\n",
    "    "
   ]
  },
  {
   "cell_type": "markdown",
   "id": "dd3532a8",
   "metadata": {},
   "source": [
    "### All"
   ]
  },
  {
   "cell_type": "code",
   "execution_count": 143,
   "id": "52e9535c",
   "metadata": {},
   "outputs": [
    {
     "name": "stdout",
     "output_type": "stream",
     "text": [
      "(25830, 18)\n"
     ]
    },
    {
     "data": {
      "text/html": [
       "<div>\n",
       "<style scoped>\n",
       "    .dataframe tbody tr th:only-of-type {\n",
       "        vertical-align: middle;\n",
       "    }\n",
       "\n",
       "    .dataframe tbody tr th {\n",
       "        vertical-align: top;\n",
       "    }\n",
       "\n",
       "    .dataframe thead th {\n",
       "        text-align: right;\n",
       "    }\n",
       "</style>\n",
       "<table border=\"1\" class=\"dataframe\">\n",
       "  <thead>\n",
       "    <tr style=\"text-align: right;\">\n",
       "      <th></th>\n",
       "      <th>CSN</th>\n",
       "      <th>orig_len</th>\n",
       "      <th>orig_covered</th>\n",
       "      <th>orig_total</th>\n",
       "      <th>orig_coverage</th>\n",
       "      <th>best_len</th>\n",
       "      <th>best_covered</th>\n",
       "      <th>best_total</th>\n",
       "      <th>best_coverage</th>\n",
       "      <th>HR_covered</th>\n",
       "      <th>HR_total</th>\n",
       "      <th>RR_covered</th>\n",
       "      <th>RR_total</th>\n",
       "      <th>SpO2_covered</th>\n",
       "      <th>SpO2_total</th>\n",
       "      <th>MAP_covered</th>\n",
       "      <th>MAP_total</th>\n",
       "      <th>runtime</th>\n",
       "    </tr>\n",
       "  </thead>\n",
       "  <tbody>\n",
       "    <tr>\n",
       "      <th>0</th>\n",
       "      <td>131305340187</td>\n",
       "      <td>6</td>\n",
       "      <td>718</td>\n",
       "      <td>1190</td>\n",
       "      <td>0.603361</td>\n",
       "      <td>6</td>\n",
       "      <td>1049</td>\n",
       "      <td>1190</td>\n",
       "      <td>0.881513</td>\n",
       "      <td>281</td>\n",
       "      <td>298</td>\n",
       "      <td>265</td>\n",
       "      <td>293</td>\n",
       "      <td>276</td>\n",
       "      <td>304</td>\n",
       "      <td>227</td>\n",
       "      <td>295</td>\n",
       "      <td>63.234995</td>\n",
       "    </tr>\n",
       "    <tr>\n",
       "      <th>1</th>\n",
       "      <td>131295823551</td>\n",
       "      <td>4</td>\n",
       "      <td>683</td>\n",
       "      <td>1130</td>\n",
       "      <td>0.604425</td>\n",
       "      <td>4</td>\n",
       "      <td>922</td>\n",
       "      <td>1130</td>\n",
       "      <td>0.815929</td>\n",
       "      <td>199</td>\n",
       "      <td>217</td>\n",
       "      <td>142</td>\n",
       "      <td>217</td>\n",
       "      <td>260</td>\n",
       "      <td>351</td>\n",
       "      <td>321</td>\n",
       "      <td>345</td>\n",
       "      <td>69.240899</td>\n",
       "    </tr>\n",
       "    <tr>\n",
       "      <th>2</th>\n",
       "      <td>131318324804</td>\n",
       "      <td>3</td>\n",
       "      <td>321</td>\n",
       "      <td>371</td>\n",
       "      <td>0.865229</td>\n",
       "      <td>3</td>\n",
       "      <td>353</td>\n",
       "      <td>371</td>\n",
       "      <td>0.951482</td>\n",
       "      <td>98</td>\n",
       "      <td>102</td>\n",
       "      <td>89</td>\n",
       "      <td>102</td>\n",
       "      <td>102</td>\n",
       "      <td>102</td>\n",
       "      <td>64</td>\n",
       "      <td>65</td>\n",
       "      <td>22.002185</td>\n",
       "    </tr>\n",
       "  </tbody>\n",
       "</table>\n",
       "</div>"
      ],
      "text/plain": [
       "            CSN  orig_len  orig_covered  orig_total  orig_coverage  best_len  \\\n",
       "0  131305340187         6           718        1190       0.603361         6   \n",
       "1  131295823551         4           683        1130       0.604425         4   \n",
       "2  131318324804         3           321         371       0.865229         3   \n",
       "\n",
       "   best_covered  best_total  best_coverage  HR_covered  HR_total  RR_covered  \\\n",
       "0          1049        1190       0.881513         281       298         265   \n",
       "1           922        1130       0.815929         199       217         142   \n",
       "2           353         371       0.951482          98       102          89   \n",
       "\n",
       "   RR_total  SpO2_covered  SpO2_total  MAP_covered  MAP_total    runtime  \n",
       "0       293           276         304          227        295  63.234995  \n",
       "1       217           260         351          321        345  69.240899  \n",
       "2       102           102         102           64         65  22.002185  "
      ]
     },
     "execution_count": 143,
     "metadata": {},
     "output_type": "execute_result"
    }
   ],
   "source": [
    "df_optimal = pd.read_csv(\"/deep/group/physiologic-states/v3/optimizing_coverage_population.optimal.csv\")\n",
    "print(df_optimal.shape)\n",
    "df_optimal.head(3)"
   ]
  },
  {
   "cell_type": "code",
   "execution_count": 144,
   "id": "ba63915b",
   "metadata": {},
   "outputs": [],
   "source": [
    "index_to_csn = {}\n",
    "for k, row in df_optimal.iterrows():\n",
    "    index_to_csn[k] = row[\"CSN\"]"
   ]
  },
  {
   "cell_type": "code",
   "execution_count": 145,
   "id": "7cf2e24d",
   "metadata": {},
   "outputs": [
    {
     "name": "stdout",
     "output_type": "stream",
     "text": [
      "dict_keys(['output_times'])\n"
     ]
    }
   ],
   "source": [
    "with open(\"/deep/group/physiologic-states/v3/optimizing_coverage_population.optimal.pkl\", 'rb') as f: \n",
    "    b = pickle.loads(f.read())\n",
    "    print(b.keys())"
   ]
  },
  {
   "cell_type": "code",
   "execution_count": 146,
   "id": "9fbac78c",
   "metadata": {},
   "outputs": [
    {
     "name": "stderr",
     "output_type": "stream",
     "text": [
      "25830it [00:00, 41290.32it/s]\n"
     ]
    },
    {
     "data": {
      "image/png": "[encoded data removed]",
      "text/plain": [
       "<Figure size 640x480 with 1 Axes>"
      ]
     },
     "metadata": {},
     "output_type": "display_data"
    }
   ],
   "source": [
    "relative_placements = get_optimal_relative_placement_data(b, index_to_csn)\n",
    "plt.hist(relative_placements, bins=50, alpha=0.7, rwidth=0.85)\n",
    "plt.grid(axis='y', alpha=0.75)\n",
    "plt.xlabel('Charted Relative Location')\n",
    "plt.ylabel('Frequency')\n",
    "plt.show()"
   ]
  },
  {
   "cell_type": "markdown",
   "id": "593e7951",
   "metadata": {},
   "source": [
    "### HR"
   ]
  },
  {
   "cell_type": "code",
   "execution_count": 40,
   "id": "0b22f6e3",
   "metadata": {},
   "outputs": [
    {
     "name": "stdout",
     "output_type": "stream",
     "text": [
      "(25791, 12)\n"
     ]
    },
    {
     "data": {
      "text/html": [
       "<div>\n",
       "<style scoped>\n",
       "    .dataframe tbody tr th:only-of-type {\n",
       "        vertical-align: middle;\n",
       "    }\n",
       "\n",
       "    .dataframe tbody tr th {\n",
       "        vertical-align: top;\n",
       "    }\n",
       "\n",
       "    .dataframe thead th {\n",
       "        text-align: right;\n",
       "    }\n",
       "</style>\n",
       "<table border=\"1\" class=\"dataframe\">\n",
       "  <thead>\n",
       "    <tr style=\"text-align: right;\">\n",
       "      <th></th>\n",
       "      <th>CSN</th>\n",
       "      <th>orig_len</th>\n",
       "      <th>orig_covered</th>\n",
       "      <th>orig_total</th>\n",
       "      <th>orig_coverage</th>\n",
       "      <th>best_len</th>\n",
       "      <th>best_covered</th>\n",
       "      <th>best_total</th>\n",
       "      <th>best_coverage</th>\n",
       "      <th>HR_covered</th>\n",
       "      <th>HR_total</th>\n",
       "      <th>runtime</th>\n",
       "    </tr>\n",
       "  </thead>\n",
       "  <tbody>\n",
       "    <tr>\n",
       "      <th>0</th>\n",
       "      <td>131313966405</td>\n",
       "      <td>3</td>\n",
       "      <td>61</td>\n",
       "      <td>86</td>\n",
       "      <td>0.709302</td>\n",
       "      <td>3</td>\n",
       "      <td>68</td>\n",
       "      <td>86</td>\n",
       "      <td>0.790698</td>\n",
       "      <td>68</td>\n",
       "      <td>86</td>\n",
       "      <td>6.365554</td>\n",
       "    </tr>\n",
       "    <tr>\n",
       "      <th>1</th>\n",
       "      <td>131296982741</td>\n",
       "      <td>5</td>\n",
       "      <td>72</td>\n",
       "      <td>130</td>\n",
       "      <td>0.553846</td>\n",
       "      <td>5</td>\n",
       "      <td>106</td>\n",
       "      <td>130</td>\n",
       "      <td>0.815385</td>\n",
       "      <td>106</td>\n",
       "      <td>130</td>\n",
       "      <td>8.221853</td>\n",
       "    </tr>\n",
       "    <tr>\n",
       "      <th>2</th>\n",
       "      <td>131295712574</td>\n",
       "      <td>4</td>\n",
       "      <td>61</td>\n",
       "      <td>160</td>\n",
       "      <td>0.381250</td>\n",
       "      <td>4</td>\n",
       "      <td>153</td>\n",
       "      <td>160</td>\n",
       "      <td>0.956250</td>\n",
       "      <td>153</td>\n",
       "      <td>160</td>\n",
       "      <td>12.300475</td>\n",
       "    </tr>\n",
       "  </tbody>\n",
       "</table>\n",
       "</div>"
      ],
      "text/plain": [
       "            CSN  orig_len  orig_covered  orig_total  orig_coverage  best_len  \\\n",
       "0  131313966405         3            61          86       0.709302         3   \n",
       "1  131296982741         5            72         130       0.553846         5   \n",
       "2  131295712574         4            61         160       0.381250         4   \n",
       "\n",
       "   best_covered  best_total  best_coverage  HR_covered  HR_total    runtime  \n",
       "0            68          86       0.790698          68        86   6.365554  \n",
       "1           106         130       0.815385         106       130   8.221853  \n",
       "2           153         160       0.956250         153       160  12.300475  "
      ]
     },
     "execution_count": 40,
     "metadata": {},
     "output_type": "execute_result"
    }
   ],
   "source": [
    "df_optimal = pd.read_csv(\"/deep/group/physiologic-states/v3/optimizing_coverage_population.optimal.hr.csv\")\n",
    "print(df_optimal.shape)\n",
    "df_optimal.head(3)"
   ]
  },
  {
   "cell_type": "code",
   "execution_count": 41,
   "id": "0c81ef79",
   "metadata": {},
   "outputs": [],
   "source": [
    "index_to_csn = {}\n",
    "for k, row in df_optimal.iterrows():\n",
    "    index_to_csn[k] = row[\"CSN\"]"
   ]
  },
  {
   "cell_type": "code",
   "execution_count": 42,
   "id": "42499998",
   "metadata": {},
   "outputs": [
    {
     "name": "stdout",
     "output_type": "stream",
     "text": [
      "dict_keys(['output_times'])\n"
     ]
    }
   ],
   "source": [
    "with open(\"/deep/group/physiologic-states/v3/optimizing_coverage_population.optimal.hr.pkl\", 'rb') as f: \n",
    "    b = pickle.loads(f.read())\n",
    "    print(b.keys())"
   ]
  },
  {
   "cell_type": "code",
   "execution_count": 43,
   "id": "fe4d14a5",
   "metadata": {},
   "outputs": [
    {
     "name": "stderr",
     "output_type": "stream",
     "text": [
      "25791it [00:00, 96773.27it/s]\n"
     ]
    },
    {
     "data": {
      "image/png": "[encoded data removed]",
      "text/plain": [
       "<Figure size 1200x200 with 1 Axes>"
      ]
     },
     "metadata": {},
     "output_type": "display_data"
    }
   ],
   "source": [
    "relative_placements = get_optimal_relative_placement_data(b, index_to_csn)\n",
    "\n",
    "a4_dims = (12, 2)\n",
    "fig, ax = plt.subplots(figsize=a4_dims)\n",
    "weights = np.ones_like(relative_placements)/float(len(relative_placements))\n",
    "plt.hist(relative_placements, bins=50, alpha=0.7, rwidth=0.85, weights=weights)\n",
    "plt.grid(axis='y', alpha=0.75)\n",
    "plt.xlabel('Charted Relative Location')\n",
    "plt.ylabel('Frequency\\n(Genetic Algorithm)')\n",
    "# plt.ylim([0, 0.25])\n",
    "plt.show()"
   ]
  },
  {
   "cell_type": "code",
   "execution_count": 89,
   "id": "55927607",
   "metadata": {},
   "outputs": [
    {
     "name": "stderr",
     "output_type": "stream",
     "text": [
      "25791it [00:00, 78406.76it/s]\n"
     ]
    },
    {
     "data": {
      "image/png": "[encoded data removed]",
      "text/plain": [
       "<Figure size 640x480 with 1 Axes>"
      ]
     },
     "metadata": {},
     "output_type": "display_data"
    }
   ],
   "source": [
    "relative_placements = get_optimal_relative_placement_data(b, index_to_csn)\n",
    "weights = np.ones_like(relative_placements)/float(len(relative_placements))\n",
    "plt.hist(relative_placements, bins=50, alpha=0.7, rwidth=0.85, weights=weights)\n",
    "plt.grid(axis='y', alpha=0.75)\n",
    "plt.xlabel('Charted Relative Location')\n",
    "plt.ylabel('Frequency')\n",
    "plt.ylim([0, 0.25])\n",
    "plt.show()"
   ]
  },
  {
   "cell_type": "code",
   "execution_count": null,
   "id": "9c30201b",
   "metadata": {},
   "outputs": [],
   "source": []
  },
  {
   "cell_type": "code",
   "execution_count": null,
   "id": "ffbf2b26",
   "metadata": {},
   "outputs": [],
   "source": []
  },
  {
   "cell_type": "code",
   "execution_count": null,
   "id": "8b59a119",
   "metadata": {},
   "outputs": [],
   "source": []
  },
  {
   "cell_type": "code",
   "execution_count": null,
   "id": "8dd4d560",
   "metadata": {},
   "outputs": [],
   "source": []
  },
  {
   "cell_type": "code",
   "execution_count": null,
   "id": "75c9c62a",
   "metadata": {},
   "outputs": [],
   "source": []
  },
  {
   "cell_type": "code",
   "execution_count": null,
   "id": "b6eaee06",
   "metadata": {},
   "outputs": [],
   "source": []
  }
 ],
 "metadata": {
  "kernelspec": {
   "display_name": "Python 3",
   "language": "python",
   "name": "python3"
  },
  "language_info": {
   "codemirror_mode": {
    "name": "ipython",
    "version": 3
   },
   "file_extension": ".py",
   "mimetype": "text/x-python",
   "name": "python",
   "nbconvert_exporter": "python",
   "pygments_lexer": "ipython3",
   "version": "3.7.10"
  }
 },
 "nbformat": 4,
 "nbformat_minor": 5
}
